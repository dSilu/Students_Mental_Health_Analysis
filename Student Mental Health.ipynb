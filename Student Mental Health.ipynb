{
 "cells": [
  {
   "cell_type": "markdown",
   "metadata": {},
   "source": [
    "## EDA: Mental Health of Students\n",
    "\n",
    "---\n",
    "---"
   ]
  },
  {
   "cell_type": "code",
   "execution_count": 1,
   "metadata": {},
   "outputs": [
    {
     "data": {
      "text/html": [
       "<div class=\"bk-root\">\n",
       "        <a href=\"https://bokeh.org\" target=\"_blank\" class=\"bk-logo bk-logo-small bk-logo-notebook\"></a>\n",
       "        <span id=\"1002\">Loading BokehJS ...</span>\n",
       "    </div>\n"
      ]
     },
     "metadata": {},
     "output_type": "display_data"
    },
    {
     "data": {
      "application/javascript": "(function(root) {\n  function now() {\n    return new Date();\n  }\n\n  const force = true;\n\n  if (typeof root._bokeh_onload_callbacks === \"undefined\" || force === true) {\n    root._bokeh_onload_callbacks = [];\n    root._bokeh_is_loading = undefined;\n  }\n\nconst JS_MIME_TYPE = 'application/javascript';\n  const HTML_MIME_TYPE = 'text/html';\n  const EXEC_MIME_TYPE = 'application/vnd.bokehjs_exec.v0+json';\n  const CLASS_NAME = 'output_bokeh rendered_html';\n\n  /**\n   * Render data to the DOM node\n   */\n  function render(props, node) {\n    const script = document.createElement(\"script\");\n    node.appendChild(script);\n  }\n\n  /**\n   * Handle when an output is cleared or removed\n   */\n  function handleClearOutput(event, handle) {\n    const cell = handle.cell;\n\n    const id = cell.output_area._bokeh_element_id;\n    const server_id = cell.output_area._bokeh_server_id;\n    // Clean up Bokeh references\n    if (id != null && id in Bokeh.index) {\n      Bokeh.index[id].model.document.clear();\n      delete Bokeh.index[id];\n    }\n\n    if (server_id !== undefined) {\n      // Clean up Bokeh references\n      const cmd_clean = \"from bokeh.io.state import curstate; print(curstate().uuid_to_server['\" + server_id + \"'].get_sessions()[0].document.roots[0]._id)\";\n      cell.notebook.kernel.execute(cmd_clean, {\n        iopub: {\n          output: function(msg) {\n            const id = msg.content.text.trim();\n            if (id in Bokeh.index) {\n              Bokeh.index[id].model.document.clear();\n              delete Bokeh.index[id];\n            }\n          }\n        }\n      });\n      // Destroy server and session\n      const cmd_destroy = \"import bokeh.io.notebook as ion; ion.destroy_server('\" + server_id + \"')\";\n      cell.notebook.kernel.execute(cmd_destroy);\n    }\n  }\n\n  /**\n   * Handle when a new output is added\n   */\n  function handleAddOutput(event, handle) {\n    const output_area = handle.output_area;\n    const output = handle.output;\n\n    // limit handleAddOutput to display_data with EXEC_MIME_TYPE content only\n    if ((output.output_type != \"display_data\") || (!Object.prototype.hasOwnProperty.call(output.data, EXEC_MIME_TYPE))) {\n      return\n    }\n\n    const toinsert = output_area.element.find(\".\" + CLASS_NAME.split(' ')[0]);\n\n    if (output.metadata[EXEC_MIME_TYPE][\"id\"] !== undefined) {\n      toinsert[toinsert.length - 1].firstChild.textContent = output.data[JS_MIME_TYPE];\n      // store reference to embed id on output_area\n      output_area._bokeh_element_id = output.metadata[EXEC_MIME_TYPE][\"id\"];\n    }\n    if (output.metadata[EXEC_MIME_TYPE][\"server_id\"] !== undefined) {\n      const bk_div = document.createElement(\"div\");\n      bk_div.innerHTML = output.data[HTML_MIME_TYPE];\n      const script_attrs = bk_div.children[0].attributes;\n      for (let i = 0; i < script_attrs.length; i++) {\n        toinsert[toinsert.length - 1].firstChild.setAttribute(script_attrs[i].name, script_attrs[i].value);\n        toinsert[toinsert.length - 1].firstChild.textContent = bk_div.children[0].textContent\n      }\n      // store reference to server id on output_area\n      output_area._bokeh_server_id = output.metadata[EXEC_MIME_TYPE][\"server_id\"];\n    }\n  }\n\n  function register_renderer(events, OutputArea) {\n\n    function append_mime(data, metadata, element) {\n      // create a DOM node to render to\n      const toinsert = this.create_output_subarea(\n        metadata,\n        CLASS_NAME,\n        EXEC_MIME_TYPE\n      );\n      this.keyboard_manager.register_events(toinsert);\n      // Render to node\n      const props = {data: data, metadata: metadata[EXEC_MIME_TYPE]};\n      render(props, toinsert[toinsert.length - 1]);\n      element.append(toinsert);\n      return toinsert\n    }\n\n    /* Handle when an output is cleared or removed */\n    events.on('clear_output.CodeCell', handleClearOutput);\n    events.on('delete.Cell', handleClearOutput);\n\n    /* Handle when a new output is added */\n    events.on('output_added.OutputArea', handleAddOutput);\n\n    /**\n     * Register the mime type and append_mime function with output_area\n     */\n    OutputArea.prototype.register_mime_type(EXEC_MIME_TYPE, append_mime, {\n      /* Is output safe? */\n      safe: true,\n      /* Index of renderer in `output_area.display_order` */\n      index: 0\n    });\n  }\n\n  // register the mime type if in Jupyter Notebook environment and previously unregistered\n  if (root.Jupyter !== undefined) {\n    const events = require('base/js/events');\n    const OutputArea = require('notebook/js/outputarea').OutputArea;\n\n    if (OutputArea.prototype.mime_types().indexOf(EXEC_MIME_TYPE) == -1) {\n      register_renderer(events, OutputArea);\n    }\n  }\n  if (typeof (root._bokeh_timeout) === \"undefined\" || force === true) {\n    root._bokeh_timeout = Date.now() + 5000;\n    root._bokeh_failed_load = false;\n  }\n\n  const NB_LOAD_WARNING = {'data': {'text/html':\n     \"<div style='background-color: #fdd'>\\n\"+\n     \"<p>\\n\"+\n     \"BokehJS does not appear to have successfully loaded. If loading BokehJS from CDN, this \\n\"+\n     \"may be due to a slow or bad network connection. Possible fixes:\\n\"+\n     \"</p>\\n\"+\n     \"<ul>\\n\"+\n     \"<li>re-rerun `output_notebook()` to attempt to load from CDN again, or</li>\\n\"+\n     \"<li>use INLINE resources instead, as so:</li>\\n\"+\n     \"</ul>\\n\"+\n     \"<code>\\n\"+\n     \"from bokeh.resources import INLINE\\n\"+\n     \"output_notebook(resources=INLINE)\\n\"+\n     \"</code>\\n\"+\n     \"</div>\"}};\n\n  function display_loaded() {\n    const el = document.getElementById(\"1002\");\n    if (el != null) {\n      el.textContent = \"BokehJS is loading...\";\n    }\n    if (root.Bokeh !== undefined) {\n      if (el != null) {\n        el.textContent = \"BokehJS \" + root.Bokeh.version + \" successfully loaded.\";\n      }\n    } else if (Date.now() < root._bokeh_timeout) {\n      setTimeout(display_loaded, 100)\n    }\n  }\n\n  function run_callbacks() {\n    try {\n      root._bokeh_onload_callbacks.forEach(function(callback) {\n        if (callback != null)\n          callback();\n      });\n    } finally {\n      delete root._bokeh_onload_callbacks\n    }\n    console.debug(\"Bokeh: all callbacks have finished\");\n  }\n\n  function load_libs(css_urls, js_urls, callback) {\n    if (css_urls == null) css_urls = [];\n    if (js_urls == null) js_urls = [];\n\n    root._bokeh_onload_callbacks.push(callback);\n    if (root._bokeh_is_loading > 0) {\n      console.debug(\"Bokeh: BokehJS is being loaded, scheduling callback at\", now());\n      return null;\n    }\n    if (js_urls == null || js_urls.length === 0) {\n      run_callbacks();\n      return null;\n    }\n    console.debug(\"Bokeh: BokehJS not loaded, scheduling load and callback at\", now());\n    root._bokeh_is_loading = css_urls.length + js_urls.length;\n\n    function on_load() {\n      root._bokeh_is_loading--;\n      if (root._bokeh_is_loading === 0) {\n        console.debug(\"Bokeh: all BokehJS libraries/stylesheets loaded\");\n        run_callbacks()\n      }\n    }\n\n    function on_error(url) {\n      console.error(\"failed to load \" + url);\n    }\n\n    for (let i = 0; i < css_urls.length; i++) {\n      const url = css_urls[i];\n      const element = document.createElement(\"link\");\n      element.onload = on_load;\n      element.onerror = on_error.bind(null, url);\n      element.rel = \"stylesheet\";\n      element.type = \"text/css\";\n      element.href = url;\n      console.debug(\"Bokeh: injecting link tag for BokehJS stylesheet: \", url);\n      document.body.appendChild(element);\n    }\n\n    for (let i = 0; i < js_urls.length; i++) {\n      const url = js_urls[i];\n      const element = document.createElement('script');\n      element.onload = on_load;\n      element.onerror = on_error.bind(null, url);\n      element.async = false;\n      element.src = url;\n      console.debug(\"Bokeh: injecting script tag for BokehJS library: \", url);\n      document.head.appendChild(element);\n    }\n  };\n\n  function inject_raw_css(css) {\n    const element = document.createElement(\"style\");\n    element.appendChild(document.createTextNode(css));\n    document.body.appendChild(element);\n  }\n\n  const js_urls = [\"https://cdn.bokeh.org/bokeh/release/bokeh-2.4.3.min.js\", \"https://cdn.bokeh.org/bokeh/release/bokeh-gl-2.4.3.min.js\", \"https://cdn.bokeh.org/bokeh/release/bokeh-widgets-2.4.3.min.js\", \"https://cdn.bokeh.org/bokeh/release/bokeh-tables-2.4.3.min.js\", \"https://cdn.bokeh.org/bokeh/release/bokeh-mathjax-2.4.3.min.js\"];\n  const css_urls = [];\n\n  const inline_js = [    function(Bokeh) {\n      Bokeh.set_log_level(\"info\");\n    },\nfunction(Bokeh) {\n    }\n  ];\n\n  function run_inline_js() {\n    if (root.Bokeh !== undefined || force === true) {\n          for (let i = 0; i < inline_js.length; i++) {\n      inline_js[i].call(root, root.Bokeh);\n    }\nif (force === true) {\n        display_loaded();\n      }} else if (Date.now() < root._bokeh_timeout) {\n      setTimeout(run_inline_js, 100);\n    } else if (!root._bokeh_failed_load) {\n      console.log(\"Bokeh: BokehJS failed to load within specified timeout.\");\n      root._bokeh_failed_load = true;\n    } else if (force !== true) {\n      const cell = $(document.getElementById(\"1002\")).parents('.cell').data().cell;\n      cell.output_area.append_execute_result(NB_LOAD_WARNING)\n    }\n  }\n\n  if (root._bokeh_is_loading === 0) {\n    console.debug(\"Bokeh: BokehJS loaded, going straight to plotting\");\n    run_inline_js();\n  } else {\n    load_libs(css_urls, js_urls, function() {\n      console.debug(\"Bokeh: BokehJS plotting callback run at\", now());\n      run_inline_js();\n    });\n  }\n}(window));",
      "application/vnd.bokehjs_load.v0+json": ""
     },
     "metadata": {},
     "output_type": "display_data"
    }
   ],
   "source": [
    "# import required libraries\n",
    "\n",
    "import pandas as pd\n",
    "import numpy as np\n",
    "from janitor import clean_names\n",
    "from bokeh.io import output_notebook, show\n",
    "from bokeh.plotting import figure, output_file\n",
    "from bokeh.models import ColumnDataSource\n",
    "from bokeh.models import HoverTool, CategoricalColorMapper\n",
    "from bokeh.models.widgets import DataTable, TableColumn \n",
    "from bokeh.models.widgets import HTMLTemplateFormatter\n",
    "from bokeh.layouts import row, column\n",
    "from bokeh.models.widgets import Tabs, Panel\n",
    "from matplotlib import pyplot as plt\n",
    "from math import pi\n",
    "import seaborn as sns\n",
    "import bokeh\n",
    "import warnings\n",
    "\n",
    "# Settings\n",
    "warnings.filterwarnings('ignore')\n",
    "pd.set_option('display.max_columns', None, \"display.max_rows\", None)\n",
    "output_notebook()"
   ]
  },
  {
   "cell_type": "code",
   "execution_count": 2,
   "metadata": {},
   "outputs": [
    {
     "data": {
      "text/html": [
       "<div>\n",
       "<style scoped>\n",
       "    .dataframe tbody tr th:only-of-type {\n",
       "        vertical-align: middle;\n",
       "    }\n",
       "\n",
       "    .dataframe tbody tr th {\n",
       "        vertical-align: top;\n",
       "    }\n",
       "\n",
       "    .dataframe thead th {\n",
       "        text-align: right;\n",
       "    }\n",
       "</style>\n",
       "<table border=\"1\" class=\"dataframe\">\n",
       "  <thead>\n",
       "    <tr style=\"text-align: right;\">\n",
       "      <th></th>\n",
       "      <th>Timestamp</th>\n",
       "      <th>Choose your gender</th>\n",
       "      <th>Age</th>\n",
       "      <th>What is your course?</th>\n",
       "      <th>Your current year of Study</th>\n",
       "      <th>What is your CGPA?</th>\n",
       "      <th>Marital status</th>\n",
       "      <th>Do you have Depression?</th>\n",
       "      <th>Do you have Anxiety?</th>\n",
       "      <th>Do you have Panic attack?</th>\n",
       "      <th>Did you seek any specialist for a treatment?</th>\n",
       "    </tr>\n",
       "  </thead>\n",
       "  <tbody>\n",
       "    <tr>\n",
       "      <th>0</th>\n",
       "      <td>8/7/2020 12:02</td>\n",
       "      <td>Female</td>\n",
       "      <td>18.0</td>\n",
       "      <td>Engineering</td>\n",
       "      <td>year 1</td>\n",
       "      <td>3.00 - 3.49</td>\n",
       "      <td>No</td>\n",
       "      <td>Yes</td>\n",
       "      <td>No</td>\n",
       "      <td>Yes</td>\n",
       "      <td>No</td>\n",
       "    </tr>\n",
       "    <tr>\n",
       "      <th>1</th>\n",
       "      <td>8/7/2020 12:04</td>\n",
       "      <td>Male</td>\n",
       "      <td>21.0</td>\n",
       "      <td>Islamic education</td>\n",
       "      <td>year 2</td>\n",
       "      <td>3.00 - 3.49</td>\n",
       "      <td>No</td>\n",
       "      <td>No</td>\n",
       "      <td>Yes</td>\n",
       "      <td>No</td>\n",
       "      <td>No</td>\n",
       "    </tr>\n",
       "    <tr>\n",
       "      <th>2</th>\n",
       "      <td>8/7/2020 12:05</td>\n",
       "      <td>Male</td>\n",
       "      <td>19.0</td>\n",
       "      <td>BIT</td>\n",
       "      <td>Year 1</td>\n",
       "      <td>3.00 - 3.49</td>\n",
       "      <td>No</td>\n",
       "      <td>Yes</td>\n",
       "      <td>Yes</td>\n",
       "      <td>Yes</td>\n",
       "      <td>No</td>\n",
       "    </tr>\n",
       "    <tr>\n",
       "      <th>3</th>\n",
       "      <td>8/7/2020 12:06</td>\n",
       "      <td>Female</td>\n",
       "      <td>22.0</td>\n",
       "      <td>Laws</td>\n",
       "      <td>year 3</td>\n",
       "      <td>3.00 - 3.49</td>\n",
       "      <td>Yes</td>\n",
       "      <td>Yes</td>\n",
       "      <td>No</td>\n",
       "      <td>No</td>\n",
       "      <td>No</td>\n",
       "    </tr>\n",
       "    <tr>\n",
       "      <th>4</th>\n",
       "      <td>8/7/2020 12:13</td>\n",
       "      <td>Male</td>\n",
       "      <td>23.0</td>\n",
       "      <td>Mathemathics</td>\n",
       "      <td>year 4</td>\n",
       "      <td>3.00 - 3.49</td>\n",
       "      <td>No</td>\n",
       "      <td>No</td>\n",
       "      <td>No</td>\n",
       "      <td>No</td>\n",
       "      <td>No</td>\n",
       "    </tr>\n",
       "  </tbody>\n",
       "</table>\n",
       "</div>"
      ],
      "text/plain": [
       "        Timestamp Choose your gender   Age What is your course?  \\\n",
       "0  8/7/2020 12:02             Female  18.0          Engineering   \n",
       "1  8/7/2020 12:04               Male  21.0    Islamic education   \n",
       "2  8/7/2020 12:05               Male  19.0                  BIT   \n",
       "3  8/7/2020 12:06             Female  22.0                 Laws   \n",
       "4  8/7/2020 12:13               Male  23.0         Mathemathics   \n",
       "\n",
       "  Your current year of Study What is your CGPA? Marital status  \\\n",
       "0                     year 1        3.00 - 3.49             No   \n",
       "1                     year 2        3.00 - 3.49             No   \n",
       "2                     Year 1        3.00 - 3.49             No   \n",
       "3                     year 3        3.00 - 3.49            Yes   \n",
       "4                     year 4        3.00 - 3.49             No   \n",
       "\n",
       "  Do you have Depression? Do you have Anxiety? Do you have Panic attack?  \\\n",
       "0                     Yes                   No                       Yes   \n",
       "1                      No                  Yes                        No   \n",
       "2                     Yes                  Yes                       Yes   \n",
       "3                     Yes                   No                        No   \n",
       "4                      No                   No                        No   \n",
       "\n",
       "  Did you seek any specialist for a treatment?  \n",
       "0                                           No  \n",
       "1                                           No  \n",
       "2                                           No  \n",
       "3                                           No  \n",
       "4                                           No  "
      ]
     },
     "execution_count": 2,
     "metadata": {},
     "output_type": "execute_result"
    }
   ],
   "source": [
    "df = pd.read_csv(\"Student Mental health.csv\")\n",
    "df.head()"
   ]
  },
  {
   "cell_type": "code",
   "execution_count": 3,
   "metadata": {},
   "outputs": [
    {
     "name": "stdout",
     "output_type": "stream",
     "text": [
      "<class 'pandas.core.frame.DataFrame'>\n",
      "RangeIndex: 101 entries, 0 to 100\n",
      "Data columns (total 11 columns):\n",
      " #   Column                                        Non-Null Count  Dtype  \n",
      "---  ------                                        --------------  -----  \n",
      " 0   Timestamp                                     101 non-null    object \n",
      " 1   Choose your gender                            101 non-null    object \n",
      " 2   Age                                           100 non-null    float64\n",
      " 3   What is your course?                          101 non-null    object \n",
      " 4   Your current year of Study                    101 non-null    object \n",
      " 5   What is your CGPA?                            101 non-null    object \n",
      " 6   Marital status                                101 non-null    object \n",
      " 7   Do you have Depression?                       101 non-null    object \n",
      " 8   Do you have Anxiety?                          101 non-null    object \n",
      " 9   Do you have Panic attack?                     101 non-null    object \n",
      " 10  Did you seek any specialist for a treatment?  101 non-null    object \n",
      "dtypes: float64(1), object(10)\n",
      "memory usage: 8.8+ KB\n"
     ]
    }
   ],
   "source": [
    "df.info()"
   ]
  },
  {
   "cell_type": "markdown",
   "metadata": {},
   "source": [
    "### Data Cleaning\n",
    "\n",
    "---\n",
    "\n",
    "Essential Cleaning steps:\n",
    "\n",
    "1. Change column names\n",
    "2. Remove Extra spaces from rows\n",
    "3. Remove null values\n",
    "4. Change data types \n",
    "5. Check letter case\n",
    "\n"
   ]
  },
  {
   "cell_type": "markdown",
   "metadata": {},
   "source": [
    "##### Change Column names"
   ]
  },
  {
   "cell_type": "code",
   "execution_count": 4,
   "metadata": {},
   "outputs": [
    {
     "data": {
      "text/html": [
       "<div>\n",
       "<style scoped>\n",
       "    .dataframe tbody tr th:only-of-type {\n",
       "        vertical-align: middle;\n",
       "    }\n",
       "\n",
       "    .dataframe tbody tr th {\n",
       "        vertical-align: top;\n",
       "    }\n",
       "\n",
       "    .dataframe thead th {\n",
       "        text-align: right;\n",
       "    }\n",
       "</style>\n",
       "<table border=\"1\" class=\"dataframe\">\n",
       "  <thead>\n",
       "    <tr style=\"text-align: right;\">\n",
       "      <th></th>\n",
       "      <th>date</th>\n",
       "      <th>gender</th>\n",
       "      <th>age</th>\n",
       "      <th>course</th>\n",
       "      <th>study_year</th>\n",
       "      <th>cgpa</th>\n",
       "      <th>marital_status</th>\n",
       "      <th>depression</th>\n",
       "      <th>anxiety</th>\n",
       "      <th>panic_attack</th>\n",
       "      <th>treatment</th>\n",
       "    </tr>\n",
       "  </thead>\n",
       "  <tbody>\n",
       "    <tr>\n",
       "      <th>0</th>\n",
       "      <td>8/7/2020 12:02</td>\n",
       "      <td>Female</td>\n",
       "      <td>18.0</td>\n",
       "      <td>Engineering</td>\n",
       "      <td>year 1</td>\n",
       "      <td>3.00 - 3.49</td>\n",
       "      <td>No</td>\n",
       "      <td>Yes</td>\n",
       "      <td>No</td>\n",
       "      <td>Yes</td>\n",
       "      <td>No</td>\n",
       "    </tr>\n",
       "    <tr>\n",
       "      <th>1</th>\n",
       "      <td>8/7/2020 12:04</td>\n",
       "      <td>Male</td>\n",
       "      <td>21.0</td>\n",
       "      <td>Islamic education</td>\n",
       "      <td>year 2</td>\n",
       "      <td>3.00 - 3.49</td>\n",
       "      <td>No</td>\n",
       "      <td>No</td>\n",
       "      <td>Yes</td>\n",
       "      <td>No</td>\n",
       "      <td>No</td>\n",
       "    </tr>\n",
       "    <tr>\n",
       "      <th>2</th>\n",
       "      <td>8/7/2020 12:05</td>\n",
       "      <td>Male</td>\n",
       "      <td>19.0</td>\n",
       "      <td>BIT</td>\n",
       "      <td>Year 1</td>\n",
       "      <td>3.00 - 3.49</td>\n",
       "      <td>No</td>\n",
       "      <td>Yes</td>\n",
       "      <td>Yes</td>\n",
       "      <td>Yes</td>\n",
       "      <td>No</td>\n",
       "    </tr>\n",
       "    <tr>\n",
       "      <th>3</th>\n",
       "      <td>8/7/2020 12:06</td>\n",
       "      <td>Female</td>\n",
       "      <td>22.0</td>\n",
       "      <td>Laws</td>\n",
       "      <td>year 3</td>\n",
       "      <td>3.00 - 3.49</td>\n",
       "      <td>Yes</td>\n",
       "      <td>Yes</td>\n",
       "      <td>No</td>\n",
       "      <td>No</td>\n",
       "      <td>No</td>\n",
       "    </tr>\n",
       "    <tr>\n",
       "      <th>4</th>\n",
       "      <td>8/7/2020 12:13</td>\n",
       "      <td>Male</td>\n",
       "      <td>23.0</td>\n",
       "      <td>Mathemathics</td>\n",
       "      <td>year 4</td>\n",
       "      <td>3.00 - 3.49</td>\n",
       "      <td>No</td>\n",
       "      <td>No</td>\n",
       "      <td>No</td>\n",
       "      <td>No</td>\n",
       "      <td>No</td>\n",
       "    </tr>\n",
       "  </tbody>\n",
       "</table>\n",
       "</div>"
      ],
      "text/plain": [
       "             date  gender   age             course study_year         cgpa  \\\n",
       "0  8/7/2020 12:02  Female  18.0        Engineering     year 1  3.00 - 3.49   \n",
       "1  8/7/2020 12:04    Male  21.0  Islamic education     year 2  3.00 - 3.49   \n",
       "2  8/7/2020 12:05    Male  19.0                BIT     Year 1  3.00 - 3.49   \n",
       "3  8/7/2020 12:06  Female  22.0               Laws     year 3  3.00 - 3.49   \n",
       "4  8/7/2020 12:13    Male  23.0       Mathemathics     year 4  3.00 - 3.49   \n",
       "\n",
       "  marital_status depression anxiety panic_attack treatment  \n",
       "0             No        Yes      No          Yes        No  \n",
       "1             No         No     Yes           No        No  \n",
       "2             No        Yes     Yes          Yes        No  \n",
       "3            Yes        Yes      No           No        No  \n",
       "4             No         No      No           No        No  "
      ]
     },
     "execution_count": 4,
     "metadata": {},
     "output_type": "execute_result"
    }
   ],
   "source": [
    "# new column names\n",
    "cols = \"DATE, Gender, Age, Course, Study Year, CGPA, Marital Status, Depression, Anxiety, Panic Attack, Treatment\".split(\", \") \n",
    "\n",
    "# rename columns\n",
    "df.columns = cols\n",
    "\n",
    "# clean column names\n",
    "df = clean_names(df)\n",
    "\n",
    "# output\n",
    "df.head()"
   ]
  },
  {
   "cell_type": "markdown",
   "metadata": {},
   "source": [
    "##### Missing Values (& Their Treatment)"
   ]
  },
  {
   "cell_type": "code",
   "execution_count": 5,
   "metadata": {},
   "outputs": [
    {
     "data": {
      "text/plain": [
       "date              0\n",
       "gender            0\n",
       "age               1\n",
       "course            0\n",
       "study_year        0\n",
       "cgpa              0\n",
       "marital_status    0\n",
       "depression        0\n",
       "anxiety           0\n",
       "panic_attack      0\n",
       "treatment         0\n",
       "dtype: int64"
      ]
     },
     "execution_count": 5,
     "metadata": {},
     "output_type": "execute_result"
    }
   ],
   "source": [
    "df.isna().sum()"
   ]
  },
  {
   "cell_type": "code",
   "execution_count": 6,
   "metadata": {},
   "outputs": [
    {
     "data": {
      "text/html": [
       "<div>\n",
       "<style scoped>\n",
       "    .dataframe tbody tr th:only-of-type {\n",
       "        vertical-align: middle;\n",
       "    }\n",
       "\n",
       "    .dataframe tbody tr th {\n",
       "        vertical-align: top;\n",
       "    }\n",
       "\n",
       "    .dataframe thead th {\n",
       "        text-align: right;\n",
       "    }\n",
       "</style>\n",
       "<table border=\"1\" class=\"dataframe\">\n",
       "  <thead>\n",
       "    <tr style=\"text-align: right;\">\n",
       "      <th></th>\n",
       "      <th>date</th>\n",
       "      <th>gender</th>\n",
       "      <th>age</th>\n",
       "      <th>course</th>\n",
       "      <th>study_year</th>\n",
       "      <th>cgpa</th>\n",
       "      <th>marital_status</th>\n",
       "      <th>depression</th>\n",
       "      <th>anxiety</th>\n",
       "      <th>panic_attack</th>\n",
       "      <th>treatment</th>\n",
       "    </tr>\n",
       "  </thead>\n",
       "  <tbody>\n",
       "    <tr>\n",
       "      <th>43</th>\n",
       "      <td>8/7/2020 15:07</td>\n",
       "      <td>Male</td>\n",
       "      <td>NaN</td>\n",
       "      <td>BIT</td>\n",
       "      <td>year 1</td>\n",
       "      <td>0 - 1.99</td>\n",
       "      <td>No</td>\n",
       "      <td>No</td>\n",
       "      <td>No</td>\n",
       "      <td>No</td>\n",
       "      <td>No</td>\n",
       "    </tr>\n",
       "  </tbody>\n",
       "</table>\n",
       "</div>"
      ],
      "text/plain": [
       "              date gender  age course study_year      cgpa marital_status  \\\n",
       "43  8/7/2020 15:07   Male  NaN    BIT     year 1  0 - 1.99             No   \n",
       "\n",
       "   depression anxiety panic_attack treatment  \n",
       "43         No      No           No        No  "
      ]
     },
     "execution_count": 6,
     "metadata": {},
     "output_type": "execute_result"
    }
   ],
   "source": [
    "# Where is the missing value?\n",
    "df[df.age.isna()== True]"
   ]
  },
  {
   "cell_type": "markdown",
   "metadata": {},
   "source": [
    "- There's one missing value in 'Age' column. \n",
    "\n",
    "- The students is in 1st year. So we can change it to anything between 18-21.\n",
    "\n",
    "- He has no depression, nor any anxiety, but has poor CGPA.\n",
    "\n",
    "- Hence, I'm considering him 20 years old."
   ]
  },
  {
   "cell_type": "code",
   "execution_count": 7,
   "metadata": {},
   "outputs": [
    {
     "data": {
      "text/plain": [
       "date              0\n",
       "gender            0\n",
       "age               0\n",
       "course            0\n",
       "study_year        0\n",
       "cgpa              0\n",
       "marital_status    0\n",
       "depression        0\n",
       "anxiety           0\n",
       "panic_attack      0\n",
       "treatment         0\n",
       "dtype: int64"
      ]
     },
     "execution_count": 7,
     "metadata": {},
     "output_type": "execute_result"
    }
   ],
   "source": [
    "# Replace null value with 20\n",
    "df.age = df.age.fillna(20)\n",
    "\n",
    "# cross check\n",
    "df.isnull().sum()"
   ]
  },
  {
   "cell_type": "markdown",
   "metadata": {},
   "source": [
    "We're clear to go ahead."
   ]
  },
  {
   "cell_type": "markdown",
   "metadata": {},
   "source": [
    "##### Change Data Types\n",
    "\n",
    "- Date and Age column require a change in their data types."
   ]
  },
  {
   "cell_type": "code",
   "execution_count": 8,
   "metadata": {},
   "outputs": [],
   "source": [
    "df.date = pd.to_datetime(df.date) # date time\n",
    "df.age = df.age.astype('int')   # float to integer"
   ]
  },
  {
   "cell_type": "code",
   "execution_count": 9,
   "metadata": {},
   "outputs": [
    {
     "data": {
      "text/html": [
       "<div>\n",
       "<style scoped>\n",
       "    .dataframe tbody tr th:only-of-type {\n",
       "        vertical-align: middle;\n",
       "    }\n",
       "\n",
       "    .dataframe tbody tr th {\n",
       "        vertical-align: top;\n",
       "    }\n",
       "\n",
       "    .dataframe thead th {\n",
       "        text-align: right;\n",
       "    }\n",
       "</style>\n",
       "<table border=\"1\" class=\"dataframe\">\n",
       "  <thead>\n",
       "    <tr style=\"text-align: right;\">\n",
       "      <th></th>\n",
       "      <th>date</th>\n",
       "      <th>gender</th>\n",
       "      <th>age</th>\n",
       "      <th>course</th>\n",
       "      <th>study_year</th>\n",
       "      <th>cgpa</th>\n",
       "      <th>marital_status</th>\n",
       "      <th>depression</th>\n",
       "      <th>anxiety</th>\n",
       "      <th>panic_attack</th>\n",
       "      <th>treatment</th>\n",
       "    </tr>\n",
       "  </thead>\n",
       "  <tbody>\n",
       "    <tr>\n",
       "      <th>0</th>\n",
       "      <td>2020-08-07 12:02:00</td>\n",
       "      <td>Female</td>\n",
       "      <td>18</td>\n",
       "      <td>Engineering</td>\n",
       "      <td>year 1</td>\n",
       "      <td>3.00 - 3.49</td>\n",
       "      <td>No</td>\n",
       "      <td>Yes</td>\n",
       "      <td>No</td>\n",
       "      <td>Yes</td>\n",
       "      <td>No</td>\n",
       "    </tr>\n",
       "    <tr>\n",
       "      <th>1</th>\n",
       "      <td>2020-08-07 12:04:00</td>\n",
       "      <td>Male</td>\n",
       "      <td>21</td>\n",
       "      <td>Islamic education</td>\n",
       "      <td>year 2</td>\n",
       "      <td>3.00 - 3.49</td>\n",
       "      <td>No</td>\n",
       "      <td>No</td>\n",
       "      <td>Yes</td>\n",
       "      <td>No</td>\n",
       "      <td>No</td>\n",
       "    </tr>\n",
       "    <tr>\n",
       "      <th>2</th>\n",
       "      <td>2020-08-07 12:05:00</td>\n",
       "      <td>Male</td>\n",
       "      <td>19</td>\n",
       "      <td>BIT</td>\n",
       "      <td>Year 1</td>\n",
       "      <td>3.00 - 3.49</td>\n",
       "      <td>No</td>\n",
       "      <td>Yes</td>\n",
       "      <td>Yes</td>\n",
       "      <td>Yes</td>\n",
       "      <td>No</td>\n",
       "    </tr>\n",
       "    <tr>\n",
       "      <th>3</th>\n",
       "      <td>2020-08-07 12:06:00</td>\n",
       "      <td>Female</td>\n",
       "      <td>22</td>\n",
       "      <td>Laws</td>\n",
       "      <td>year 3</td>\n",
       "      <td>3.00 - 3.49</td>\n",
       "      <td>Yes</td>\n",
       "      <td>Yes</td>\n",
       "      <td>No</td>\n",
       "      <td>No</td>\n",
       "      <td>No</td>\n",
       "    </tr>\n",
       "    <tr>\n",
       "      <th>4</th>\n",
       "      <td>2020-08-07 12:13:00</td>\n",
       "      <td>Male</td>\n",
       "      <td>23</td>\n",
       "      <td>Mathemathics</td>\n",
       "      <td>year 4</td>\n",
       "      <td>3.00 - 3.49</td>\n",
       "      <td>No</td>\n",
       "      <td>No</td>\n",
       "      <td>No</td>\n",
       "      <td>No</td>\n",
       "      <td>No</td>\n",
       "    </tr>\n",
       "  </tbody>\n",
       "</table>\n",
       "</div>"
      ],
      "text/plain": [
       "                 date  gender  age             course study_year         cgpa  \\\n",
       "0 2020-08-07 12:02:00  Female   18        Engineering     year 1  3.00 - 3.49   \n",
       "1 2020-08-07 12:04:00    Male   21  Islamic education     year 2  3.00 - 3.49   \n",
       "2 2020-08-07 12:05:00    Male   19                BIT     Year 1  3.00 - 3.49   \n",
       "3 2020-08-07 12:06:00  Female   22               Laws     year 3  3.00 - 3.49   \n",
       "4 2020-08-07 12:13:00    Male   23       Mathemathics     year 4  3.00 - 3.49   \n",
       "\n",
       "  marital_status depression anxiety panic_attack treatment  \n",
       "0             No        Yes      No          Yes        No  \n",
       "1             No         No     Yes           No        No  \n",
       "2             No        Yes     Yes          Yes        No  \n",
       "3            Yes        Yes      No           No        No  \n",
       "4             No         No      No           No        No  "
      ]
     },
     "execution_count": 9,
     "metadata": {},
     "output_type": "execute_result"
    }
   ],
   "source": [
    "df.head() # output"
   ]
  },
  {
   "cell_type": "markdown",
   "metadata": {},
   "source": [
    "##### Remove White Spaces and Format the Data to One Case\n",
    "\n",
    "- In the 'studyyear' column there are capital as well as small letters. We'll convert them to one class.\n",
    "\n",
    "- If this case arises in other categorical columns we will deal with them."
   ]
  },
  {
   "cell_type": "code",
   "execution_count": 10,
   "metadata": {},
   "outputs": [
    {
     "data": {
      "text/plain": [
       "Female    75\n",
       "Male      26\n",
       "Name: gender, dtype: int64"
      ]
     },
     "execution_count": 10,
     "metadata": {},
     "output_type": "execute_result"
    }
   ],
   "source": [
    "df.gender.value_counts()"
   ]
  },
  {
   "cell_type": "markdown",
   "metadata": {},
   "source": [
    "- Gender column looks cleaned."
   ]
  },
  {
   "cell_type": "code",
   "execution_count": 11,
   "metadata": {},
   "outputs": [
    {
     "data": {
      "text/plain": [
       "year 1    41\n",
       "Year 3    19\n",
       "Year 2    16\n",
       "year 2    10\n",
       "year 4     8\n",
       "year 3     5\n",
       "Year 1     2\n",
       "Name: study_year, dtype: int64"
      ]
     },
     "execution_count": 11,
     "metadata": {},
     "output_type": "execute_result"
    }
   ],
   "source": [
    "df.study_year.value_counts()"
   ]
  },
  {
   "cell_type": "markdown",
   "metadata": {},
   "source": [
    "Some issues present"
   ]
  },
  {
   "cell_type": "code",
   "execution_count": 12,
   "metadata": {},
   "outputs": [
    {
     "data": {
      "text/plain": [
       "No     85\n",
       "Yes    16\n",
       "Name: marital_status, dtype: int64"
      ]
     },
     "execution_count": 12,
     "metadata": {},
     "output_type": "execute_result"
    }
   ],
   "source": [
    "df.marital_status.value_counts()"
   ]
  },
  {
   "cell_type": "markdown",
   "metadata": {},
   "source": [
    "- No issue with Marital Status column."
   ]
  },
  {
   "cell_type": "code",
   "execution_count": 13,
   "metadata": {},
   "outputs": [
    {
     "data": {
      "text/plain": [
       "No     66\n",
       "Yes    35\n",
       "Name: depression, dtype: int64"
      ]
     },
     "execution_count": 13,
     "metadata": {},
     "output_type": "execute_result"
    }
   ],
   "source": [
    "df.depression.value_counts()"
   ]
  },
  {
   "cell_type": "markdown",
   "metadata": {},
   "source": [
    "- Depression column looks good"
   ]
  },
  {
   "cell_type": "code",
   "execution_count": 14,
   "metadata": {},
   "outputs": [
    {
     "data": {
      "text/plain": [
       "No     67\n",
       "Yes    34\n",
       "Name: anxiety, dtype: int64"
      ]
     },
     "execution_count": 14,
     "metadata": {},
     "output_type": "execute_result"
    }
   ],
   "source": [
    "df.anxiety.value_counts()"
   ]
  },
  {
   "cell_type": "markdown",
   "metadata": {},
   "source": [
    "- Anxiety column has no issue either."
   ]
  },
  {
   "cell_type": "code",
   "execution_count": 15,
   "metadata": {},
   "outputs": [
    {
     "data": {
      "text/plain": [
       "No     68\n",
       "Yes    33\n",
       "Name: panic_attack, dtype: int64"
      ]
     },
     "execution_count": 15,
     "metadata": {},
     "output_type": "execute_result"
    }
   ],
   "source": [
    "df.panic_attack.value_counts()"
   ]
  },
  {
   "cell_type": "code",
   "execution_count": 16,
   "metadata": {},
   "outputs": [
    {
     "data": {
      "text/plain": [
       "No     95\n",
       "Yes     6\n",
       "Name: treatment, dtype: int64"
      ]
     },
     "execution_count": 16,
     "metadata": {},
     "output_type": "execute_result"
    }
   ],
   "source": [
    "df.treatment.value_counts()"
   ]
  },
  {
   "cell_type": "markdown",
   "metadata": {},
   "source": [
    "- Panic Attack and Treatment column also looks good.\n",
    "\n",
    "- We have to clean only the 'Study Year' column."
   ]
  },
  {
   "cell_type": "code",
   "execution_count": 18,
   "metadata": {},
   "outputs": [],
   "source": [
    "# convert everything to lower case\n",
    "\n",
    "df.study_year = df.study_year.apply(lambda x: x.lower())"
   ]
  },
  {
   "cell_type": "code",
   "execution_count": 19,
   "metadata": {},
   "outputs": [
    {
     "data": {
      "text/html": [
       "<div>\n",
       "<style scoped>\n",
       "    .dataframe tbody tr th:only-of-type {\n",
       "        vertical-align: middle;\n",
       "    }\n",
       "\n",
       "    .dataframe tbody tr th {\n",
       "        vertical-align: top;\n",
       "    }\n",
       "\n",
       "    .dataframe thead th {\n",
       "        text-align: right;\n",
       "    }\n",
       "</style>\n",
       "<table border=\"1\" class=\"dataframe\">\n",
       "  <thead>\n",
       "    <tr style=\"text-align: right;\">\n",
       "      <th></th>\n",
       "      <th>date</th>\n",
       "      <th>gender</th>\n",
       "      <th>age</th>\n",
       "      <th>course</th>\n",
       "      <th>study_year</th>\n",
       "      <th>cgpa</th>\n",
       "      <th>marital_status</th>\n",
       "      <th>depression</th>\n",
       "      <th>anxiety</th>\n",
       "      <th>panic_attack</th>\n",
       "      <th>treatment</th>\n",
       "    </tr>\n",
       "  </thead>\n",
       "  <tbody>\n",
       "    <tr>\n",
       "      <th>65</th>\n",
       "      <td>2020-08-07 17:50:00</td>\n",
       "      <td>Female</td>\n",
       "      <td>23</td>\n",
       "      <td>Econs</td>\n",
       "      <td>year 1</td>\n",
       "      <td>3.50 - 4.00</td>\n",
       "      <td>No</td>\n",
       "      <td>Yes</td>\n",
       "      <td>Yes</td>\n",
       "      <td>No</td>\n",
       "      <td>No</td>\n",
       "    </tr>\n",
       "    <tr>\n",
       "      <th>48</th>\n",
       "      <td>2020-08-07 15:14:00</td>\n",
       "      <td>Male</td>\n",
       "      <td>24</td>\n",
       "      <td>BCS</td>\n",
       "      <td>year 2</td>\n",
       "      <td>3.00 - 3.49</td>\n",
       "      <td>No</td>\n",
       "      <td>Yes</td>\n",
       "      <td>No</td>\n",
       "      <td>No</td>\n",
       "      <td>No</td>\n",
       "    </tr>\n",
       "    <tr>\n",
       "      <th>64</th>\n",
       "      <td>2020-08-07 17:46:00</td>\n",
       "      <td>Female</td>\n",
       "      <td>24</td>\n",
       "      <td>Engine</td>\n",
       "      <td>year 1</td>\n",
       "      <td>3.50 - 4.00</td>\n",
       "      <td>No</td>\n",
       "      <td>No</td>\n",
       "      <td>No</td>\n",
       "      <td>No</td>\n",
       "      <td>No</td>\n",
       "    </tr>\n",
       "    <tr>\n",
       "      <th>45</th>\n",
       "      <td>2020-08-07 15:09:00</td>\n",
       "      <td>Male</td>\n",
       "      <td>18</td>\n",
       "      <td>BCS</td>\n",
       "      <td>year 1</td>\n",
       "      <td>3.50 - 4.00</td>\n",
       "      <td>No</td>\n",
       "      <td>No</td>\n",
       "      <td>Yes</td>\n",
       "      <td>Yes</td>\n",
       "      <td>No</td>\n",
       "    </tr>\n",
       "    <tr>\n",
       "      <th>10</th>\n",
       "      <td>2020-08-07 12:39:00</td>\n",
       "      <td>Female</td>\n",
       "      <td>20</td>\n",
       "      <td>Psychology</td>\n",
       "      <td>year 1</td>\n",
       "      <td>3.50 - 4.00</td>\n",
       "      <td>No</td>\n",
       "      <td>No</td>\n",
       "      <td>No</td>\n",
       "      <td>No</td>\n",
       "      <td>No</td>\n",
       "    </tr>\n",
       "    <tr>\n",
       "      <th>50</th>\n",
       "      <td>2020-08-07 15:27:00</td>\n",
       "      <td>Female</td>\n",
       "      <td>23</td>\n",
       "      <td>ALA</td>\n",
       "      <td>year 1</td>\n",
       "      <td>2.50 - 2.99</td>\n",
       "      <td>Yes</td>\n",
       "      <td>Yes</td>\n",
       "      <td>No</td>\n",
       "      <td>Yes</td>\n",
       "      <td>Yes</td>\n",
       "    </tr>\n",
       "    <tr>\n",
       "      <th>21</th>\n",
       "      <td>2020-08-07 13:13:00</td>\n",
       "      <td>Female</td>\n",
       "      <td>18</td>\n",
       "      <td>KOE</td>\n",
       "      <td>year 2</td>\n",
       "      <td>3.00 - 3.49</td>\n",
       "      <td>No</td>\n",
       "      <td>No</td>\n",
       "      <td>No</td>\n",
       "      <td>No</td>\n",
       "      <td>No</td>\n",
       "    </tr>\n",
       "    <tr>\n",
       "      <th>29</th>\n",
       "      <td>2020-08-07 14:05:00</td>\n",
       "      <td>Female</td>\n",
       "      <td>24</td>\n",
       "      <td>BCS</td>\n",
       "      <td>year 4</td>\n",
       "      <td>3.50 - 4.00</td>\n",
       "      <td>No</td>\n",
       "      <td>No</td>\n",
       "      <td>No</td>\n",
       "      <td>No</td>\n",
       "      <td>No</td>\n",
       "    </tr>\n",
       "    <tr>\n",
       "      <th>85</th>\n",
       "      <td>2020-07-13 10:33:47</td>\n",
       "      <td>Female</td>\n",
       "      <td>18</td>\n",
       "      <td>psychology</td>\n",
       "      <td>year 1</td>\n",
       "      <td>3.50 - 4.00</td>\n",
       "      <td>No</td>\n",
       "      <td>Yes</td>\n",
       "      <td>Yes</td>\n",
       "      <td>No</td>\n",
       "      <td>Yes</td>\n",
       "    </tr>\n",
       "    <tr>\n",
       "      <th>67</th>\n",
       "      <td>2020-08-07 18:11:00</td>\n",
       "      <td>Male</td>\n",
       "      <td>19</td>\n",
       "      <td>MHSC</td>\n",
       "      <td>year 3</td>\n",
       "      <td>3.00 - 3.49</td>\n",
       "      <td>Yes</td>\n",
       "      <td>Yes</td>\n",
       "      <td>No</td>\n",
       "      <td>Yes</td>\n",
       "      <td>No</td>\n",
       "    </tr>\n",
       "  </tbody>\n",
       "</table>\n",
       "</div>"
      ],
      "text/plain": [
       "                  date  gender  age      course study_year         cgpa  \\\n",
       "65 2020-08-07 17:50:00  Female   23       Econs     year 1  3.50 - 4.00   \n",
       "48 2020-08-07 15:14:00    Male   24         BCS     year 2  3.00 - 3.49   \n",
       "64 2020-08-07 17:46:00  Female   24      Engine     year 1  3.50 - 4.00   \n",
       "45 2020-08-07 15:09:00    Male   18         BCS     year 1  3.50 - 4.00   \n",
       "10 2020-08-07 12:39:00  Female   20  Psychology     year 1  3.50 - 4.00   \n",
       "50 2020-08-07 15:27:00  Female   23         ALA     year 1  2.50 - 2.99   \n",
       "21 2020-08-07 13:13:00  Female   18         KOE     year 2  3.00 - 3.49   \n",
       "29 2020-08-07 14:05:00  Female   24         BCS     year 4  3.50 - 4.00   \n",
       "85 2020-07-13 10:33:47  Female   18  psychology     year 1  3.50 - 4.00   \n",
       "67 2020-08-07 18:11:00    Male   19        MHSC     year 3  3.00 - 3.49   \n",
       "\n",
       "   marital_status depression anxiety panic_attack treatment  \n",
       "65             No        Yes     Yes           No        No  \n",
       "48             No        Yes      No           No        No  \n",
       "64             No         No      No           No        No  \n",
       "45             No         No     Yes          Yes        No  \n",
       "10             No         No      No           No        No  \n",
       "50            Yes        Yes      No          Yes       Yes  \n",
       "21             No         No      No           No        No  \n",
       "29             No         No      No           No        No  \n",
       "85             No        Yes     Yes           No       Yes  \n",
       "67            Yes        Yes      No          Yes        No  "
      ]
     },
     "execution_count": 19,
     "metadata": {},
     "output_type": "execute_result"
    }
   ],
   "source": [
    "# Final Data for Data Analysis\n",
    "\n",
    "df.sample(10)"
   ]
  },
  {
   "cell_type": "markdown",
   "metadata": {},
   "source": [
    "- Everything looks good so far.\n",
    "\n",
    "- We don't need the 'Date' Column as it is nothing but the date of survey."
   ]
  },
  {
   "cell_type": "code",
   "execution_count": 20,
   "metadata": {},
   "outputs": [],
   "source": [
    "#output \n",
    "\n",
    "df.to_csv('cleaned_student_mh.csv', index= None)"
   ]
  },
  {
   "cell_type": "code",
   "execution_count": 21,
   "metadata": {},
   "outputs": [
    {
     "data": {
      "text/plain": [
       "array([2020])"
      ]
     },
     "execution_count": 21,
     "metadata": {},
     "output_type": "execute_result"
    }
   ],
   "source": [
    "df.date.dt.year.unique() # year of survey"
   ]
  },
  {
   "cell_type": "code",
   "execution_count": 22,
   "metadata": {},
   "outputs": [
    {
     "data": {
      "text/plain": [
       "array([8, 9, 7])"
      ]
     },
     "execution_count": 22,
     "metadata": {},
     "output_type": "execute_result"
    }
   ],
   "source": [
    "df.date.dt.month.unique() # month of survey"
   ]
  },
  {
   "cell_type": "code",
   "execution_count": 23,
   "metadata": {},
   "outputs": [
    {
     "data": {
      "text/plain": [
       "array([ 7, 13, 18])"
      ]
     },
     "execution_count": 23,
     "metadata": {},
     "output_type": "execute_result"
    }
   ],
   "source": [
    "df.date.dt.day.unique() # days of survey"
   ]
  },
  {
   "cell_type": "code",
   "execution_count": 24,
   "metadata": {},
   "outputs": [
    {
     "data": {
      "text/plain": [
       "array([datetime.date(2020, 8, 7), datetime.date(2020, 9, 7),\n",
       "       datetime.date(2020, 7, 13), datetime.date(2020, 7, 18)],\n",
       "      dtype=object)"
      ]
     },
     "execution_count": 24,
     "metadata": {},
     "output_type": "execute_result"
    }
   ],
   "source": [
    "# unique dates\n",
    "df.date.dt.date.unique()"
   ]
  },
  {
   "cell_type": "code",
   "execution_count": 25,
   "metadata": {},
   "outputs": [
    {
     "data": {
      "text/plain": [
       "array(['Friday', 'Monday', 'Saturday'], dtype=object)"
      ]
     },
     "execution_count": 25,
     "metadata": {},
     "output_type": "execute_result"
    }
   ],
   "source": [
    "df.date.dt.day_name().unique() # day name"
   ]
  },
  {
   "cell_type": "markdown",
   "metadata": {},
   "source": [
    "- The survey was conducted in 2020, in between July to September.\n",
    "\n",
    "- Students gave their opinion on 13th, and 18th of July, 7th August and in 9th of September 2020."
   ]
  },
  {
   "cell_type": "code",
   "execution_count": 26,
   "metadata": {},
   "outputs": [
    {
     "data": {
      "text/html": [
       "<div>\n",
       "<style scoped>\n",
       "    .dataframe tbody tr th:only-of-type {\n",
       "        vertical-align: middle;\n",
       "    }\n",
       "\n",
       "    .dataframe tbody tr th {\n",
       "        vertical-align: top;\n",
       "    }\n",
       "\n",
       "    .dataframe thead th {\n",
       "        text-align: right;\n",
       "    }\n",
       "</style>\n",
       "<table border=\"1\" class=\"dataframe\">\n",
       "  <thead>\n",
       "    <tr style=\"text-align: right;\">\n",
       "      <th></th>\n",
       "      <th>gender</th>\n",
       "      <th>age</th>\n",
       "      <th>course</th>\n",
       "      <th>study_year</th>\n",
       "      <th>cgpa</th>\n",
       "      <th>marital_status</th>\n",
       "      <th>depression</th>\n",
       "      <th>anxiety</th>\n",
       "      <th>panic_attack</th>\n",
       "      <th>treatment</th>\n",
       "    </tr>\n",
       "  </thead>\n",
       "  <tbody>\n",
       "    <tr>\n",
       "      <th>0</th>\n",
       "      <td>Female</td>\n",
       "      <td>18</td>\n",
       "      <td>Engineering</td>\n",
       "      <td>year 1</td>\n",
       "      <td>3.00 - 3.49</td>\n",
       "      <td>No</td>\n",
       "      <td>Yes</td>\n",
       "      <td>No</td>\n",
       "      <td>Yes</td>\n",
       "      <td>No</td>\n",
       "    </tr>\n",
       "    <tr>\n",
       "      <th>1</th>\n",
       "      <td>Male</td>\n",
       "      <td>21</td>\n",
       "      <td>Islamic education</td>\n",
       "      <td>year 2</td>\n",
       "      <td>3.00 - 3.49</td>\n",
       "      <td>No</td>\n",
       "      <td>No</td>\n",
       "      <td>Yes</td>\n",
       "      <td>No</td>\n",
       "      <td>No</td>\n",
       "    </tr>\n",
       "    <tr>\n",
       "      <th>2</th>\n",
       "      <td>Male</td>\n",
       "      <td>19</td>\n",
       "      <td>BIT</td>\n",
       "      <td>year 1</td>\n",
       "      <td>3.00 - 3.49</td>\n",
       "      <td>No</td>\n",
       "      <td>Yes</td>\n",
       "      <td>Yes</td>\n",
       "      <td>Yes</td>\n",
       "      <td>No</td>\n",
       "    </tr>\n",
       "    <tr>\n",
       "      <th>3</th>\n",
       "      <td>Female</td>\n",
       "      <td>22</td>\n",
       "      <td>Laws</td>\n",
       "      <td>year 3</td>\n",
       "      <td>3.00 - 3.49</td>\n",
       "      <td>Yes</td>\n",
       "      <td>Yes</td>\n",
       "      <td>No</td>\n",
       "      <td>No</td>\n",
       "      <td>No</td>\n",
       "    </tr>\n",
       "    <tr>\n",
       "      <th>4</th>\n",
       "      <td>Male</td>\n",
       "      <td>23</td>\n",
       "      <td>Mathemathics</td>\n",
       "      <td>year 4</td>\n",
       "      <td>3.00 - 3.49</td>\n",
       "      <td>No</td>\n",
       "      <td>No</td>\n",
       "      <td>No</td>\n",
       "      <td>No</td>\n",
       "      <td>No</td>\n",
       "    </tr>\n",
       "  </tbody>\n",
       "</table>\n",
       "</div>"
      ],
      "text/plain": [
       "   gender  age             course study_year         cgpa marital_status  \\\n",
       "0  Female   18        Engineering     year 1  3.00 - 3.49             No   \n",
       "1    Male   21  Islamic education     year 2  3.00 - 3.49             No   \n",
       "2    Male   19                BIT     year 1  3.00 - 3.49             No   \n",
       "3  Female   22               Laws     year 3  3.00 - 3.49            Yes   \n",
       "4    Male   23       Mathemathics     year 4  3.00 - 3.49             No   \n",
       "\n",
       "  depression anxiety panic_attack treatment  \n",
       "0        Yes      No          Yes        No  \n",
       "1         No     Yes           No        No  \n",
       "2        Yes     Yes          Yes        No  \n",
       "3        Yes      No           No        No  \n",
       "4         No      No           No        No  "
      ]
     },
     "execution_count": 26,
     "metadata": {},
     "output_type": "execute_result"
    }
   ],
   "source": [
    "# Drop Date\n",
    "\n",
    "df = df.drop('date', axis=1)\n",
    "\n",
    "df.head()"
   ]
  },
  {
   "cell_type": "markdown",
   "metadata": {},
   "source": [
    "### Exploratory Data Analysis:\n",
    "\n",
    "---"
   ]
  },
  {
   "cell_type": "code",
   "execution_count": 27,
   "metadata": {},
   "outputs": [],
   "source": [
    "# Gender wise data\n",
    "gender_count = pd.DataFrame(df.gender.value_counts()).reset_index().rename(columns={'gender':'count', 'index':'gender'})\n",
    "gender_count['angle'] = gender_count['count'] / gender_count['count'].sum() * 2*pi\n",
    "gender_count['color'] = ['blue', 'orange']\n",
    "\n",
    "# Study Year\n",
    "current_year = pd.DataFrame(df.study_year.value_counts()).reset_index().rename(columns={\"study_year\":'count', 'index':'study year'})\n",
    "\n",
    "# CGPA\n",
    "cgpa_count = pd.DataFrame(df.cgpa.value_counts()).reset_index().rename(columns={'cgpa':'count', 'index':'CGPA'})\n",
    "cgpa_count = cgpa_count.sort_values(by='CGPA', ascending=True)\n",
    "\n",
    "# Marital Status\n",
    "marital_status = pd.DataFrame(df.marital_status.value_counts()).reset_index().rename(columns={'marital_status':'count', 'index':'marital_status'})\n",
    "marital_status['angle'] = marital_status['count'] / marital_status['count'].sum() * 2* pi\n",
    "marital_status['color'] = ['#d61c4e', '#3fa796']\n",
    "# Gender wise marital status\n",
    "marital_status_gender = pd.crosstab(df['gender'], df['marital_status']).reset_index()"
   ]
  },
  {
   "cell_type": "code",
   "execution_count": 28,
   "metadata": {},
   "outputs": [],
   "source": [
    "# Plot1: Gender wise number of students\n",
    "p1 = figure(\n",
    "    height=450, \n",
    "    title='Gender wise Student Participation',\n",
    "    tools='hover', \n",
    "    tooltips='@gender: @count',\n",
    "    x_range=(-0.5, 1.0)\n",
    ")\n",
    "\n",
    "p1.wedge(\n",
    "    x=0, \n",
    "    y=1, \n",
    "    radius=0.4,\n",
    "    start_angle=bokeh.transform.cumsum(\n",
    "        'angle', \n",
    "        include_zero=True\n",
    "    ),\n",
    "    end_angle=bokeh.transform.cumsum('angle'),\n",
    "    line_color='white',\n",
    "    fill_color='color',\n",
    "    legend_field='gender',\n",
    "    source=gender_count\n",
    ")\n",
    "\n",
    "p1.axis.axis_label = None\n",
    "p1.axis.visible = False\n",
    "p1.grid.grid_line_color = None\n",
    "p1.title.text_color='black'\n",
    "p1.title.text_font_style='bold'\n",
    "p1.title.text_font_size='20px'\n",
    "p1.title.text_font = 'Ariel'\n",
    "\n",
    "\n",
    "\n",
    "# Plot2: Grade wise student Count\n",
    "data = ColumnDataSource(cgpa_count)\n",
    "\n",
    "hover_tool = HoverTool(\n",
    "    tooltips = [ \n",
    "        ('CGPA', '@CGPA'),\n",
    "        ('No. of Students', '@count')\n",
    "    ]\n",
    ")\n",
    "\n",
    "category_map = CategoricalColorMapper(\n",
    "    factors = cgpa_count['CGPA'].tolist(),\n",
    "    palette= bokeh.palettes.Blues256\n",
    ")\n",
    "\n",
    "p2 = figure(\n",
    "    x_range = cgpa_count['CGPA'].tolist(),\n",
    "    height = 450,\n",
    "    title = \"Grade wise Number of Students\",\n",
    "    tools = [hover_tool],\n",
    "    x_axis_label='Grade in CGPA',\n",
    "    y_axis_label= 'No. of Students'\n",
    ")\n",
    "\n",
    "p2.vbar(\n",
    "    x='CGPA',\n",
    "    top = 'count',\n",
    "    width = 0.90,\n",
    "    source = data,\n",
    "    # legend_field = 'CGPA',\n",
    "    line_color = 'white',\n",
    "    color = {\n",
    "        'field':'CGPA', \n",
    "        'transform': category_map\n",
    "    }\n",
    ")\n",
    "\n",
    "p2.xgrid.grid_line_color = None\n",
    "p2.y_range.start = 0\n",
    "p2.y_range.end = cgpa_count['count'].max()\n",
    "p2.title.text_color='black'\n",
    "p2.title.text_font_style='bold'\n",
    "p2.title.text_font_size='20px'\n",
    "p2.title.text_font = 'Ariel'\n",
    "\n",
    "\n",
    "\n",
    "# plot3: Study Year wise number of students\n",
    "colors =  [\"#4c0033\", \"#790252\", '#af0171', '#E80F88']\n",
    "data = ColumnDataSource(current_year)\n",
    "\n",
    "hover_tool = HoverTool(\n",
    "    tooltips = [\n",
    "        ('No. of students', '@count')\n",
    "    ]\n",
    ")\n",
    "\n",
    "category_map = CategoricalColorMapper(\n",
    "    factors = current_year['study year'].tolist(),\n",
    "    palette= colors\n",
    ")\n",
    "\n",
    "p3 = figure(\n",
    "    x_range=current_year['study year'].tolist(),\n",
    "    height = 450,\n",
    "    title= 'Number of Students and their Study Years',\n",
    "    tools = [hover_tool],\n",
    "    x_axis_label = 'Year',\n",
    "    y_axis_label='No. of students'\n",
    ")\n",
    "\n",
    "p3.vbar(\n",
    "    x='study year', \n",
    "    top='count', \n",
    "    width=0.90, \n",
    "    source=data, \n",
    "    legend_field='study year', \n",
    "    line_color='white', \n",
    "    color = {'field':'study year', 'transform':category_map}\n",
    ") #color can also be added through: fill_color=bokeh.transform.factor_cmap('study year', palette=colors, factors=current_year['study year'].tolist()))\n",
    "\n",
    "p3.xgrid.grid_line_color = None\n",
    "p3.y_range.start = 0\n",
    "p3.y_range.end = current_year['count'].max()\n",
    "p3.title.text_color='black'\n",
    "p3.title.text_font_style='bold'\n",
    "p3.title.text_font_size='20px'\n",
    "p3.title.text_font = 'Ariel'\n",
    "\n",
    "\n",
    "# Number of students based on marital status\n",
    "p4 = figure(\n",
    "    height=450, \n",
    "    title='Marital Status of the Students',\n",
    "    tools='hover', \n",
    "    tooltips='@marital_status: @count',\n",
    "    x_range=(-0.5, 1.0)\n",
    ")\n",
    "\n",
    "p4.wedge(\n",
    "    x=0, \n",
    "    y=1, \n",
    "    radius=0.4,\n",
    "    start_angle=bokeh.transform.cumsum('angle', include_zero=True,),\n",
    "    end_angle=bokeh.transform.cumsum('angle'),\n",
    "    line_color='white',\n",
    "    fill_color='color',\n",
    "    legend_field='marital_status',\n",
    "    source=marital_status\n",
    ")\n",
    "\n",
    "p4.axis.axis_label = None\n",
    "p4.axis.visible = False\n",
    "p4.grid.grid_line_color = None\n",
    "p4.title.text_color='black'\n",
    "p4.title.text_font_style='bold'\n",
    "p4.title.text_font_size='20px'\n",
    "p4.title.text_font = 'Ariel'\n",
    "\n",
    "\n",
    "# Age distribution of students \n",
    "hist, edges = np.histogram(df.age, density=True)\n",
    "p5 = figure(\n",
    "    height=450, \n",
    "    title=\"Age Distribution of Students\",\n",
    "    x_axis_label = 'Age',\n",
    "    y_axis_label='Frequency',\n",
    ")\n",
    "p5.quad(top=hist, bottom=0, left=edges[:-1], right=edges[1:], line_color='white')\n",
    "\n",
    "p5.title.text_color='black'\n",
    "p5.title.text_font_style='bold'\n",
    "p5.title.text_font_size='20px'\n",
    "p5.title.text_font = 'Ariel'\n",
    "\n",
    "\n",
    "# Gender wise Marital Status\n",
    "data = ColumnDataSource(marital_status_gender)\n",
    "\n",
    "p6 = figure(\n",
    "    x_range = marital_status_gender.gender.tolist(),\n",
    "    y_range = (0,70),\n",
    "    height = 450,\n",
    "    title='Gender wise Marital Status of Students',\n",
    "    tooltips = [ \n",
    "        ('Gender', '@gender'),\n",
    "        ('Unmarried', '@No'),\n",
    "        ('Married', '@Yes')\n",
    "    ],\n",
    "    x_axis_label = 'Gender',\n",
    "    y_axis_label='No. of Students'\n",
    ")\n",
    "\n",
    "p6.vbar(\n",
    "    x=bokeh.transform.dodge('gender', -0.17, range=p6.x_range),\n",
    "    top = 'No',\n",
    "    width = 0.3,\n",
    "    source = data,\n",
    "    color = '#005f99',\n",
    "    legend_label='Not married'\n",
    ")\n",
    "\n",
    "p6.vbar(\n",
    "    x=bokeh.transform.dodge('gender', 0.17, range=p6.x_range),\n",
    "    top = 'Yes',\n",
    "    width = 0.3,\n",
    "    source = data,\n",
    "    color = '#ff449f',\n",
    "    legend_label = \"Married\"\n",
    ")\n",
    "\n",
    "p6.x_range.range_padding = 0.1\n",
    "p6.xgrid.grid_line_color = None\n",
    "p6.title.text_color = 'black'\n",
    "p6.title.text_font_style = 'bold'\n",
    "p6.title.text_font_size='20px'\n",
    "p6.title.text_font = 'Ariel'"
   ]
  },
  {
   "cell_type": "code",
   "execution_count": 29,
   "metadata": {},
   "outputs": [
    {
     "data": {
      "text/html": [
       "\n",
       "  <div class=\"bk-root\" id=\"644810f1-f402-4f5c-ab4f-8473fe3cbaf4\" data-root-id=\"1273\"></div>\n"
      ]
     },
     "metadata": {},
     "output_type": "display_data"
    },
    {
     "data": {
      "application/javascript": "(function(root) {\n  function embed_document(root) {\n  const docs_json = {\"4ec4dee9-bcb6-4e75-a847-f32e53a1d23a\":{\"defs\":[],\"roots\":{\"references\":[{\"attributes\":{\"tabs\":[{\"id\":\"1272\"},{\"id\":\"1267\"},{\"id\":\"1268\"},{\"id\":\"1269\"},{\"id\":\"1270\"},{\"id\":\"1271\"}]},\"id\":\"1273\",\"type\":\"Tabs\"},{\"attributes\":{},\"id\":\"1060\",\"type\":\"CategoricalTicker\"},{\"attributes\":{\"field\":\"angle\"},\"id\":\"1137\",\"type\":\"CumSum\"},{\"attributes\":{\"coordinates\":null,\"data_source\":{\"id\":\"1195\"},\"glyph\":{\"id\":\"1232\"},\"group\":null,\"hover_glyph\":null,\"muted_glyph\":{\"id\":\"1234\"},\"nonselection_glyph\":{\"id\":\"1233\"},\"view\":{\"id\":\"1236\"}},\"id\":\"1235\",\"type\":\"GlyphRenderer\"},{\"attributes\":{\"axis_label\":\"Year\",\"coordinates\":null,\"formatter\":{\"id\":\"1108\"},\"group\":null,\"major_label_policy\":{\"id\":\"1109\"},\"ticker\":{\"id\":\"1089\"}},\"id\":\"1088\",\"type\":\"CategoricalAxis\"},{\"attributes\":{},\"id\":\"1040\",\"type\":\"AllLabels\"},{\"attributes\":{\"data\":{\"angle\":{\"__ndarray__\":\"XUTos7wmFUDSRd8C9dnvPw==\",\"dtype\":\"float64\",\"order\":\"little\",\"shape\":[2]},\"color\":[\"#d61c4e\",\"#3fa796\"],\"count\":[85,16],\"index\":[0,1],\"marital_status\":[\"No\",\"Yes\"]},\"selected\":{\"id\":\"1153\"},\"selection_policy\":{\"id\":\"1152\"}},\"id\":\"1138\",\"type\":\"ColumnDataSource\"},{\"attributes\":{\"axis\":{\"id\":\"1091\"},\"coordinates\":null,\"dimension\":1,\"group\":null,\"ticker\":null},\"id\":\"1094\",\"type\":\"Grid\"},{\"attributes\":{\"axis_label\":\"No. of students\",\"coordinates\":null,\"formatter\":{\"id\":\"1105\"},\"group\":null,\"major_label_policy\":{\"id\":\"1106\"},\"ticker\":{\"id\":\"1092\"}},\"id\":\"1091\",\"type\":\"LinearAxis\"},{\"attributes\":{\"fill_color\":{\"field\":\"study year\",\"transform\":{\"id\":\"1076\"}},\"hatch_color\":{\"field\":\"study year\",\"transform\":{\"id\":\"1076\"}},\"line_color\":{\"value\":\"white\"},\"top\":{\"field\":\"count\"},\"width\":{\"value\":0.9},\"x\":{\"field\":\"study year\"}},\"id\":\"1098\",\"type\":\"VBar\"},{\"attributes\":{},\"id\":\"1109\",\"type\":\"AllLabels\"},{\"attributes\":{},\"id\":\"1285\",\"type\":\"AllLabels\"},{\"attributes\":{},\"id\":\"1282\",\"type\":\"AllLabels\"},{\"attributes\":{},\"id\":\"1153\",\"type\":\"Selection\"},{\"attributes\":{},\"id\":\"1110\",\"type\":\"UnionRenderers\"},{\"attributes\":{\"end_angle\":{\"expr\":{\"id\":\"1137\"}},\"fill_alpha\":{\"value\":0.1},\"fill_color\":{\"field\":\"color\"},\"hatch_alpha\":{\"value\":0.1},\"line_alpha\":{\"value\":0.1},\"line_color\":{\"value\":\"white\"},\"radius\":{\"value\":0.4},\"start_angle\":{\"expr\":{\"id\":\"1136\"}},\"x\":{\"value\":0},\"y\":{\"value\":1}},\"id\":\"1141\",\"type\":\"Wedge\"},{\"attributes\":{},\"id\":\"1111\",\"type\":\"Selection\"},{\"attributes\":{},\"id\":\"1152\",\"type\":\"UnionRenderers\"},{\"attributes\":{\"end_angle\":{\"expr\":{\"id\":\"1137\"}},\"fill_color\":{\"field\":\"color\"},\"line_color\":{\"value\":\"white\"},\"radius\":{\"value\":0.4},\"start_angle\":{\"expr\":{\"id\":\"1136\"}},\"x\":{\"value\":0},\"y\":{\"value\":1}},\"id\":\"1140\",\"type\":\"Wedge\"},{\"attributes\":{},\"id\":\"1063\",\"type\":\"BasicTicker\"},{\"attributes\":{\"axis_label\":\"No. of Students\",\"coordinates\":null,\"formatter\":{\"id\":\"1293\"},\"group\":null,\"major_label_policy\":{\"id\":\"1294\"},\"ticker\":{\"id\":\"1063\"}},\"id\":\"1062\",\"type\":\"LinearAxis\"},{\"attributes\":{},\"id\":\"1215\",\"type\":\"WheelZoomTool\"},{\"attributes\":{\"child\":{\"id\":\"1156\"},\"title\":\"Age Distribution\"},\"id\":\"1272\",\"type\":\"Panel\"},{\"attributes\":{},\"id\":\"1245\",\"type\":\"Selection\"},{\"attributes\":{\"fill_alpha\":{\"value\":0.1},\"fill_color\":{\"value\":\"#005f99\"},\"hatch_alpha\":{\"value\":0.1},\"hatch_color\":{\"value\":\"#005f99\"},\"line_alpha\":{\"value\":0.1},\"line_color\":{\"value\":\"#005f99\"},\"top\":{\"field\":\"No\"},\"width\":{\"value\":0.3},\"x\":{\"field\":\"gender\",\"transform\":{\"id\":\"1230\"}}},\"id\":\"1233\",\"type\":\"VBar\"},{\"attributes\":{},\"id\":\"1240\",\"type\":\"AllLabels\"},{\"attributes\":{},\"id\":\"1242\",\"type\":\"CategoricalTickFormatter\"},{\"attributes\":{\"child\":{\"id\":\"1003\"},\"title\":\"Gender\"},\"id\":\"1267\",\"type\":\"Panel\"},{\"attributes\":{},\"id\":\"1239\",\"type\":\"BasicTickFormatter\"},{\"attributes\":{},\"id\":\"1281\",\"type\":\"BasicTickFormatter\"},{\"attributes\":{},\"id\":\"1105\",\"type\":\"BasicTickFormatter\"},{\"attributes\":{\"fill_alpha\":{\"value\":0.2},\"fill_color\":{\"value\":\"#005f99\"},\"hatch_alpha\":{\"value\":0.2},\"hatch_color\":{\"value\":\"#005f99\"},\"line_alpha\":{\"value\":0.2},\"line_color\":{\"value\":\"#005f99\"},\"top\":{\"field\":\"No\"},\"width\":{\"value\":0.3},\"x\":{\"field\":\"gender\",\"transform\":{\"id\":\"1230\"}}},\"id\":\"1234\",\"type\":\"VBar\"},{\"attributes\":{},\"id\":\"1106\",\"type\":\"AllLabels\"},{\"attributes\":{\"factors\":[\"0 - 1.99\",\"2.00 - 2.49\",\"2.50 - 2.99\",\"3.00 - 3.49\",\"3.50 - 4.00\",\"3.50 - 4.00 \"]},\"id\":\"1051\",\"type\":\"FactorRange\"},{\"attributes\":{\"fill_color\":{\"value\":\"#ff449f\"},\"hatch_color\":{\"value\":\"#ff449f\"},\"line_color\":{\"value\":\"#ff449f\"},\"top\":{\"field\":\"Yes\"},\"width\":{\"value\":0.3},\"x\":{\"field\":\"gender\",\"transform\":{\"id\":\"1249\"}}},\"id\":\"1251\",\"type\":\"VBar\"},{\"attributes\":{\"coordinates\":null,\"group\":null,\"text\":\"Gender wise Student Participation\",\"text_color\":\"black\",\"text_font\":\"Ariel\",\"text_font_size\":\"20px\"},\"id\":\"1004\",\"type\":\"Title\"},{\"attributes\":{},\"id\":\"1108\",\"type\":\"CategoricalTickFormatter\"},{\"attributes\":{},\"id\":\"1015\",\"type\":\"BasicTicker\"},{\"attributes\":{\"axis\":{\"id\":\"1062\"},\"coordinates\":null,\"dimension\":1,\"group\":null,\"ticker\":null},\"id\":\"1065\",\"type\":\"Grid\"},{\"attributes\":{\"axis\":{\"id\":\"1014\"},\"coordinates\":null,\"grid_line_color\":null,\"group\":null,\"ticker\":null},\"id\":\"1017\",\"type\":\"Grid\"},{\"attributes\":{\"child\":{\"id\":\"1077\"},\"title\":\"Study Year\"},\"id\":\"1269\",\"type\":\"Panel\"},{\"attributes\":{\"callback\":null,\"tooltips\":[[\"No. of students\",\"@count\"]]},\"id\":\"1075\",\"type\":\"HoverTool\"},{\"attributes\":{\"coordinates\":null,\"formatter\":{\"id\":\"1036\"},\"group\":null,\"major_label_policy\":{\"id\":\"1037\"},\"ticker\":{\"id\":\"1019\"},\"visible\":false},\"id\":\"1018\",\"type\":\"LinearAxis\"},{\"attributes\":{\"child\":{\"id\":\"1114\"},\"title\":\"Marital Status 1\"},\"id\":\"1270\",\"type\":\"Panel\"},{\"attributes\":{},\"id\":\"1012\",\"type\":\"LinearScale\"},{\"attributes\":{\"label\":{\"field\":\"marital_status\"},\"renderers\":[{\"id\":\"1143\"}]},\"id\":\"1155\",\"type\":\"LegendItem\"},{\"attributes\":{\"coordinates\":null,\"formatter\":{\"id\":\"1039\"},\"group\":null,\"major_label_policy\":{\"id\":\"1040\"},\"ticker\":{\"id\":\"1015\"},\"visible\":false},\"id\":\"1014\",\"type\":\"LinearAxis\"},{\"attributes\":{\"label\":{\"field\":\"study year\"},\"renderers\":[{\"id\":\"1101\"}]},\"id\":\"1113\",\"type\":\"LegendItem\"},{\"attributes\":{},\"id\":\"1244\",\"type\":\"UnionRenderers\"},{\"attributes\":{\"fill_color\":{\"field\":\"CGPA\",\"transform\":{\"id\":\"1047\"}},\"hatch_color\":{\"field\":\"CGPA\",\"transform\":{\"id\":\"1047\"}},\"line_color\":{\"value\":\"white\"},\"top\":{\"field\":\"count\"},\"width\":{\"value\":0.9},\"x\":{\"field\":\"CGPA\"}},\"id\":\"1069\",\"type\":\"VBar\"},{\"attributes\":{\"axis\":{\"id\":\"1018\"},\"coordinates\":null,\"dimension\":1,\"grid_line_color\":null,\"group\":null,\"ticker\":null},\"id\":\"1021\",\"type\":\"Grid\"},{\"attributes\":{},\"id\":\"1019\",\"type\":\"BasicTicker\"},{\"attributes\":{\"bottom\":{\"value\":0},\"fill_color\":{\"value\":\"#1f77b4\"},\"left\":{\"field\":\"left\"},\"line_color\":{\"value\":\"white\"},\"right\":{\"field\":\"right\"},\"top\":{\"field\":\"top\"}},\"id\":\"1190\",\"type\":\"Quad\"},{\"attributes\":{\"end_angle\":{\"expr\":{\"id\":\"1026\"}},\"fill_alpha\":{\"value\":0.2},\"fill_color\":{\"field\":\"color\"},\"hatch_alpha\":{\"value\":0.2},\"line_alpha\":{\"value\":0.2},\"line_color\":{\"value\":\"white\"},\"radius\":{\"value\":0.4},\"start_angle\":{\"expr\":{\"id\":\"1025\"}},\"x\":{\"value\":0},\"y\":{\"value\":1}},\"id\":\"1031\",\"type\":\"Wedge\"},{\"attributes\":{\"data\":{\"left\":{\"__ndarray__\":\"AAAAAAAAMkCamZmZmZkyQDMzMzMzMzNAzczMzMzMM0BmZmZmZmY0QAAAAAAAADVAmpmZmZmZNUAzMzMzMzM2QM3MzMzMzDZAZmZmZmZmN0A=\",\"dtype\":\"float64\",\"order\":\"little\",\"shape\":[10]},\"right\":{\"__ndarray__\":\"mpmZmZmZMkAzMzMzMzMzQM3MzMzMzDNAZmZmZmZmNEAAAAAAAAA1QJqZmZmZmTVAMzMzMzMzNkDNzMzMzMw2QGZmZmZmZjdAAAAAAAAAOEA=\",\"dtype\":\"float64\",\"order\":\"little\",\"shape\":[10]},\"top\":{\"__ndarray__\":\"m7Un/87l4D+BHuSuny3WPwAAAAAAAAAAAX6FPiqSvT8AAAAAAAAAAGmQu362WKk/t7Un/87loD8AAAAAAAAAAEqHoF5wdcs/DxXJjllK2D8=\",\"dtype\":\"float64\",\"order\":\"little\",\"shape\":[10]}},\"selected\":{\"id\":\"1317\"},\"selection_policy\":{\"id\":\"1316\"}},\"id\":\"1189\",\"type\":\"ColumnDataSource\"},{\"attributes\":{\"tools\":[{\"id\":\"1022\"}]},\"id\":\"1023\",\"type\":\"Toolbar\"},{\"attributes\":{},\"id\":\"1159\",\"type\":\"DataRange1d\"},{\"attributes\":{\"callback\":null,\"tooltips\":\"@gender: @count\"},\"id\":\"1022\",\"type\":\"HoverTool\"},{\"attributes\":{\"below\":[{\"id\":\"1207\"}],\"center\":[{\"id\":\"1209\"},{\"id\":\"1213\"},{\"id\":\"1247\"}],\"height\":450,\"left\":[{\"id\":\"1210\"}],\"renderers\":[{\"id\":\"1235\"},{\"id\":\"1254\"}],\"title\":{\"id\":\"1197\"},\"toolbar\":{\"id\":\"1222\"},\"x_range\":{\"id\":\"1199\"},\"x_scale\":{\"id\":\"1203\"},\"y_range\":{\"id\":\"1201\"},\"y_scale\":{\"id\":\"1205\"}},\"id\":\"1196\",\"subtype\":\"Figure\",\"type\":\"Plot\"},{\"attributes\":{},\"id\":\"1168\",\"type\":\"BasicTicker\"},{\"attributes\":{},\"id\":\"1161\",\"type\":\"DataRange1d\"},{\"attributes\":{\"coordinates\":null,\"group\":null,\"text\":\"Age Distribution of Students\",\"text_color\":\"black\",\"text_font\":\"Ariel\",\"text_font_size\":\"20px\"},\"id\":\"1157\",\"type\":\"Title\"},{\"attributes\":{},\"id\":\"1165\",\"type\":\"LinearScale\"},{\"attributes\":{\"end_angle\":{\"expr\":{\"id\":\"1026\"}},\"fill_alpha\":{\"value\":0.1},\"fill_color\":{\"field\":\"color\"},\"hatch_alpha\":{\"value\":0.1},\"line_alpha\":{\"value\":0.1},\"line_color\":{\"value\":\"white\"},\"radius\":{\"value\":0.4},\"start_angle\":{\"expr\":{\"id\":\"1025\"}},\"x\":{\"value\":0},\"y\":{\"value\":1}},\"id\":\"1030\",\"type\":\"Wedge\"},{\"attributes\":{\"axis\":{\"id\":\"1167\"},\"coordinates\":null,\"group\":null,\"ticker\":null},\"id\":\"1170\",\"type\":\"Grid\"},{\"attributes\":{},\"id\":\"1163\",\"type\":\"LinearScale\"},{\"attributes\":{},\"id\":\"1243\",\"type\":\"AllLabels\"},{\"attributes\":{\"axis_label\":\"Age\",\"coordinates\":null,\"formatter\":{\"id\":\"1284\"},\"group\":null,\"major_label_policy\":{\"id\":\"1285\"},\"ticker\":{\"id\":\"1168\"}},\"id\":\"1167\",\"type\":\"LinearAxis\"},{\"attributes\":{},\"id\":\"1126\",\"type\":\"BasicTicker\"},{\"attributes\":{},\"id\":\"1176\",\"type\":\"WheelZoomTool\"},{\"attributes\":{},\"id\":\"1036\",\"type\":\"BasicTickFormatter\"},{\"attributes\":{\"source\":{\"id\":\"1027\"}},\"id\":\"1033\",\"type\":\"CDSView\"},{\"attributes\":{\"axis_label\":\"Frequency\",\"coordinates\":null,\"formatter\":{\"id\":\"1281\"},\"group\":null,\"major_label_policy\":{\"id\":\"1282\"},\"ticker\":{\"id\":\"1172\"}},\"id\":\"1171\",\"type\":\"LinearAxis\"},{\"attributes\":{\"axis\":{\"id\":\"1171\"},\"coordinates\":null,\"dimension\":1,\"group\":null,\"ticker\":null},\"id\":\"1174\",\"type\":\"Grid\"},{\"attributes\":{},\"id\":\"1084\",\"type\":\"CategoricalScale\"},{\"attributes\":{\"start\":-0.5},\"id\":\"1117\",\"type\":\"Range1d\"},{\"attributes\":{\"tools\":[{\"id\":\"1075\"}]},\"id\":\"1095\",\"type\":\"Toolbar\"},{\"attributes\":{},\"id\":\"1172\",\"type\":\"BasicTicker\"},{\"attributes\":{},\"id\":\"1119\",\"type\":\"DataRange1d\"},{\"attributes\":{\"callback\":null,\"tooltips\":[[\"CGPA\",\"@CGPA\"],[\"No. of Students\",\"@count\"]]},\"id\":\"1046\",\"type\":\"HoverTool\"},{\"attributes\":{\"fill_alpha\":{\"value\":0.1},\"fill_color\":{\"field\":\"study year\",\"transform\":{\"id\":\"1076\"}},\"hatch_alpha\":{\"value\":0.1},\"hatch_color\":{\"field\":\"study year\",\"transform\":{\"id\":\"1076\"}},\"line_alpha\":{\"value\":0.1},\"line_color\":{\"value\":\"white\"},\"top\":{\"field\":\"count\"},\"width\":{\"value\":0.9},\"x\":{\"field\":\"study year\"}},\"id\":\"1099\",\"type\":\"VBar\"},{\"attributes\":{\"coordinates\":null,\"formatter\":{\"id\":\"1147\"},\"group\":null,\"major_label_policy\":{\"id\":\"1148\"},\"ticker\":{\"id\":\"1130\"},\"visible\":false},\"id\":\"1129\",\"type\":\"LinearAxis\"},{\"attributes\":{\"below\":[{\"id\":\"1059\"}],\"center\":[{\"id\":\"1061\"},{\"id\":\"1065\"}],\"height\":450,\"left\":[{\"id\":\"1062\"}],\"renderers\":[{\"id\":\"1072\"}],\"title\":{\"id\":\"1049\"},\"toolbar\":{\"id\":\"1066\"},\"x_range\":{\"id\":\"1051\"},\"x_scale\":{\"id\":\"1055\"},\"y_range\":{\"id\":\"1053\"},\"y_scale\":{\"id\":\"1057\"}},\"id\":\"1048\",\"subtype\":\"Figure\",\"type\":\"Plot\"},{\"attributes\":{},\"id\":\"1180\",\"type\":\"HelpTool\"},{\"attributes\":{\"below\":[{\"id\":\"1167\"}],\"center\":[{\"id\":\"1170\"},{\"id\":\"1174\"}],\"height\":450,\"left\":[{\"id\":\"1171\"}],\"renderers\":[{\"id\":\"1193\"}],\"title\":{\"id\":\"1157\"},\"toolbar\":{\"id\":\"1182\"},\"x_range\":{\"id\":\"1159\"},\"x_scale\":{\"id\":\"1163\"},\"y_range\":{\"id\":\"1161\"},\"y_scale\":{\"id\":\"1165\"}},\"id\":\"1156\",\"subtype\":\"Figure\",\"type\":\"Plot\"},{\"attributes\":{\"start\":-0.5},\"id\":\"1006\",\"type\":\"Range1d\"},{\"attributes\":{},\"id\":\"1175\",\"type\":\"PanTool\"},{\"attributes\":{\"coordinates\":null,\"group\":null,\"text\":\"Marital Status of the Students\",\"text_color\":\"black\",\"text_font\":\"Ariel\",\"text_font_size\":\"20px\"},\"id\":\"1115\",\"type\":\"Title\"},{\"attributes\":{\"overlay\":{\"id\":\"1181\"}},\"id\":\"1177\",\"type\":\"BoxZoomTool\"},{\"attributes\":{\"end_angle\":{\"expr\":{\"id\":\"1026\"}},\"fill_color\":{\"field\":\"color\"},\"line_color\":{\"value\":\"white\"},\"radius\":{\"value\":0.4},\"start_angle\":{\"expr\":{\"id\":\"1025\"}},\"x\":{\"value\":0},\"y\":{\"value\":1}},\"id\":\"1029\",\"type\":\"Wedge\"},{\"attributes\":{},\"id\":\"1121\",\"type\":\"LinearScale\"},{\"attributes\":{},\"id\":\"1178\",\"type\":\"SaveTool\"},{\"attributes\":{},\"id\":\"1039\",\"type\":\"BasicTickFormatter\"},{\"attributes\":{\"axis\":{\"id\":\"1125\"},\"coordinates\":null,\"grid_line_color\":null,\"group\":null,\"ticker\":null},\"id\":\"1128\",\"type\":\"Grid\"},{\"attributes\":{\"coordinates\":null,\"group\":null,\"items\":[{\"id\":\"1248\"},{\"id\":\"1266\"}]},\"id\":\"1247\",\"type\":\"Legend\"},{\"attributes\":{},\"id\":\"1179\",\"type\":\"ResetTool\"},{\"attributes\":{},\"id\":\"1123\",\"type\":\"LinearScale\"},{\"attributes\":{},\"id\":\"1294\",\"type\":\"AllLabels\"},{\"attributes\":{},\"id\":\"1297\",\"type\":\"AllLabels\"},{\"attributes\":{\"source\":{\"id\":\"1195\"}},\"id\":\"1236\",\"type\":\"CDSView\"},{\"attributes\":{\"coordinates\":null,\"formatter\":{\"id\":\"1150\"},\"group\":null,\"major_label_policy\":{\"id\":\"1151\"},\"ticker\":{\"id\":\"1126\"},\"visible\":false},\"id\":\"1125\",\"type\":\"LinearAxis\"},{\"attributes\":{\"label\":{\"field\":\"gender\"},\"renderers\":[{\"id\":\"1032\"}]},\"id\":\"1044\",\"type\":\"LegendItem\"},{\"attributes\":{\"below\":[{\"id\":\"1014\"}],\"center\":[{\"id\":\"1017\"},{\"id\":\"1021\"},{\"id\":\"1043\"}],\"height\":450,\"left\":[{\"id\":\"1018\"}],\"renderers\":[{\"id\":\"1032\"}],\"title\":{\"id\":\"1004\"},\"toolbar\":{\"id\":\"1023\"},\"x_range\":{\"id\":\"1006\"},\"x_scale\":{\"id\":\"1010\"},\"y_range\":{\"id\":\"1008\"},\"y_scale\":{\"id\":\"1012\"}},\"id\":\"1003\",\"subtype\":\"Figure\",\"type\":\"Plot\"},{\"attributes\":{},\"id\":\"1037\",\"type\":\"AllLabels\"},{\"attributes\":{},\"id\":\"1293\",\"type\":\"BasicTickFormatter\"},{\"attributes\":{\"bottom_units\":\"screen\",\"coordinates\":null,\"fill_alpha\":0.5,\"fill_color\":\"lightgrey\",\"group\":null,\"left_units\":\"screen\",\"level\":\"overlay\",\"line_alpha\":1.0,\"line_color\":\"black\",\"line_dash\":[4,4],\"line_width\":2,\"right_units\":\"screen\",\"syncable\":false,\"top_units\":\"screen\"},\"id\":\"1181\",\"type\":\"BoxAnnotation\"},{\"attributes\":{\"axis\":{\"id\":\"1129\"},\"coordinates\":null,\"dimension\":1,\"grid_line_color\":null,\"group\":null,\"ticker\":null},\"id\":\"1132\",\"type\":\"Grid\"},{\"attributes\":{},\"id\":\"1130\",\"type\":\"BasicTicker\"},{\"attributes\":{\"fill_alpha\":{\"value\":0.2},\"fill_color\":{\"field\":\"study year\",\"transform\":{\"id\":\"1076\"}},\"hatch_alpha\":{\"value\":0.2},\"hatch_color\":{\"field\":\"study year\",\"transform\":{\"id\":\"1076\"}},\"line_alpha\":{\"value\":0.2},\"line_color\":{\"value\":\"white\"},\"top\":{\"field\":\"count\"},\"width\":{\"value\":0.9},\"x\":{\"field\":\"study year\"}},\"id\":\"1100\",\"type\":\"VBar\"},{\"attributes\":{\"range\":{\"id\":\"1199\"},\"value\":-0.17},\"id\":\"1230\",\"type\":\"Dodge\"},{\"attributes\":{\"coordinates\":null,\"data_source\":{\"id\":\"1027\"},\"glyph\":{\"id\":\"1029\"},\"group\":null,\"hover_glyph\":null,\"muted_glyph\":{\"id\":\"1031\"},\"nonselection_glyph\":{\"id\":\"1030\"},\"view\":{\"id\":\"1033\"}},\"id\":\"1032\",\"type\":\"GlyphRenderer\"},{\"attributes\":{\"coordinates\":null,\"data_source\":{\"id\":\"1074\"},\"glyph\":{\"id\":\"1098\"},\"group\":null,\"hover_glyph\":null,\"muted_glyph\":{\"id\":\"1100\"},\"nonselection_glyph\":{\"id\":\"1099\"},\"view\":{\"id\":\"1102\"}},\"id\":\"1101\",\"type\":\"GlyphRenderer\"},{\"attributes\":{},\"id\":\"1010\",\"type\":\"LinearScale\"},{\"attributes\":{\"tools\":[{\"id\":\"1133\"}]},\"id\":\"1134\",\"type\":\"Toolbar\"},{\"attributes\":{},\"id\":\"1055\",\"type\":\"CategoricalScale\"},{\"attributes\":{\"callback\":null,\"tooltips\":\"@marital_status: @count\"},\"id\":\"1133\",\"type\":\"HoverTool\"},{\"attributes\":{},\"id\":\"1086\",\"type\":\"LinearScale\"},{\"attributes\":{},\"id\":\"1316\",\"type\":\"UnionRenderers\"},{\"attributes\":{\"tools\":[{\"id\":\"1175\"},{\"id\":\"1176\"},{\"id\":\"1177\"},{\"id\":\"1178\"},{\"id\":\"1179\"},{\"id\":\"1180\"}]},\"id\":\"1182\",\"type\":\"Toolbar\"},{\"attributes\":{\"end\":47,\"start\":0},\"id\":\"1053\",\"type\":\"DataRange1d\"},{\"attributes\":{},\"id\":\"1317\",\"type\":\"Selection\"},{\"attributes\":{\"axis\":{\"id\":\"1207\"},\"coordinates\":null,\"grid_line_color\":null,\"group\":null,\"ticker\":null},\"id\":\"1209\",\"type\":\"Grid\"},{\"attributes\":{\"data\":{\"count\":[43,26,24,8],\"index\":[0,1,2,3],\"study year\":[\"year 1\",\"year 2\",\"year 3\",\"year 4\"]},\"selected\":{\"id\":\"1111\"},\"selection_policy\":{\"id\":\"1110\"}},\"id\":\"1074\",\"type\":\"ColumnDataSource\"},{\"attributes\":{},\"id\":\"1284\",\"type\":\"BasicTickFormatter\"},{\"attributes\":{},\"id\":\"1008\",\"type\":\"DataRange1d\"},{\"attributes\":{\"axis_label\":\"Gender\",\"coordinates\":null,\"formatter\":{\"id\":\"1242\"},\"group\":null,\"major_label_policy\":{\"id\":\"1243\"},\"ticker\":{\"id\":\"1208\"}},\"id\":\"1207\",\"type\":\"CategoricalAxis\"},{\"attributes\":{\"data\":{\"No\":[62,23],\"Yes\":[13,3],\"gender\":[\"Female\",\"Male\"],\"index\":[0,1]},\"selected\":{\"id\":\"1245\"},\"selection_policy\":{\"id\":\"1244\"}},\"id\":\"1195\",\"type\":\"ColumnDataSource\"},{\"attributes\":{\"bottom\":{\"value\":0},\"fill_alpha\":{\"value\":0.1},\"fill_color\":{\"value\":\"#1f77b4\"},\"hatch_alpha\":{\"value\":0.1},\"left\":{\"field\":\"left\"},\"line_alpha\":{\"value\":0.1},\"line_color\":{\"value\":\"white\"},\"right\":{\"field\":\"right\"},\"top\":{\"field\":\"top\"}},\"id\":\"1191\",\"type\":\"Quad\"},{\"attributes\":{\"bottom\":{\"value\":0},\"fill_alpha\":{\"value\":0.2},\"fill_color\":{\"value\":\"#1f77b4\"},\"hatch_alpha\":{\"value\":0.2},\"left\":{\"field\":\"left\"},\"line_alpha\":{\"value\":0.2},\"line_color\":{\"value\":\"white\"},\"right\":{\"field\":\"right\"},\"top\":{\"field\":\"top\"}},\"id\":\"1192\",\"type\":\"Quad\"},{\"attributes\":{},\"id\":\"1205\",\"type\":\"LinearScale\"},{\"attributes\":{\"coordinates\":null,\"data_source\":{\"id\":\"1138\"},\"glyph\":{\"id\":\"1140\"},\"group\":null,\"hover_glyph\":null,\"muted_glyph\":{\"id\":\"1142\"},\"nonselection_glyph\":{\"id\":\"1141\"},\"view\":{\"id\":\"1144\"}},\"id\":\"1143\",\"type\":\"GlyphRenderer\"},{\"attributes\":{\"source\":{\"id\":\"1189\"}},\"id\":\"1194\",\"type\":\"CDSView\"},{\"attributes\":{\"callback\":null,\"tooltips\":[[\"Gender\",\"@gender\"],[\"Unmarried\",\"@No\"],[\"Married\",\"@Yes\"]]},\"id\":\"1221\",\"type\":\"HoverTool\"},{\"attributes\":{\"end\":70},\"id\":\"1201\",\"type\":\"Range1d\"},{\"attributes\":{\"source\":{\"id\":\"1138\"}},\"id\":\"1144\",\"type\":\"CDSView\"},{\"attributes\":{\"tools\":[{\"id\":\"1214\"},{\"id\":\"1215\"},{\"id\":\"1216\"},{\"id\":\"1217\"},{\"id\":\"1218\"},{\"id\":\"1219\"},{\"id\":\"1221\"}]},\"id\":\"1222\",\"type\":\"Toolbar\"},{\"attributes\":{\"fill_alpha\":{\"value\":0.2},\"fill_color\":{\"field\":\"CGPA\",\"transform\":{\"id\":\"1047\"}},\"hatch_alpha\":{\"value\":0.2},\"hatch_color\":{\"field\":\"CGPA\",\"transform\":{\"id\":\"1047\"}},\"line_alpha\":{\"value\":0.2},\"line_color\":{\"value\":\"white\"},\"top\":{\"field\":\"count\"},\"width\":{\"value\":0.9},\"x\":{\"field\":\"CGPA\"}},\"id\":\"1071\",\"type\":\"VBar\"},{\"attributes\":{\"field\":\"angle\"},\"id\":\"1026\",\"type\":\"CumSum\"},{\"attributes\":{},\"id\":\"1296\",\"type\":\"CategoricalTickFormatter\"},{\"attributes\":{},\"id\":\"1208\",\"type\":\"CategoricalTicker\"},{\"attributes\":{\"child\":{\"id\":\"1048\"},\"title\":\"Grade\"},\"id\":\"1268\",\"type\":\"Panel\"},{\"attributes\":{\"coordinates\":null,\"group\":null,\"items\":[{\"id\":\"1155\"}]},\"id\":\"1154\",\"type\":\"Legend\"},{\"attributes\":{\"end_angle\":{\"expr\":{\"id\":\"1137\"}},\"fill_alpha\":{\"value\":0.2},\"fill_color\":{\"field\":\"color\"},\"hatch_alpha\":{\"value\":0.2},\"line_alpha\":{\"value\":0.2},\"line_color\":{\"value\":\"white\"},\"radius\":{\"value\":0.4},\"start_angle\":{\"expr\":{\"id\":\"1136\"}},\"x\":{\"value\":0},\"y\":{\"value\":1}},\"id\":\"1142\",\"type\":\"Wedge\"},{\"attributes\":{\"end\":43,\"start\":0},\"id\":\"1082\",\"type\":\"DataRange1d\"},{\"attributes\":{\"axis_label\":\"No. of Students\",\"coordinates\":null,\"formatter\":{\"id\":\"1239\"},\"group\":null,\"major_label_policy\":{\"id\":\"1240\"},\"ticker\":{\"id\":\"1211\"}},\"id\":\"1210\",\"type\":\"LinearAxis\"},{\"attributes\":{\"source\":{\"id\":\"1074\"}},\"id\":\"1102\",\"type\":\"CDSView\"},{\"attributes\":{\"factors\":[\"year 1\",\"year 2\",\"year 3\",\"year 4\"]},\"id\":\"1080\",\"type\":\"FactorRange\"},{\"attributes\":{\"coordinates\":null,\"group\":null,\"text\":\"Grade wise Number of Students\",\"text_color\":\"black\",\"text_font\":\"Ariel\",\"text_font_size\":\"20px\"},\"id\":\"1049\",\"type\":\"Title\"},{\"attributes\":{\"range\":{\"id\":\"1199\"},\"value\":0.17},\"id\":\"1249\",\"type\":\"Dodge\"},{\"attributes\":{\"coordinates\":null,\"data_source\":{\"id\":\"1045\"},\"glyph\":{\"id\":\"1069\"},\"group\":null,\"hover_glyph\":null,\"muted_glyph\":{\"id\":\"1071\"},\"nonselection_glyph\":{\"id\":\"1070\"},\"view\":{\"id\":\"1073\"}},\"id\":\"1072\",\"type\":\"GlyphRenderer\"},{\"attributes\":{\"fill_alpha\":{\"value\":0.1},\"fill_color\":{\"field\":\"CGPA\",\"transform\":{\"id\":\"1047\"}},\"hatch_alpha\":{\"value\":0.1},\"hatch_color\":{\"field\":\"CGPA\",\"transform\":{\"id\":\"1047\"}},\"line_alpha\":{\"value\":0.1},\"line_color\":{\"value\":\"white\"},\"top\":{\"field\":\"count\"},\"width\":{\"value\":0.9},\"x\":{\"field\":\"CGPA\"}},\"id\":\"1070\",\"type\":\"VBar\"},{\"attributes\":{},\"id\":\"1214\",\"type\":\"PanTool\"},{\"attributes\":{\"child\":{\"id\":\"1196\"},\"title\":\"marital Status 2\"},\"id\":\"1271\",\"type\":\"Panel\"},{\"attributes\":{},\"id\":\"1057\",\"type\":\"LinearScale\"},{\"attributes\":{\"coordinates\":null,\"group\":null,\"items\":[{\"id\":\"1113\"}]},\"id\":\"1112\",\"type\":\"Legend\"},{\"attributes\":{\"coordinates\":null,\"data_source\":{\"id\":\"1189\"},\"glyph\":{\"id\":\"1190\"},\"group\":null,\"hover_glyph\":null,\"muted_glyph\":{\"id\":\"1192\"},\"nonselection_glyph\":{\"id\":\"1191\"},\"view\":{\"id\":\"1194\"}},\"id\":\"1193\",\"type\":\"GlyphRenderer\"},{\"attributes\":{\"tools\":[{\"id\":\"1046\"}]},\"id\":\"1066\",\"type\":\"Toolbar\"},{\"attributes\":{\"field\":\"angle\",\"include_zero\":true},\"id\":\"1136\",\"type\":\"CumSum\"},{\"attributes\":{},\"id\":\"1147\",\"type\":\"BasicTickFormatter\"},{\"attributes\":{\"axis\":{\"id\":\"1210\"},\"coordinates\":null,\"dimension\":1,\"group\":null,\"ticker\":null},\"id\":\"1213\",\"type\":\"Grid\"},{\"attributes\":{\"fill_alpha\":{\"value\":0.1},\"fill_color\":{\"value\":\"#ff449f\"},\"hatch_alpha\":{\"value\":0.1},\"hatch_color\":{\"value\":\"#ff449f\"},\"line_alpha\":{\"value\":0.1},\"line_color\":{\"value\":\"#ff449f\"},\"top\":{\"field\":\"Yes\"},\"width\":{\"value\":0.3},\"x\":{\"field\":\"gender\",\"transform\":{\"id\":\"1249\"}}},\"id\":\"1252\",\"type\":\"VBar\"},{\"attributes\":{\"bottom_units\":\"screen\",\"coordinates\":null,\"fill_alpha\":0.5,\"fill_color\":\"lightgrey\",\"group\":null,\"left_units\":\"screen\",\"level\":\"overlay\",\"line_alpha\":1.0,\"line_color\":\"black\",\"line_dash\":[4,4],\"line_width\":2,\"right_units\":\"screen\",\"syncable\":false,\"top_units\":\"screen\"},\"id\":\"1220\",\"type\":\"BoxAnnotation\"},{\"attributes\":{\"label\":{\"value\":\"Not married\"},\"renderers\":[{\"id\":\"1235\"}]},\"id\":\"1248\",\"type\":\"LegendItem\"},{\"attributes\":{},\"id\":\"1148\",\"type\":\"AllLabels\"},{\"attributes\":{\"axis\":{\"id\":\"1088\"},\"coordinates\":null,\"grid_line_color\":null,\"group\":null,\"ticker\":null},\"id\":\"1090\",\"type\":\"Grid\"},{\"attributes\":{\"overlay\":{\"id\":\"1220\"}},\"id\":\"1216\",\"type\":\"BoxZoomTool\"},{\"attributes\":{},\"id\":\"1150\",\"type\":\"BasicTickFormatter\"},{\"attributes\":{},\"id\":\"1211\",\"type\":\"BasicTicker\"},{\"attributes\":{},\"id\":\"1042\",\"type\":\"Selection\"},{\"attributes\":{},\"id\":\"1219\",\"type\":\"HelpTool\"},{\"attributes\":{\"below\":[{\"id\":\"1125\"}],\"center\":[{\"id\":\"1128\"},{\"id\":\"1132\"},{\"id\":\"1154\"}],\"height\":450,\"left\":[{\"id\":\"1129\"}],\"renderers\":[{\"id\":\"1143\"}],\"title\":{\"id\":\"1115\"},\"toolbar\":{\"id\":\"1134\"},\"x_range\":{\"id\":\"1117\"},\"x_scale\":{\"id\":\"1121\"},\"y_range\":{\"id\":\"1119\"},\"y_scale\":{\"id\":\"1123\"}},\"id\":\"1114\",\"subtype\":\"Figure\",\"type\":\"Plot\"},{\"attributes\":{\"coordinates\":null,\"group\":null,\"text\":\"Gender wise Marital Status of Students\",\"text_color\":\"black\",\"text_font\":\"Ariel\",\"text_font_size\":\"20px\"},\"id\":\"1197\",\"type\":\"Title\"},{\"attributes\":{},\"id\":\"1041\",\"type\":\"UnionRenderers\"},{\"attributes\":{\"coordinates\":null,\"data_source\":{\"id\":\"1195\"},\"glyph\":{\"id\":\"1251\"},\"group\":null,\"hover_glyph\":null,\"muted_glyph\":{\"id\":\"1253\"},\"nonselection_glyph\":{\"id\":\"1252\"},\"view\":{\"id\":\"1255\"}},\"id\":\"1254\",\"type\":\"GlyphRenderer\"},{\"attributes\":{\"fill_color\":{\"value\":\"#005f99\"},\"hatch_color\":{\"value\":\"#005f99\"},\"line_color\":{\"value\":\"#005f99\"},\"top\":{\"field\":\"No\"},\"width\":{\"value\":0.3},\"x\":{\"field\":\"gender\",\"transform\":{\"id\":\"1230\"}}},\"id\":\"1232\",\"type\":\"VBar\"},{\"attributes\":{\"field\":\"angle\",\"include_zero\":true},\"id\":\"1025\",\"type\":\"CumSum\"},{\"attributes\":{\"factors\":[\"year 1\",\"year 2\",\"year 3\",\"year 4\"],\"palette\":[\"#4c0033\",\"#790252\",\"#af0171\",\"#E80F88\"]},\"id\":\"1076\",\"type\":\"CategoricalColorMapper\"},{\"attributes\":{\"axis_label\":\"Grade in CGPA\",\"coordinates\":null,\"formatter\":{\"id\":\"1296\"},\"group\":null,\"major_label_policy\":{\"id\":\"1297\"},\"ticker\":{\"id\":\"1060\"}},\"id\":\"1059\",\"type\":\"CategoricalAxis\"},{\"attributes\":{\"factors\":[\"Female\",\"Male\"],\"range_padding\":0.1},\"id\":\"1199\",\"type\":\"FactorRange\"},{\"attributes\":{\"label\":{\"value\":\"Married\"},\"renderers\":[{\"id\":\"1254\"}]},\"id\":\"1266\",\"type\":\"LegendItem\"},{\"attributes\":{\"coordinates\":null,\"group\":null,\"text\":\"Number of Students and their Study Years\",\"text_color\":\"black\",\"text_font\":\"Ariel\",\"text_font_size\":\"20px\"},\"id\":\"1078\",\"type\":\"Title\"},{\"attributes\":{},\"id\":\"1217\",\"type\":\"SaveTool\"},{\"attributes\":{\"fill_alpha\":{\"value\":0.2},\"fill_color\":{\"value\":\"#ff449f\"},\"hatch_alpha\":{\"value\":0.2},\"hatch_color\":{\"value\":\"#ff449f\"},\"line_alpha\":{\"value\":0.2},\"line_color\":{\"value\":\"#ff449f\"},\"top\":{\"field\":\"Yes\"},\"width\":{\"value\":0.3},\"x\":{\"field\":\"gender\",\"transform\":{\"id\":\"1249\"}}},\"id\":\"1253\",\"type\":\"VBar\"},{\"attributes\":{},\"id\":\"1203\",\"type\":\"CategoricalScale\"},{\"attributes\":{\"source\":{\"id\":\"1045\"}},\"id\":\"1073\",\"type\":\"CDSView\"},{\"attributes\":{\"factors\":[\"0 - 1.99\",\"2.00 - 2.49\",\"2.50 - 2.99\",\"3.00 - 3.49\",\"3.50 - 4.00\",\"3.50 - 4.00 \"],\"palette\":[\"#08306b\",\"#08316d\",\"#08326e\",\"#083370\",\"#083471\",\"#083573\",\"#083674\",\"#083776\",\"#083877\",\"#083979\",\"#083a7a\",\"#083b7c\",\"#083c7d\",\"#083d7f\",\"#083e81\",\"#084082\",\"#084184\",\"#084285\",\"#084387\",\"#084488\",\"#08458a\",\"#08468b\",\"#08478d\",\"#08488e\",\"#084990\",\"#084a91\",\"#084b93\",\"#084c95\",\"#084d96\",\"#084e98\",\"#084f99\",\"#08509b\",\"#08519c\",\"#09529d\",\"#0a539e\",\"#0a549e\",\"#0b559f\",\"#0c56a0\",\"#0d57a1\",\"#0e58a2\",\"#0e59a2\",\"#0f5aa3\",\"#105ba4\",\"#115ca5\",\"#125da6\",\"#125ea6\",\"#135fa7\",\"#1460a8\",\"#1561a9\",\"#1562a9\",\"#1663aa\",\"#1764ab\",\"#1865ac\",\"#1966ad\",\"#1967ad\",\"#1a68ae\",\"#1b69af\",\"#1c6ab0\",\"#1c6bb0\",\"#1d6cb1\",\"#1e6db2\",\"#1f6eb3\",\"#206fb4\",\"#2070b4\",\"#2171b5\",\"#2272b6\",\"#2373b6\",\"#2474b7\",\"#2575b7\",\"#2676b8\",\"#2777b8\",\"#2979b9\",\"#2a7ab9\",\"#2b7bba\",\"#2c7cba\",\"#2d7dbb\",\"#2e7ebc\",\"#2f7fbc\",\"#3080bd\",\"#3181bd\",\"#3282be\",\"#3383be\",\"#3484bf\",\"#3585bf\",\"#3686c0\",\"#3787c0\",\"#3888c1\",\"#3989c1\",\"#3a8ac2\",\"#3b8bc2\",\"#3c8cc3\",\"#3d8dc4\",\"#3e8ec4\",\"#3f8fc5\",\"#4090c5\",\"#4191c6\",\"#4292c6\",\"#4493c7\",\"#4594c7\",\"#4695c8\",\"#4896c8\",\"#4997c9\",\"#4a98c9\",\"#4b98ca\",\"#4d99ca\",\"#4e9acb\",\"#4f9bcb\",\"#519ccc\",\"#529dcc\",\"#539ecd\",\"#549fcd\",\"#56a0ce\",\"#57a0ce\",\"#58a1cf\",\"#5aa2cf\",\"#5ba3d0\",\"#5ca4d0\",\"#5da5d1\",\"#5fa6d1\",\"#60a7d2\",\"#61a7d2\",\"#63a8d3\",\"#64a9d3\",\"#65aad4\",\"#66abd4\",\"#68acd5\",\"#69add5\",\"#6aaed6\",\"#6caed6\",\"#6dafd7\",\"#6fb0d7\",\"#71b1d7\",\"#72b2d8\",\"#74b3d8\",\"#75b4d8\",\"#77b5d9\",\"#79b5d9\",\"#7ab6d9\",\"#7cb7da\",\"#7db8da\",\"#7fb9da\",\"#81badb\",\"#82bbdb\",\"#84bcdb\",\"#85bcdc\",\"#87bddc\",\"#89bedc\",\"#8abfdd\",\"#8cc0dd\",\"#8dc1dd\",\"#8fc2de\",\"#91c3de\",\"#92c4de\",\"#94c4df\",\"#95c5df\",\"#97c6df\",\"#99c7e0\",\"#9ac8e0\",\"#9cc9e1\",\"#9dcae1\",\"#9fcae1\",\"#a0cbe2\",\"#a1cbe2\",\"#a3cce3\",\"#a4cce3\",\"#a5cde3\",\"#a6cee4\",\"#a8cee4\",\"#a9cfe5\",\"#aacfe5\",\"#abd0e6\",\"#add0e6\",\"#aed1e7\",\"#afd1e7\",\"#b0d2e7\",\"#b2d2e8\",\"#b3d3e8\",\"#b4d3e9\",\"#b5d4e9\",\"#b7d4ea\",\"#b8d5ea\",\"#b9d6ea\",\"#bad6eb\",\"#bcd7eb\",\"#bdd7ec\",\"#bed8ec\",\"#bfd8ed\",\"#c1d9ed\",\"#c2d9ee\",\"#c3daee\",\"#c4daee\",\"#c6dbef\",\"#c7dbef\",\"#c7dcef\",\"#c8dcf0\",\"#c9ddf0\",\"#caddf0\",\"#cadef0\",\"#cbdef1\",\"#ccdff1\",\"#cddff1\",\"#cde0f1\",\"#cee0f2\",\"#cfe1f2\",\"#d0e1f2\",\"#d0e2f2\",\"#d1e2f3\",\"#d2e3f3\",\"#d3e3f3\",\"#d3e4f3\",\"#d4e4f4\",\"#d5e5f4\",\"#d6e5f4\",\"#d6e6f4\",\"#d7e6f5\",\"#d8e7f5\",\"#d9e7f5\",\"#d9e8f5\",\"#dae8f6\",\"#dbe9f6\",\"#dce9f6\",\"#dceaf6\",\"#ddeaf7\",\"#deebf7\",\"#dfebf7\",\"#dfecf7\",\"#e0ecf8\",\"#e1edf8\",\"#e2edf8\",\"#e3eef8\",\"#e3eef9\",\"#e4eff9\",\"#e5eff9\",\"#e6f0f9\",\"#e7f0fa\",\"#e7f1fa\",\"#e8f1fa\",\"#e9f2fa\",\"#eaf2fb\",\"#eaf3fb\",\"#ebf3fb\",\"#ecf4fb\",\"#edf4fc\",\"#eef5fc\",\"#eef5fc\",\"#eff6fc\",\"#f0f6fd\",\"#f1f7fd\",\"#f2f7fd\",\"#f2f8fd\",\"#f3f8fe\",\"#f4f9fe\",\"#f5f9fe\",\"#f5fafe\",\"#f6faff\",\"#f7fbff\"]},\"id\":\"1047\",\"type\":\"CategoricalColorMapper\"},{\"attributes\":{},\"id\":\"1321\",\"type\":\"UnionRenderers\"},{\"attributes\":{\"source\":{\"id\":\"1195\"}},\"id\":\"1255\",\"type\":\"CDSView\"},{\"attributes\":{\"coordinates\":null,\"group\":null,\"items\":[{\"id\":\"1044\"}]},\"id\":\"1043\",\"type\":\"Legend\"},{\"attributes\":{},\"id\":\"1322\",\"type\":\"Selection\"},{\"attributes\":{\"below\":[{\"id\":\"1088\"}],\"center\":[{\"id\":\"1090\"},{\"id\":\"1094\"},{\"id\":\"1112\"}],\"height\":450,\"left\":[{\"id\":\"1091\"}],\"renderers\":[{\"id\":\"1101\"}],\"title\":{\"id\":\"1078\"},\"toolbar\":{\"id\":\"1095\"},\"x_range\":{\"id\":\"1080\"},\"x_scale\":{\"id\":\"1084\"},\"y_range\":{\"id\":\"1082\"},\"y_scale\":{\"id\":\"1086\"}},\"id\":\"1077\",\"subtype\":\"Figure\",\"type\":\"Plot\"},{\"attributes\":{\"data\":{\"angle\":{\"__ndarray__\":\"6dKuj7WpEkC7aFUSF+H5Pw==\",\"dtype\":\"float64\",\"order\":\"little\",\"shape\":[2]},\"color\":[\"blue\",\"orange\"],\"count\":[75,26],\"gender\":[\"Female\",\"Male\"],\"index\":[0,1]},\"selected\":{\"id\":\"1042\"},\"selection_policy\":{\"id\":\"1041\"}},\"id\":\"1027\",\"type\":\"ColumnDataSource\"},{\"attributes\":{},\"id\":\"1218\",\"type\":\"ResetTool\"},{\"attributes\":{},\"id\":\"1089\",\"type\":\"CategoricalTicker\"},{\"attributes\":{},\"id\":\"1151\",\"type\":\"AllLabels\"},{\"attributes\":{\"data\":{\"CGPA\":[\"0 - 1.99\",\"2.00 - 2.49\",\"2.50 - 2.99\",\"3.00 - 3.49\",\"3.50 - 4.00\",\"3.50 - 4.00 \"],\"count\":[4,2,4,43,47,1],\"index\":[3,4,2,1,0,5]},\"selected\":{\"id\":\"1322\"},\"selection_policy\":{\"id\":\"1321\"}},\"id\":\"1045\",\"type\":\"ColumnDataSource\"},{\"attributes\":{},\"id\":\"1092\",\"type\":\"BasicTicker\"},{\"attributes\":{\"axis\":{\"id\":\"1059\"},\"coordinates\":null,\"grid_line_color\":null,\"group\":null,\"ticker\":null},\"id\":\"1061\",\"type\":\"Grid\"}],\"root_ids\":[\"1273\"]},\"title\":\"Bokeh Application\",\"version\":\"2.4.3\"}};\n  const render_items = [{\"docid\":\"4ec4dee9-bcb6-4e75-a847-f32e53a1d23a\",\"root_ids\":[\"1273\"],\"roots\":{\"1273\":\"644810f1-f402-4f5c-ab4f-8473fe3cbaf4\"}}];\n  root.Bokeh.embed.embed_items_notebook(docs_json, render_items);\n  }\n  if (root.Bokeh !== undefined) {\n    embed_document(root);\n  } else {\n    let attempts = 0;\n    const timer = setInterval(function(root) {\n      if (root.Bokeh !== undefined) {\n        clearInterval(timer);\n        embed_document(root);\n      } else {\n        attempts++;\n        if (attempts > 100) {\n          clearInterval(timer);\n          console.log(\"Bokeh: ERROR: Unable to run BokehJS code because BokehJS library is missing\");\n        }\n      }\n    }, 10, root)\n  }\n})(window);",
      "application/vnd.bokehjs_exec.v0+json": ""
     },
     "metadata": {
      "application/vnd.bokehjs_exec.v0+json": {
       "id": "1273"
      }
     },
     "output_type": "display_data"
    }
   ],
   "source": [
    "# Result plots\n",
    "\n",
    "tab2 = Panel(child=p1, title='Gender')\n",
    "tab3 = Panel(child=p2, title='Grade')\n",
    "tab4 = Panel(child=p3, title='Study Year')\n",
    "tab5 = Panel(child=p4, title='Marital Status 1')\n",
    "tab6 = Panel(child=p6, title='marital Status 2')\n",
    "tab1 = Panel(child=p5, title=\"Age Distribution\")\n",
    "\n",
    "tabs_obj = Tabs(tabs=[tab1, tab2, tab3, tab4, tab5, tab6])\n",
    "\n",
    "show(tabs_obj)"
   ]
  },
  {
   "cell_type": "code",
   "execution_count": 30,
   "metadata": {},
   "outputs": [],
   "source": [
    "def GroupedBar(df, y_range, title, tooltips, x_axis_label, y_axis_label, x_axis, top1, top2, legend1, legend2, col1, col2):\n",
    "    data = ColumnDataSource(df)\n",
    "\n",
    "    plot = figure(\n",
    "        x_range = df.iloc[:,0].tolist(),\n",
    "        y_range = y_range,\n",
    "        height = 450,\n",
    "        title = title,\n",
    "        tooltips = tooltips,\n",
    "        x_axis_label = x_axis_label,\n",
    "        y_axis_label = y_axis_label\n",
    "    )\n",
    "\n",
    "    plot.vbar(\n",
    "        x = bokeh.transform.dodge(x_axis, -0.17, range=plot.x_range),\n",
    "        top = top1,\n",
    "        width = 0.3,\n",
    "        source = data,\n",
    "        color = col1,\n",
    "        legend_label = legend1\n",
    "    )\n",
    "\n",
    "    plot.vbar(\n",
    "        x = bokeh.transform.dodge(x_axis, 0.17, range = plot.x_range),\n",
    "        top = top2,\n",
    "        width = 0.3,\n",
    "        source = data,\n",
    "        color = col2,\n",
    "        legend_label = legend2\n",
    "    )\n",
    "\n",
    "    plot.x_range.range_padding = 0.1\n",
    "    plot.xgrid.grid_line_color = None\n",
    "    plot.title.text_color = 'black'\n",
    "    plot.title.text_font_style = 'bold'\n",
    "    plot.title.text_font = 'Ariel'\n",
    "    plot.title.text_font_size = '20px'\n",
    "\n",
    "    return plot"
   ]
  },
  {
   "cell_type": "markdown",
   "metadata": {},
   "source": [
    "### Depression"
   ]
  },
  {
   "cell_type": "code",
   "execution_count": 31,
   "metadata": {},
   "outputs": [],
   "source": [
    "# Number of depressed students\n",
    "total_depressed = pd.DataFrame(df.depression.value_counts()).reset_index().rename(columns={'depression':'count', 'index': 'depression'})\n",
    "total_depressed['angle'] = total_depressed['count']/ total_depressed['count'].sum()*2*pi\n",
    "total_depressed['color'] = ['#367e18', '#cc3636']\n",
    "\n",
    "p7 = figure(\n",
    "    height=450, \n",
    "    title='How many Students are Depressed?',\n",
    "    tools='hover', \n",
    "    tooltips='@depression: @count',\n",
    "    x_range=(-0.5, .9)\n",
    ")\n",
    "\n",
    "p7.wedge(\n",
    "    x=0, \n",
    "    y=1, \n",
    "    radius=0.4,\n",
    "    start_angle=bokeh.transform.cumsum(\n",
    "        'angle', \n",
    "        include_zero=True\n",
    "    ),\n",
    "    end_angle=bokeh.transform.cumsum('angle'),\n",
    "    line_color='white',\n",
    "    fill_color='color',\n",
    "    legend_field='depression',\n",
    "    source=total_depressed\n",
    ")\n",
    "\n",
    "p7.axis.axis_label = None\n",
    "p7.axis.visible = False\n",
    "p7.grid.grid_line_color = None\n",
    "p7.title.text_color='black'\n",
    "p7.title.text_font_style='bold'\n",
    "p7.title.text_font_size='20px'\n",
    "p7.title.text_font = 'Ariel'\n",
    "\n",
    "# Which gender students are more depressed?\n",
    "depression_gender = pd.crosstab(df.gender, df.depression).reset_index()\n",
    "tooltips = [('Gender', '@gender'), ('No depression', '@No'), ('Depressed', '@Yes')]\n",
    "p8 = GroupedBar(df=depression_gender, y_range = (0,50), title=\"Which Students are Depressed?\",\\\n",
    "     tooltips = tooltips, x_axis_label='Gender', y_axis_label='No. of Students' ,x_axis='gender', top1='No', \\\n",
    "        top2='Yes', legend1='Not depressed', legend2='Depressed', col1='#367e18', col2='#cc3636')\n",
    "\n",
    "\n",
    "# Relation of marriage with depression\n",
    "depression_marriage = pd.crosstab(df.marital_status, df.depression).reset_index()\n",
    "title = 'How marriage is related to depression?'\n",
    "tool = [\n",
    "    ('Marital status', '@marital_status'),\n",
    "    ('No depression', '@No'),\n",
    "    ('Depression', '@Yes')\n",
    "]\n",
    "\n",
    "p9 = GroupedBar(df=depression_marriage, y_range=(0, 70), title=title, tooltips=tool, x_axis_label='Marital Status',\\\n",
    "    y_axis_label = 'No. of Students', x_axis='marital_status', top1='No', top2='Yes', \\\n",
    "        legend1='Not depressed', legend2='Depressed', col1='#367e18', col2='#cc3636')\n",
    "\n",
    "\n",
    "# Relation of grades with depression\n",
    "depression_grade = pd.crosstab(df.cgpa, df.depression).reset_index()\n",
    "\n",
    "title = 'How grade is related to depression among students'\n",
    "tool = [ \n",
    "    ('Grade','@cgpa'),\n",
    "    ('No depression', '@No'),\n",
    "    ('Depression', '@Yes')\n",
    "]\n",
    "p10 = GroupedBar(df=depression_grade, y_range=(0,40), title=title, tooltips=tool,\\\n",
    "    x_axis_label='Grade in CGPA', y_axis_label='No. of Students', x_axis='cgpa', top1='No', top2='Yes',\\\n",
    "        legend1='Not depressed', legend2='Depressed', col1='#367e18', col2='#cc3636')\n",
    "\n",
    "p10.legend.location = 'top_left'\n",
    "\n",
    "\n",
    "# Are the depressed Students seeking help?\n",
    "depressed_students = df[df.depression=='Yes']\n",
    "depression_treatment = pd.crosstab(depressed_students.gender, depressed_students.treatment).reset_index()\n",
    "\n",
    "title = 'Are the depressed students seeking Help?'\n",
    "tips = [ \n",
    "    ('Gender', '@gender'),\n",
    "    ('No treatment','@No'),\n",
    "    ('Treatment', '@Yes')\n",
    "]\n",
    "\n",
    "p11 = GroupedBar(df=depression_treatment, y_range=(0,27), title=title, tooltips=tips,\\\n",
    "    x_axis_label='Gender', y_axis_label='No. of Students', x_axis='gender', top1='No', top2='Yes',\\\n",
    "        legend1='No treatment', legend2='Treatment', col1='#d2001a', col2='#006e7f')\n"
   ]
  },
  {
   "cell_type": "code",
   "execution_count": 32,
   "metadata": {},
   "outputs": [
    {
     "data": {
      "text/html": [
       "\n",
       "  <div class=\"bk-root\" id=\"f5fa769e-cc21-4e82-b75e-c4ae7cdde280\" data-root-id=\"1945\"></div>\n"
      ]
     },
     "metadata": {},
     "output_type": "display_data"
    },
    {
     "data": {
      "application/javascript": "(function(root) {\n  function embed_document(root) {\n  const docs_json = {\"353ca9d5-d0b1-4d09-8393-24d6d8317356\":{\"defs\":[],\"roots\":{\"references\":[{\"attributes\":{\"tabs\":[{\"id\":\"1940\"},{\"id\":\"1941\"},{\"id\":\"1942\"},{\"id\":\"1943\"},{\"id\":\"1944\"}]},\"id\":\"1945\",\"type\":\"Tabs\"},{\"attributes\":{\"axis\":{\"id\":\"1880\"},\"coordinates\":null,\"grid_line_color\":null,\"group\":null,\"ticker\":null},\"id\":\"1882\",\"type\":\"Grid\"},{\"attributes\":{},\"id\":\"1734\",\"type\":\"LinearScale\"},{\"attributes\":{\"source\":{\"id\":\"1724\"}},\"id\":\"1765\",\"type\":\"CDSView\"},{\"attributes\":{\"axis\":{\"id\":\"1667\"},\"coordinates\":null,\"dimension\":1,\"group\":null,\"ticker\":null},\"id\":\"1670\",\"type\":\"Grid\"},{\"attributes\":{\"coordinates\":null,\"group\":null,\"items\":[{\"id\":\"1777\"},{\"id\":\"1795\"}]},\"id\":\"1776\",\"type\":\"Legend\"},{\"attributes\":{},\"id\":\"1917\",\"type\":\"UnionRenderers\"},{\"attributes\":{\"callback\":null,\"tooltips\":[[\"Gender\",\"@gender\"],[\"No depression\",\"@No\"],[\"Depressed\",\"@Yes\"]]},\"id\":\"1678\",\"type\":\"HoverTool\"},{\"attributes\":{},\"id\":\"1697\",\"type\":\"AllLabels\"},{\"attributes\":{\"factors\":[\"No\",\"Yes\"],\"range_padding\":0.1},\"id\":\"1728\",\"type\":\"FactorRange\"},{\"attributes\":{\"tools\":[{\"id\":\"1887\"},{\"id\":\"1888\"},{\"id\":\"1889\"},{\"id\":\"1890\"},{\"id\":\"1891\"},{\"id\":\"1892\"},{\"id\":\"1894\"}]},\"id\":\"1895\",\"type\":\"Toolbar\"},{\"attributes\":{},\"id\":\"1890\",\"type\":\"SaveTool\"},{\"attributes\":{},\"id\":\"1876\",\"type\":\"CategoricalScale\"},{\"attributes\":{},\"id\":\"1744\",\"type\":\"WheelZoomTool\"},{\"attributes\":{},\"id\":\"1668\",\"type\":\"BasicTicker\"},{\"attributes\":{},\"id\":\"1912\",\"type\":\"BasicTickFormatter\"},{\"attributes\":{\"axis\":{\"id\":\"1811\"},\"coordinates\":null,\"dimension\":1,\"group\":null,\"ticker\":null},\"id\":\"1814\",\"type\":\"Grid\"},{\"attributes\":{\"axis\":{\"id\":\"1664\"},\"coordinates\":null,\"grid_line_color\":null,\"group\":null,\"ticker\":null},\"id\":\"1666\",\"type\":\"Grid\"},{\"attributes\":{},\"id\":\"1743\",\"type\":\"PanTool\"},{\"attributes\":{\"coordinates\":null,\"data_source\":{\"id\":\"1652\"},\"glyph\":{\"id\":\"1708\"},\"group\":null,\"hover_glyph\":null,\"muted_glyph\":{\"id\":\"1710\"},\"nonselection_glyph\":{\"id\":\"1709\"},\"view\":{\"id\":\"1712\"}},\"id\":\"1711\",\"type\":\"GlyphRenderer\"},{\"attributes\":{\"range\":{\"id\":\"1656\"},\"value\":-0.17},\"id\":\"1687\",\"type\":\"Dodge\"},{\"attributes\":{},\"id\":\"1675\",\"type\":\"ResetTool\"},{\"attributes\":{\"end\":27},\"id\":\"1874\",\"type\":\"Range1d\"},{\"attributes\":{\"axis\":{\"id\":\"1808\"},\"coordinates\":null,\"grid_line_color\":null,\"group\":null,\"ticker\":null},\"id\":\"1810\",\"type\":\"Grid\"},{\"attributes\":{\"end\":40},\"id\":\"1802\",\"type\":\"Range1d\"},{\"attributes\":{\"end\":70},\"id\":\"1730\",\"type\":\"Range1d\"},{\"attributes\":{\"axis_label\":\"Marital Status\",\"coordinates\":null,\"formatter\":{\"id\":\"1771\"},\"group\":null,\"major_label_policy\":{\"id\":\"1772\"},\"ticker\":{\"id\":\"1737\"}},\"id\":\"1736\",\"type\":\"CategoricalAxis\"},{\"attributes\":{\"fill_alpha\":{\"value\":0.2},\"fill_color\":{\"value\":\"#367e18\"},\"hatch_alpha\":{\"value\":0.2},\"hatch_color\":{\"value\":\"#367e18\"},\"line_alpha\":{\"value\":0.2},\"line_color\":{\"value\":\"#367e18\"},\"top\":{\"field\":\"No\"},\"width\":{\"value\":0.3},\"x\":{\"field\":\"gender\",\"transform\":{\"id\":\"1687\"}}},\"id\":\"1691\",\"type\":\"VBar\"},{\"attributes\":{},\"id\":\"1815\",\"type\":\"PanTool\"},{\"attributes\":{},\"id\":\"1746\",\"type\":\"SaveTool\"},{\"attributes\":{\"callback\":null,\"tooltips\":[[\"Gender\",\"@gender\"],[\"No treatment\",\"@No\"],[\"Treatment\",\"@Yes\"]]},\"id\":\"1894\",\"type\":\"HoverTool\"},{\"attributes\":{\"bottom_units\":\"screen\",\"coordinates\":null,\"fill_alpha\":0.5,\"fill_color\":\"lightgrey\",\"group\":null,\"left_units\":\"screen\",\"level\":\"overlay\",\"line_alpha\":1.0,\"line_color\":\"black\",\"line_dash\":[4,4],\"line_width\":2,\"right_units\":\"screen\",\"syncable\":false,\"top_units\":\"screen\"},\"id\":\"1677\",\"type\":\"BoxAnnotation\"},{\"attributes\":{\"overlay\":{\"id\":\"1821\"}},\"id\":\"1817\",\"type\":\"BoxZoomTool\"},{\"attributes\":{\"fill_color\":{\"value\":\"#cc3636\"},\"hatch_color\":{\"value\":\"#cc3636\"},\"line_color\":{\"value\":\"#cc3636\"},\"top\":{\"field\":\"Yes\"},\"width\":{\"value\":0.3},\"x\":{\"field\":\"gender\",\"transform\":{\"id\":\"1706\"}}},\"id\":\"1708\",\"type\":\"VBar\"},{\"attributes\":{},\"id\":\"1818\",\"type\":\"SaveTool\"},{\"attributes\":{\"below\":[{\"id\":\"1736\"}],\"center\":[{\"id\":\"1738\"},{\"id\":\"1742\"},{\"id\":\"1776\"}],\"height\":450,\"left\":[{\"id\":\"1739\"}],\"renderers\":[{\"id\":\"1764\"},{\"id\":\"1783\"}],\"title\":{\"id\":\"1726\"},\"toolbar\":{\"id\":\"1751\"},\"x_range\":{\"id\":\"1728\"},\"x_scale\":{\"id\":\"1732\"},\"y_range\":{\"id\":\"1730\"},\"y_scale\":{\"id\":\"1734\"}},\"id\":\"1725\",\"subtype\":\"Figure\",\"type\":\"Plot\"},{\"attributes\":{},\"id\":\"1737\",\"type\":\"CategoricalTicker\"},{\"attributes\":{\"overlay\":{\"id\":\"1749\"}},\"id\":\"1745\",\"type\":\"BoxZoomTool\"},{\"attributes\":{\"callback\":null,\"tooltips\":[[\"Marital status\",\"@marital_status\"],[\"No depression\",\"@No\"],[\"Depression\",\"@Yes\"]]},\"id\":\"1750\",\"type\":\"HoverTool\"},{\"attributes\":{\"bottom_units\":\"screen\",\"coordinates\":null,\"fill_alpha\":0.5,\"fill_color\":\"lightgrey\",\"group\":null,\"left_units\":\"screen\",\"level\":\"overlay\",\"line_alpha\":1.0,\"line_color\":\"black\",\"line_dash\":[4,4],\"line_width\":2,\"right_units\":\"screen\",\"syncable\":false,\"top_units\":\"screen\"},\"id\":\"1749\",\"type\":\"BoxAnnotation\"},{\"attributes\":{\"axis\":{\"id\":\"1739\"},\"coordinates\":null,\"dimension\":1,\"group\":null,\"ticker\":null},\"id\":\"1742\",\"type\":\"Grid\"},{\"attributes\":{\"fill_alpha\":{\"value\":0.1},\"fill_color\":{\"value\":\"#367e18\"},\"hatch_alpha\":{\"value\":0.1},\"hatch_color\":{\"value\":\"#367e18\"},\"line_alpha\":{\"value\":0.1},\"line_color\":{\"value\":\"#367e18\"},\"top\":{\"field\":\"No\"},\"width\":{\"value\":0.3},\"x\":{\"field\":\"cgpa\",\"transform\":{\"id\":\"1831\"}}},\"id\":\"1834\",\"type\":\"VBar\"},{\"attributes\":{\"fill_alpha\":{\"value\":0.1},\"fill_color\":{\"value\":\"#cc3636\"},\"hatch_alpha\":{\"value\":0.1},\"hatch_color\":{\"value\":\"#cc3636\"},\"line_alpha\":{\"value\":0.1},\"line_color\":{\"value\":\"#cc3636\"},\"top\":{\"field\":\"Yes\"},\"width\":{\"value\":0.3},\"x\":{\"field\":\"cgpa\",\"transform\":{\"id\":\"1850\"}}},\"id\":\"1853\",\"type\":\"VBar\"},{\"attributes\":{\"factors\":[\"0 - 1.99\",\"2.00 - 2.49\",\"2.50 - 2.99\",\"3.00 - 3.49\",\"3.50 - 4.00\",\"3.50 - 4.00 \"],\"range_padding\":0.1},\"id\":\"1800\",\"type\":\"FactorRange\"},{\"attributes\":{},\"id\":\"1702\",\"type\":\"Selection\"},{\"attributes\":{},\"id\":\"1769\",\"type\":\"AllLabels\"},{\"attributes\":{\"range\":{\"id\":\"1800\"},\"value\":0.17},\"id\":\"1850\",\"type\":\"Dodge\"},{\"attributes\":{\"coordinates\":null,\"group\":null,\"items\":[{\"id\":\"1705\"},{\"id\":\"1723\"}]},\"id\":\"1704\",\"type\":\"Legend\"},{\"attributes\":{},\"id\":\"1676\",\"type\":\"HelpTool\"},{\"attributes\":{\"fill_alpha\":{\"value\":0.1},\"fill_color\":{\"value\":\"#367e18\"},\"hatch_alpha\":{\"value\":0.1},\"hatch_color\":{\"value\":\"#367e18\"},\"line_alpha\":{\"value\":0.1},\"line_color\":{\"value\":\"#367e18\"},\"top\":{\"field\":\"No\"},\"width\":{\"value\":0.3},\"x\":{\"field\":\"marital_status\",\"transform\":{\"id\":\"1759\"}}},\"id\":\"1762\",\"type\":\"VBar\"},{\"attributes\":{\"overlay\":{\"id\":\"1677\"}},\"id\":\"1673\",\"type\":\"BoxZoomTool\"},{\"attributes\":{\"fill_color\":{\"value\":\"#cc3636\"},\"hatch_color\":{\"value\":\"#cc3636\"},\"line_color\":{\"value\":\"#cc3636\"},\"top\":{\"field\":\"Yes\"},\"width\":{\"value\":0.3},\"x\":{\"field\":\"cgpa\",\"transform\":{\"id\":\"1850\"}}},\"id\":\"1852\",\"type\":\"VBar\"},{\"attributes\":{},\"id\":\"1662\",\"type\":\"LinearScale\"},{\"attributes\":{\"data\":{\"No\":[4,2,1,24,35,0],\"Yes\":[0,0,3,19,12,1],\"cgpa\":[\"0 - 1.99\",\"2.00 - 2.49\",\"2.50 - 2.99\",\"3.00 - 3.49\",\"3.50 - 4.00\",\"3.50 - 4.00 \"],\"index\":[0,1,2,3,4,5]},\"selected\":{\"id\":\"1846\"},\"selection_policy\":{\"id\":\"1845\"}},\"id\":\"1796\",\"type\":\"ColumnDataSource\"},{\"attributes\":{},\"id\":\"1916\",\"type\":\"AllLabels\"},{\"attributes\":{},\"id\":\"1913\",\"type\":\"AllLabels\"},{\"attributes\":{\"coordinates\":null,\"group\":null,\"text\":\"How grade is related to depression among students\",\"text_color\":\"black\",\"text_font\":\"Ariel\",\"text_font_size\":\"20px\"},\"id\":\"1798\",\"type\":\"Title\"},{\"attributes\":{\"child\":{\"id\":\"1653\"},\"title\":\"Gender based\"},\"id\":\"1941\",\"type\":\"Panel\"},{\"attributes\":{},\"id\":\"1772\",\"type\":\"AllLabels\"},{\"attributes\":{\"child\":{\"id\":\"1869\"},\"title\":\"Treatment\"},\"id\":\"1944\",\"type\":\"Panel\"},{\"attributes\":{\"source\":{\"id\":\"1796\"}},\"id\":\"1837\",\"type\":\"CDSView\"},{\"attributes\":{},\"id\":\"1915\",\"type\":\"CategoricalTickFormatter\"},{\"attributes\":{},\"id\":\"1701\",\"type\":\"UnionRenderers\"},{\"attributes\":{},\"id\":\"1619\",\"type\":\"LinearScale\"},{\"attributes\":{},\"id\":\"1626\",\"type\":\"BasicTicker\"},{\"attributes\":{\"range\":{\"id\":\"1728\"},\"value\":-0.17},\"id\":\"1759\",\"type\":\"Dodge\"},{\"attributes\":{},\"id\":\"1617\",\"type\":\"LinearScale\"},{\"attributes\":{\"coordinates\":null,\"formatter\":{\"id\":\"1646\"},\"group\":null,\"major_label_policy\":{\"id\":\"1647\"},\"ticker\":{\"id\":\"1622\"},\"visible\":false},\"id\":\"1621\",\"type\":\"LinearAxis\"},{\"attributes\":{\"axis_label\":\"Grade in CGPA\",\"coordinates\":null,\"formatter\":{\"id\":\"1843\"},\"group\":null,\"major_label_policy\":{\"id\":\"1844\"},\"ticker\":{\"id\":\"1809\"}},\"id\":\"1808\",\"type\":\"CategoricalAxis\"},{\"attributes\":{\"axis\":{\"id\":\"1621\"},\"coordinates\":null,\"grid_line_color\":null,\"group\":null,\"ticker\":null},\"id\":\"1624\",\"type\":\"Grid\"},{\"attributes\":{\"callback\":null,\"tooltips\":[[\"Grade\",\"@cgpa\"],[\"No depression\",\"@No\"],[\"Depression\",\"@Yes\"]]},\"id\":\"1822\",\"type\":\"HoverTool\"},{\"attributes\":{\"fill_color\":{\"value\":\"#d2001a\"},\"hatch_color\":{\"value\":\"#d2001a\"},\"line_color\":{\"value\":\"#d2001a\"},\"top\":{\"field\":\"No\"},\"width\":{\"value\":0.3},\"x\":{\"field\":\"gender\",\"transform\":{\"id\":\"1903\"}}},\"id\":\"1905\",\"type\":\"VBar\"},{\"attributes\":{\"data\":{\"angle\":{\"__ndarray__\":\"ASB7VWJsEEAvGpL9MWsBQA==\",\"dtype\":\"float64\",\"order\":\"little\",\"shape\":[2]},\"color\":[\"#367e18\",\"#cc3636\"],\"count\":[66,35],\"depression\":[\"No\",\"Yes\"],\"index\":[0,1]},\"selected\":{\"id\":\"1649\"},\"selection_policy\":{\"id\":\"1648\"}},\"id\":\"1634\",\"type\":\"ColumnDataSource\"},{\"attributes\":{},\"id\":\"1771\",\"type\":\"CategoricalTickFormatter\"},{\"attributes\":{\"coordinates\":null,\"data_source\":{\"id\":\"1868\"},\"glyph\":{\"id\":\"1905\"},\"group\":null,\"hover_glyph\":null,\"muted_glyph\":{\"id\":\"1907\"},\"nonselection_glyph\":{\"id\":\"1906\"},\"view\":{\"id\":\"1909\"}},\"id\":\"1908\",\"type\":\"GlyphRenderer\"},{\"attributes\":{},\"id\":\"1768\",\"type\":\"BasicTickFormatter\"},{\"attributes\":{\"fill_alpha\":{\"value\":0.2},\"fill_color\":{\"value\":\"#d2001a\"},\"hatch_alpha\":{\"value\":0.2},\"hatch_color\":{\"value\":\"#d2001a\"},\"line_alpha\":{\"value\":0.2},\"line_color\":{\"value\":\"#d2001a\"},\"top\":{\"field\":\"No\"},\"width\":{\"value\":0.3},\"x\":{\"field\":\"gender\",\"transform\":{\"id\":\"1903\"}}},\"id\":\"1907\",\"type\":\"VBar\"},{\"attributes\":{\"axis_label\":\"No. of Students\",\"coordinates\":null,\"formatter\":{\"id\":\"1840\"},\"group\":null,\"major_label_policy\":{\"id\":\"1841\"},\"ticker\":{\"id\":\"1812\"}},\"id\":\"1811\",\"type\":\"LinearAxis\"},{\"attributes\":{},\"id\":\"1812\",\"type\":\"BasicTicker\"},{\"attributes\":{},\"id\":\"1643\",\"type\":\"BasicTickFormatter\"},{\"attributes\":{\"range\":{\"id\":\"1800\"},\"value\":-0.17},\"id\":\"1831\",\"type\":\"Dodge\"},{\"attributes\":{},\"id\":\"1774\",\"type\":\"Selection\"},{\"attributes\":{},\"id\":\"1649\",\"type\":\"Selection\"},{\"attributes\":{\"fill_alpha\":{\"value\":0.2},\"fill_color\":{\"value\":\"#cc3636\"},\"hatch_alpha\":{\"value\":0.2},\"hatch_color\":{\"value\":\"#cc3636\"},\"line_alpha\":{\"value\":0.2},\"line_color\":{\"value\":\"#cc3636\"},\"top\":{\"field\":\"Yes\"},\"width\":{\"value\":0.3},\"x\":{\"field\":\"cgpa\",\"transform\":{\"id\":\"1850\"}}},\"id\":\"1854\",\"type\":\"VBar\"},{\"attributes\":{\"range\":{\"id\":\"1656\"},\"value\":0.17},\"id\":\"1706\",\"type\":\"Dodge\"},{\"attributes\":{\"fill_alpha\":{\"value\":0.1},\"fill_color\":{\"value\":\"#cc3636\"},\"hatch_alpha\":{\"value\":0.1},\"hatch_color\":{\"value\":\"#cc3636\"},\"line_alpha\":{\"value\":0.1},\"line_color\":{\"value\":\"#cc3636\"},\"top\":{\"field\":\"Yes\"},\"width\":{\"value\":0.3},\"x\":{\"field\":\"gender\",\"transform\":{\"id\":\"1706\"}}},\"id\":\"1709\",\"type\":\"VBar\"},{\"attributes\":{},\"id\":\"1773\",\"type\":\"UnionRenderers\"},{\"attributes\":{},\"id\":\"1809\",\"type\":\"CategoricalTicker\"},{\"attributes\":{\"end_angle\":{\"expr\":{\"id\":\"1633\"}},\"fill_alpha\":{\"value\":0.2},\"fill_color\":{\"field\":\"color\"},\"hatch_alpha\":{\"value\":0.2},\"line_alpha\":{\"value\":0.2},\"line_color\":{\"value\":\"white\"},\"radius\":{\"value\":0.4},\"start_angle\":{\"expr\":{\"id\":\"1632\"}},\"x\":{\"value\":0},\"y\":{\"value\":1}},\"id\":\"1638\",\"type\":\"Wedge\"},{\"attributes\":{\"label\":{\"value\":\"Not depressed\"},\"renderers\":[{\"id\":\"1836\"}]},\"id\":\"1849\",\"type\":\"LegendItem\"},{\"attributes\":{\"bottom_units\":\"screen\",\"coordinates\":null,\"fill_alpha\":0.5,\"fill_color\":\"lightgrey\",\"group\":null,\"left_units\":\"screen\",\"level\":\"overlay\",\"line_alpha\":1.0,\"line_color\":\"black\",\"line_dash\":[4,4],\"line_width\":2,\"right_units\":\"screen\",\"syncable\":false,\"top_units\":\"screen\"},\"id\":\"1821\",\"type\":\"BoxAnnotation\"},{\"attributes\":{\"below\":[{\"id\":\"1808\"}],\"center\":[{\"id\":\"1810\"},{\"id\":\"1814\"},{\"id\":\"1848\"}],\"height\":450,\"left\":[{\"id\":\"1811\"}],\"renderers\":[{\"id\":\"1836\"},{\"id\":\"1855\"}],\"title\":{\"id\":\"1798\"},\"toolbar\":{\"id\":\"1823\"},\"x_range\":{\"id\":\"1800\"},\"x_scale\":{\"id\":\"1804\"},\"y_range\":{\"id\":\"1802\"},\"y_scale\":{\"id\":\"1806\"}},\"id\":\"1797\",\"subtype\":\"Figure\",\"type\":\"Plot\"},{\"attributes\":{},\"id\":\"1672\",\"type\":\"WheelZoomTool\"},{\"attributes\":{},\"id\":\"1820\",\"type\":\"HelpTool\"},{\"attributes\":{\"coordinates\":null,\"group\":null,\"items\":[{\"id\":\"1651\"}]},\"id\":\"1650\",\"type\":\"Legend\"},{\"attributes\":{},\"id\":\"1816\",\"type\":\"WheelZoomTool\"},{\"attributes\":{\"coordinates\":null,\"formatter\":{\"id\":\"1643\"},\"group\":null,\"major_label_policy\":{\"id\":\"1644\"},\"ticker\":{\"id\":\"1626\"},\"visible\":false},\"id\":\"1625\",\"type\":\"LinearAxis\"},{\"attributes\":{\"source\":{\"id\":\"1634\"}},\"id\":\"1640\",\"type\":\"CDSView\"},{\"attributes\":{\"overlay\":{\"id\":\"1893\"}},\"id\":\"1889\",\"type\":\"BoxZoomTool\"},{\"attributes\":{},\"id\":\"1804\",\"type\":\"CategoricalScale\"},{\"attributes\":{\"label\":{\"field\":\"depression\"},\"renderers\":[{\"id\":\"1639\"}]},\"id\":\"1651\",\"type\":\"LegendItem\"},{\"attributes\":{\"tools\":[{\"id\":\"1743\"},{\"id\":\"1744\"},{\"id\":\"1745\"},{\"id\":\"1746\"},{\"id\":\"1747\"},{\"id\":\"1748\"},{\"id\":\"1750\"}]},\"id\":\"1751\",\"type\":\"Toolbar\"},{\"attributes\":{\"source\":{\"id\":\"1652\"}},\"id\":\"1693\",\"type\":\"CDSView\"},{\"attributes\":{\"fill_color\":{\"value\":\"#367e18\"},\"hatch_color\":{\"value\":\"#367e18\"},\"line_color\":{\"value\":\"#367e18\"},\"top\":{\"field\":\"No\"},\"width\":{\"value\":0.3},\"x\":{\"field\":\"marital_status\",\"transform\":{\"id\":\"1759\"}}},\"id\":\"1761\",\"type\":\"VBar\"},{\"attributes\":{\"end_angle\":{\"expr\":{\"id\":\"1633\"}},\"fill_color\":{\"field\":\"color\"},\"line_color\":{\"value\":\"white\"},\"radius\":{\"value\":0.4},\"start_angle\":{\"expr\":{\"id\":\"1632\"}},\"x\":{\"value\":0},\"y\":{\"value\":1}},\"id\":\"1636\",\"type\":\"Wedge\"},{\"attributes\":{},\"id\":\"1819\",\"type\":\"ResetTool\"},{\"attributes\":{\"below\":[{\"id\":\"1664\"}],\"center\":[{\"id\":\"1666\"},{\"id\":\"1670\"},{\"id\":\"1704\"}],\"height\":450,\"left\":[{\"id\":\"1667\"}],\"renderers\":[{\"id\":\"1692\"},{\"id\":\"1711\"}],\"title\":{\"id\":\"1654\"},\"toolbar\":{\"id\":\"1679\"},\"x_range\":{\"id\":\"1656\"},\"x_scale\":{\"id\":\"1660\"},\"y_range\":{\"id\":\"1658\"},\"y_scale\":{\"id\":\"1662\"}},\"id\":\"1653\",\"subtype\":\"Figure\",\"type\":\"Plot\"},{\"attributes\":{\"coordinates\":null,\"data_source\":{\"id\":\"1652\"},\"glyph\":{\"id\":\"1689\"},\"group\":null,\"hover_glyph\":null,\"muted_glyph\":{\"id\":\"1691\"},\"nonselection_glyph\":{\"id\":\"1690\"},\"view\":{\"id\":\"1693\"}},\"id\":\"1692\",\"type\":\"GlyphRenderer\"},{\"attributes\":{\"field\":\"angle\",\"include_zero\":true},\"id\":\"1632\",\"type\":\"CumSum\"},{\"attributes\":{\"coordinates\":null,\"data_source\":{\"id\":\"1724\"},\"glyph\":{\"id\":\"1761\"},\"group\":null,\"hover_glyph\":null,\"muted_glyph\":{\"id\":\"1763\"},\"nonselection_glyph\":{\"id\":\"1762\"},\"view\":{\"id\":\"1765\"}},\"id\":\"1764\",\"type\":\"GlyphRenderer\"},{\"attributes\":{\"below\":[{\"id\":\"1621\"}],\"center\":[{\"id\":\"1624\"},{\"id\":\"1628\"},{\"id\":\"1650\"}],\"height\":450,\"left\":[{\"id\":\"1625\"}],\"renderers\":[{\"id\":\"1639\"}],\"title\":{\"id\":\"1611\"},\"toolbar\":{\"id\":\"1630\"},\"x_range\":{\"id\":\"1613\"},\"x_scale\":{\"id\":\"1617\"},\"y_range\":{\"id\":\"1615\"},\"y_scale\":{\"id\":\"1619\"}},\"id\":\"1610\",\"subtype\":\"Figure\",\"type\":\"Plot\"},{\"attributes\":{\"coordinates\":null,\"data_source\":{\"id\":\"1634\"},\"glyph\":{\"id\":\"1636\"},\"group\":null,\"hover_glyph\":null,\"muted_glyph\":{\"id\":\"1638\"},\"nonselection_glyph\":{\"id\":\"1637\"},\"view\":{\"id\":\"1640\"}},\"id\":\"1639\",\"type\":\"GlyphRenderer\"},{\"attributes\":{\"axis_label\":\"No. of Students\",\"coordinates\":null,\"formatter\":{\"id\":\"1912\"},\"group\":null,\"major_label_policy\":{\"id\":\"1913\"},\"ticker\":{\"id\":\"1884\"}},\"id\":\"1883\",\"type\":\"LinearAxis\"},{\"attributes\":{\"label\":{\"value\":\"Not depressed\"},\"renderers\":[{\"id\":\"1692\"}]},\"id\":\"1705\",\"type\":\"LegendItem\"},{\"attributes\":{\"fill_alpha\":{\"value\":0.2},\"fill_color\":{\"value\":\"#367e18\"},\"hatch_alpha\":{\"value\":0.2},\"hatch_color\":{\"value\":\"#367e18\"},\"line_alpha\":{\"value\":0.2},\"line_color\":{\"value\":\"#367e18\"},\"top\":{\"field\":\"No\"},\"width\":{\"value\":0.3},\"x\":{\"field\":\"marital_status\",\"transform\":{\"id\":\"1759\"}}},\"id\":\"1763\",\"type\":\"VBar\"},{\"attributes\":{\"end_angle\":{\"expr\":{\"id\":\"1633\"}},\"fill_alpha\":{\"value\":0.1},\"fill_color\":{\"field\":\"color\"},\"hatch_alpha\":{\"value\":0.1},\"line_alpha\":{\"value\":0.1},\"line_color\":{\"value\":\"white\"},\"radius\":{\"value\":0.4},\"start_angle\":{\"expr\":{\"id\":\"1632\"}},\"x\":{\"value\":0},\"y\":{\"value\":1}},\"id\":\"1637\",\"type\":\"Wedge\"},{\"attributes\":{},\"id\":\"1696\",\"type\":\"BasicTickFormatter\"},{\"attributes\":{},\"id\":\"1647\",\"type\":\"AllLabels\"},{\"attributes\":{\"factors\":[\"Female\",\"Male\"],\"range_padding\":0.1},\"id\":\"1872\",\"type\":\"FactorRange\"},{\"attributes\":{\"fill_alpha\":{\"value\":0.1},\"fill_color\":{\"value\":\"#006e7f\"},\"hatch_alpha\":{\"value\":0.1},\"hatch_color\":{\"value\":\"#006e7f\"},\"line_alpha\":{\"value\":0.1},\"line_color\":{\"value\":\"#006e7f\"},\"top\":{\"field\":\"Yes\"},\"width\":{\"value\":0.3},\"x\":{\"field\":\"gender\",\"transform\":{\"id\":\"1922\"}}},\"id\":\"1925\",\"type\":\"VBar\"},{\"attributes\":{},\"id\":\"1840\",\"type\":\"BasicTickFormatter\"},{\"attributes\":{\"label\":{\"value\":\"No treatment\"},\"renderers\":[{\"id\":\"1908\"}]},\"id\":\"1921\",\"type\":\"LegendItem\"},{\"attributes\":{},\"id\":\"1887\",\"type\":\"PanTool\"},{\"attributes\":{},\"id\":\"1845\",\"type\":\"UnionRenderers\"},{\"attributes\":{\"range\":{\"id\":\"1872\"},\"value\":0.17},\"id\":\"1922\",\"type\":\"Dodge\"},{\"attributes\":{},\"id\":\"1891\",\"type\":\"ResetTool\"},{\"attributes\":{},\"id\":\"1806\",\"type\":\"LinearScale\"},{\"attributes\":{\"callback\":null,\"tooltips\":\"@depression: @count\"},\"id\":\"1629\",\"type\":\"HoverTool\"},{\"attributes\":{\"fill_color\":{\"value\":\"#006e7f\"},\"hatch_color\":{\"value\":\"#006e7f\"},\"line_color\":{\"value\":\"#006e7f\"},\"top\":{\"field\":\"Yes\"},\"width\":{\"value\":0.3},\"x\":{\"field\":\"gender\",\"transform\":{\"id\":\"1922\"}}},\"id\":\"1924\",\"type\":\"VBar\"},{\"attributes\":{\"tools\":[{\"id\":\"1629\"}]},\"id\":\"1630\",\"type\":\"Toolbar\"},{\"attributes\":{\"fill_color\":{\"value\":\"#367e18\"},\"hatch_color\":{\"value\":\"#367e18\"},\"line_color\":{\"value\":\"#367e18\"},\"top\":{\"field\":\"No\"},\"width\":{\"value\":0.3},\"x\":{\"field\":\"gender\",\"transform\":{\"id\":\"1687\"}}},\"id\":\"1689\",\"type\":\"VBar\"},{\"attributes\":{\"end\":0.9,\"start\":-0.5},\"id\":\"1613\",\"type\":\"Range1d\"},{\"attributes\":{\"coordinates\":null,\"data_source\":{\"id\":\"1868\"},\"glyph\":{\"id\":\"1924\"},\"group\":null,\"hover_glyph\":null,\"muted_glyph\":{\"id\":\"1926\"},\"nonselection_glyph\":{\"id\":\"1925\"},\"view\":{\"id\":\"1928\"}},\"id\":\"1927\",\"type\":\"GlyphRenderer\"},{\"attributes\":{\"axis\":{\"id\":\"1883\"},\"coordinates\":null,\"dimension\":1,\"group\":null,\"ticker\":null},\"id\":\"1886\",\"type\":\"Grid\"},{\"attributes\":{},\"id\":\"1615\",\"type\":\"DataRange1d\"},{\"attributes\":{\"factors\":[\"Female\",\"Male\"],\"range_padding\":0.1},\"id\":\"1656\",\"type\":\"FactorRange\"},{\"attributes\":{\"axis\":{\"id\":\"1625\"},\"coordinates\":null,\"dimension\":1,\"grid_line_color\":null,\"group\":null,\"ticker\":null},\"id\":\"1628\",\"type\":\"Grid\"},{\"attributes\":{\"label\":{\"value\":\"Treatment\"},\"renderers\":[{\"id\":\"1927\"}]},\"id\":\"1939\",\"type\":\"LegendItem\"},{\"attributes\":{\"bottom_units\":\"screen\",\"coordinates\":null,\"fill_alpha\":0.5,\"fill_color\":\"lightgrey\",\"group\":null,\"left_units\":\"screen\",\"level\":\"overlay\",\"line_alpha\":1.0,\"line_color\":\"black\",\"line_dash\":[4,4],\"line_width\":2,\"right_units\":\"screen\",\"syncable\":false,\"top_units\":\"screen\"},\"id\":\"1893\",\"type\":\"BoxAnnotation\"},{\"attributes\":{\"fill_alpha\":{\"value\":0.2},\"fill_color\":{\"value\":\"#006e7f\"},\"hatch_alpha\":{\"value\":0.2},\"hatch_color\":{\"value\":\"#006e7f\"},\"line_alpha\":{\"value\":0.2},\"line_color\":{\"value\":\"#006e7f\"},\"top\":{\"field\":\"Yes\"},\"width\":{\"value\":0.3},\"x\":{\"field\":\"gender\",\"transform\":{\"id\":\"1922\"}}},\"id\":\"1926\",\"type\":\"VBar\"},{\"attributes\":{\"field\":\"angle\"},\"id\":\"1633\",\"type\":\"CumSum\"},{\"attributes\":{},\"id\":\"1888\",\"type\":\"WheelZoomTool\"},{\"attributes\":{\"source\":{\"id\":\"1868\"}},\"id\":\"1928\",\"type\":\"CDSView\"},{\"attributes\":{\"data\":{\"No\":[46,20],\"Yes\":[29,6],\"gender\":[\"Female\",\"Male\"],\"index\":[0,1]},\"selected\":{\"id\":\"1702\"},\"selection_policy\":{\"id\":\"1701\"}},\"id\":\"1652\",\"type\":\"ColumnDataSource\"},{\"attributes\":{\"coordinates\":null,\"group\":null,\"text\":\"How many Students are Depressed?\",\"text_color\":\"black\",\"text_font\":\"Ariel\",\"text_font_size\":\"20px\"},\"id\":\"1611\",\"type\":\"Title\"},{\"attributes\":{},\"id\":\"1846\",\"type\":\"Selection\"},{\"attributes\":{},\"id\":\"1700\",\"type\":\"AllLabels\"},{\"attributes\":{},\"id\":\"1648\",\"type\":\"UnionRenderers\"},{\"attributes\":{\"coordinates\":null,\"group\":null,\"text\":\"Which Students are Depressed?\",\"text_color\":\"black\",\"text_font\":\"Ariel\",\"text_font_size\":\"20px\"},\"id\":\"1654\",\"type\":\"Title\"},{\"attributes\":{},\"id\":\"1665\",\"type\":\"CategoricalTicker\"},{\"attributes\":{},\"id\":\"1622\",\"type\":\"BasicTicker\"},{\"attributes\":{\"axis_label\":\"No. of Students\",\"coordinates\":null,\"formatter\":{\"id\":\"1696\"},\"group\":null,\"major_label_policy\":{\"id\":\"1697\"},\"ticker\":{\"id\":\"1668\"}},\"id\":\"1667\",\"type\":\"LinearAxis\"},{\"attributes\":{},\"id\":\"1699\",\"type\":\"CategoricalTickFormatter\"},{\"attributes\":{\"data\":{\"No\":[66,0],\"Yes\":[19,16],\"index\":[0,1],\"marital_status\":[\"No\",\"Yes\"]},\"selected\":{\"id\":\"1774\"},\"selection_policy\":{\"id\":\"1773\"}},\"id\":\"1724\",\"type\":\"ColumnDataSource\"},{\"attributes\":{},\"id\":\"1674\",\"type\":\"SaveTool\"},{\"attributes\":{\"coordinates\":null,\"data_source\":{\"id\":\"1796\"},\"glyph\":{\"id\":\"1852\"},\"group\":null,\"hover_glyph\":null,\"muted_glyph\":{\"id\":\"1854\"},\"nonselection_glyph\":{\"id\":\"1853\"},\"view\":{\"id\":\"1856\"}},\"id\":\"1855\",\"type\":\"GlyphRenderer\"},{\"attributes\":{\"source\":{\"id\":\"1796\"}},\"id\":\"1856\",\"type\":\"CDSView\"},{\"attributes\":{},\"id\":\"1748\",\"type\":\"HelpTool\"},{\"attributes\":{},\"id\":\"1732\",\"type\":\"CategoricalScale\"},{\"attributes\":{\"coordinates\":null,\"group\":null,\"text\":\"How marriage is related to depression?\",\"text_color\":\"black\",\"text_font\":\"Ariel\",\"text_font_size\":\"20px\"},\"id\":\"1726\",\"type\":\"Title\"},{\"attributes\":{\"end\":50},\"id\":\"1658\",\"type\":\"Range1d\"},{\"attributes\":{},\"id\":\"1844\",\"type\":\"AllLabels\"},{\"attributes\":{},\"id\":\"1881\",\"type\":\"CategoricalTicker\"},{\"attributes\":{\"label\":{\"value\":\"Depressed\"},\"renderers\":[{\"id\":\"1855\"}]},\"id\":\"1867\",\"type\":\"LegendItem\"},{\"attributes\":{},\"id\":\"1646\",\"type\":\"BasicTickFormatter\"},{\"attributes\":{},\"id\":\"1918\",\"type\":\"Selection\"},{\"attributes\":{\"axis\":{\"id\":\"1736\"},\"coordinates\":null,\"grid_line_color\":null,\"group\":null,\"ticker\":null},\"id\":\"1738\",\"type\":\"Grid\"},{\"attributes\":{\"tools\":[{\"id\":\"1671\"},{\"id\":\"1672\"},{\"id\":\"1673\"},{\"id\":\"1674\"},{\"id\":\"1675\"},{\"id\":\"1676\"},{\"id\":\"1678\"}]},\"id\":\"1679\",\"type\":\"Toolbar\"},{\"attributes\":{\"axis_label\":\"No. of Students\",\"coordinates\":null,\"formatter\":{\"id\":\"1768\"},\"group\":null,\"major_label_policy\":{\"id\":\"1769\"},\"ticker\":{\"id\":\"1740\"}},\"id\":\"1739\",\"type\":\"LinearAxis\"},{\"attributes\":{},\"id\":\"1740\",\"type\":\"BasicTicker\"},{\"attributes\":{\"child\":{\"id\":\"1725\"},\"title\":\"Marriage based\"},\"id\":\"1942\",\"type\":\"Panel\"},{\"attributes\":{},\"id\":\"1644\",\"type\":\"AllLabels\"},{\"attributes\":{\"child\":{\"id\":\"1610\"},\"title\":\"Depression\"},\"id\":\"1940\",\"type\":\"Panel\"},{\"attributes\":{\"fill_alpha\":{\"value\":0.2},\"fill_color\":{\"value\":\"#cc3636\"},\"hatch_alpha\":{\"value\":0.2},\"hatch_color\":{\"value\":\"#cc3636\"},\"line_alpha\":{\"value\":0.2},\"line_color\":{\"value\":\"#cc3636\"},\"top\":{\"field\":\"Yes\"},\"width\":{\"value\":0.3},\"x\":{\"field\":\"gender\",\"transform\":{\"id\":\"1706\"}}},\"id\":\"1710\",\"type\":\"VBar\"},{\"attributes\":{},\"id\":\"1841\",\"type\":\"AllLabels\"},{\"attributes\":{\"coordinates\":null,\"group\":null,\"items\":[{\"id\":\"1921\"},{\"id\":\"1939\"}]},\"id\":\"1920\",\"type\":\"Legend\"},{\"attributes\":{\"fill_alpha\":{\"value\":0.1},\"fill_color\":{\"value\":\"#cc3636\"},\"hatch_alpha\":{\"value\":0.1},\"hatch_color\":{\"value\":\"#cc3636\"},\"line_alpha\":{\"value\":0.1},\"line_color\":{\"value\":\"#cc3636\"},\"top\":{\"field\":\"Yes\"},\"width\":{\"value\":0.3},\"x\":{\"field\":\"marital_status\",\"transform\":{\"id\":\"1778\"}}},\"id\":\"1781\",\"type\":\"VBar\"},{\"attributes\":{\"label\":{\"value\":\"Not depressed\"},\"renderers\":[{\"id\":\"1764\"}]},\"id\":\"1777\",\"type\":\"LegendItem\"},{\"attributes\":{\"child\":{\"id\":\"1797\"},\"title\":\"Grade based\"},\"id\":\"1943\",\"type\":\"Panel\"},{\"attributes\":{\"axis_label\":\"Gender\",\"coordinates\":null,\"formatter\":{\"id\":\"1699\"},\"group\":null,\"major_label_policy\":{\"id\":\"1700\"},\"ticker\":{\"id\":\"1665\"}},\"id\":\"1664\",\"type\":\"CategoricalAxis\"},{\"attributes\":{\"tools\":[{\"id\":\"1815\"},{\"id\":\"1816\"},{\"id\":\"1817\"},{\"id\":\"1818\"},{\"id\":\"1819\"},{\"id\":\"1820\"},{\"id\":\"1822\"}]},\"id\":\"1823\",\"type\":\"Toolbar\"},{\"attributes\":{\"axis_label\":\"Gender\",\"coordinates\":null,\"formatter\":{\"id\":\"1915\"},\"group\":null,\"major_label_policy\":{\"id\":\"1916\"},\"ticker\":{\"id\":\"1881\"}},\"id\":\"1880\",\"type\":\"CategoricalAxis\"},{\"attributes\":{\"range\":{\"id\":\"1728\"},\"value\":0.17},\"id\":\"1778\",\"type\":\"Dodge\"},{\"attributes\":{},\"id\":\"1843\",\"type\":\"CategoricalTickFormatter\"},{\"attributes\":{\"fill_color\":{\"value\":\"#cc3636\"},\"hatch_color\":{\"value\":\"#cc3636\"},\"line_color\":{\"value\":\"#cc3636\"},\"top\":{\"field\":\"Yes\"},\"width\":{\"value\":0.3},\"x\":{\"field\":\"marital_status\",\"transform\":{\"id\":\"1778\"}}},\"id\":\"1780\",\"type\":\"VBar\"},{\"attributes\":{\"data\":{\"No\":[24,5],\"Yes\":[5,1],\"gender\":[\"Female\",\"Male\"],\"index\":[0,1]},\"selected\":{\"id\":\"1918\"},\"selection_policy\":{\"id\":\"1917\"}},\"id\":\"1868\",\"type\":\"ColumnDataSource\"},{\"attributes\":{\"source\":{\"id\":\"1868\"}},\"id\":\"1909\",\"type\":\"CDSView\"},{\"attributes\":{\"fill_color\":{\"value\":\"#367e18\"},\"hatch_color\":{\"value\":\"#367e18\"},\"line_color\":{\"value\":\"#367e18\"},\"top\":{\"field\":\"No\"},\"width\":{\"value\":0.3},\"x\":{\"field\":\"cgpa\",\"transform\":{\"id\":\"1831\"}}},\"id\":\"1833\",\"type\":\"VBar\"},{\"attributes\":{\"coordinates\":null,\"data_source\":{\"id\":\"1724\"},\"glyph\":{\"id\":\"1780\"},\"group\":null,\"hover_glyph\":null,\"muted_glyph\":{\"id\":\"1782\"},\"nonselection_glyph\":{\"id\":\"1781\"},\"view\":{\"id\":\"1784\"}},\"id\":\"1783\",\"type\":\"GlyphRenderer\"},{\"attributes\":{\"coordinates\":null,\"data_source\":{\"id\":\"1796\"},\"glyph\":{\"id\":\"1833\"},\"group\":null,\"hover_glyph\":null,\"muted_glyph\":{\"id\":\"1835\"},\"nonselection_glyph\":{\"id\":\"1834\"},\"view\":{\"id\":\"1837\"}},\"id\":\"1836\",\"type\":\"GlyphRenderer\"},{\"attributes\":{},\"id\":\"1884\",\"type\":\"BasicTicker\"},{\"attributes\":{\"fill_alpha\":{\"value\":0.1},\"fill_color\":{\"value\":\"#367e18\"},\"hatch_alpha\":{\"value\":0.1},\"hatch_color\":{\"value\":\"#367e18\"},\"line_alpha\":{\"value\":0.1},\"line_color\":{\"value\":\"#367e18\"},\"top\":{\"field\":\"No\"},\"width\":{\"value\":0.3},\"x\":{\"field\":\"gender\",\"transform\":{\"id\":\"1687\"}}},\"id\":\"1690\",\"type\":\"VBar\"},{\"attributes\":{\"label\":{\"value\":\"Depressed\"},\"renderers\":[{\"id\":\"1783\"}]},\"id\":\"1795\",\"type\":\"LegendItem\"},{\"attributes\":{\"fill_alpha\":{\"value\":0.2},\"fill_color\":{\"value\":\"#cc3636\"},\"hatch_alpha\":{\"value\":0.2},\"hatch_color\":{\"value\":\"#cc3636\"},\"line_alpha\":{\"value\":0.2},\"line_color\":{\"value\":\"#cc3636\"},\"top\":{\"field\":\"Yes\"},\"width\":{\"value\":0.3},\"x\":{\"field\":\"marital_status\",\"transform\":{\"id\":\"1778\"}}},\"id\":\"1782\",\"type\":\"VBar\"},{\"attributes\":{\"coordinates\":null,\"group\":null,\"items\":[{\"id\":\"1849\"},{\"id\":\"1867\"}],\"location\":\"top_left\"},\"id\":\"1848\",\"type\":\"Legend\"},{\"attributes\":{},\"id\":\"1660\",\"type\":\"CategoricalScale\"},{\"attributes\":{\"source\":{\"id\":\"1724\"}},\"id\":\"1784\",\"type\":\"CDSView\"},{\"attributes\":{\"fill_alpha\":{\"value\":0.2},\"fill_color\":{\"value\":\"#367e18\"},\"hatch_alpha\":{\"value\":0.2},\"hatch_color\":{\"value\":\"#367e18\"},\"line_alpha\":{\"value\":0.2},\"line_color\":{\"value\":\"#367e18\"},\"top\":{\"field\":\"No\"},\"width\":{\"value\":0.3},\"x\":{\"field\":\"cgpa\",\"transform\":{\"id\":\"1831\"}}},\"id\":\"1835\",\"type\":\"VBar\"},{\"attributes\":{\"coordinates\":null,\"group\":null,\"text\":\"Are the depressed students seeking Help?\",\"text_color\":\"black\",\"text_font\":\"Ariel\",\"text_font_size\":\"20px\"},\"id\":\"1870\",\"type\":\"Title\"},{\"attributes\":{},\"id\":\"1747\",\"type\":\"ResetTool\"},{\"attributes\":{\"source\":{\"id\":\"1652\"}},\"id\":\"1712\",\"type\":\"CDSView\"},{\"attributes\":{\"fill_alpha\":{\"value\":0.1},\"fill_color\":{\"value\":\"#d2001a\"},\"hatch_alpha\":{\"value\":0.1},\"hatch_color\":{\"value\":\"#d2001a\"},\"line_alpha\":{\"value\":0.1},\"line_color\":{\"value\":\"#d2001a\"},\"top\":{\"field\":\"No\"},\"width\":{\"value\":0.3},\"x\":{\"field\":\"gender\",\"transform\":{\"id\":\"1903\"}}},\"id\":\"1906\",\"type\":\"VBar\"},{\"attributes\":{\"label\":{\"value\":\"Depressed\"},\"renderers\":[{\"id\":\"1711\"}]},\"id\":\"1723\",\"type\":\"LegendItem\"},{\"attributes\":{},\"id\":\"1892\",\"type\":\"HelpTool\"},{\"attributes\":{},\"id\":\"1878\",\"type\":\"LinearScale\"},{\"attributes\":{},\"id\":\"1671\",\"type\":\"PanTool\"},{\"attributes\":{\"range\":{\"id\":\"1872\"},\"value\":-0.17},\"id\":\"1903\",\"type\":\"Dodge\"},{\"attributes\":{\"below\":[{\"id\":\"1880\"}],\"center\":[{\"id\":\"1882\"},{\"id\":\"1886\"},{\"id\":\"1920\"}],\"height\":450,\"left\":[{\"id\":\"1883\"}],\"renderers\":[{\"id\":\"1908\"},{\"id\":\"1927\"}],\"title\":{\"id\":\"1870\"},\"toolbar\":{\"id\":\"1895\"},\"x_range\":{\"id\":\"1872\"},\"x_scale\":{\"id\":\"1876\"},\"y_range\":{\"id\":\"1874\"},\"y_scale\":{\"id\":\"1878\"}},\"id\":\"1869\",\"subtype\":\"Figure\",\"type\":\"Plot\"}],\"root_ids\":[\"1945\"]},\"title\":\"Bokeh Application\",\"version\":\"2.4.3\"}};\n  const render_items = [{\"docid\":\"353ca9d5-d0b1-4d09-8393-24d6d8317356\",\"root_ids\":[\"1945\"],\"roots\":{\"1945\":\"f5fa769e-cc21-4e82-b75e-c4ae7cdde280\"}}];\n  root.Bokeh.embed.embed_items_notebook(docs_json, render_items);\n  }\n  if (root.Bokeh !== undefined) {\n    embed_document(root);\n  } else {\n    let attempts = 0;\n    const timer = setInterval(function(root) {\n      if (root.Bokeh !== undefined) {\n        clearInterval(timer);\n        embed_document(root);\n      } else {\n        attempts++;\n        if (attempts > 100) {\n          clearInterval(timer);\n          console.log(\"Bokeh: ERROR: Unable to run BokehJS code because BokehJS library is missing\");\n        }\n      }\n    }, 10, root)\n  }\n})(window);",
      "application/vnd.bokehjs_exec.v0+json": ""
     },
     "metadata": {
      "application/vnd.bokehjs_exec.v0+json": {
       "id": "1945"
      }
     },
     "output_type": "display_data"
    }
   ],
   "source": [
    "# Depression Result plots\n",
    "tab7 = Panel(child=p7, title='Depression')\n",
    "tab8 = Panel(child=p8, title='Gender based')\n",
    "tab9 = Panel(child=p9, title='Marriage based')\n",
    "tab10 = Panel(child=p10, title='Grade based')\n",
    "tab11 = Panel(child = p11, title='Treatment')\n",
    "\n",
    "tabs_obj1 = Tabs(tabs=[tab7, tab8, tab9, tab10, tab11])\n",
    "\n",
    "show(tabs_obj1)"
   ]
  },
  {
   "cell_type": "markdown",
   "metadata": {},
   "source": [
    "### Anxiety"
   ]
  },
  {
   "cell_type": "code",
   "execution_count": 79,
   "metadata": {},
   "outputs": [],
   "source": [
    "anxiety_total = df.anxiety.value_counts().reset_index().rename(columns={'anxiety':'count', 'index':'anxiety'})\n",
    "anxiety_total['angle'] = anxiety_total['count']/anxiety_total['count'].sum() *2*pi\n",
    "anxiety_total['color'] = ['#fb7813', '#17706e'][::-1]\n",
    "p12 = figure(\n",
    "    height=450, \n",
    "    title='How many Students are Suffering from Anxiety?',\n",
    "    tools='hover', \n",
    "    tooltips='@anxiety: @count',\n",
    "    x_range=(-0.5, .9)\n",
    ")\n",
    "\n",
    "p12.wedge(\n",
    "    x=0, \n",
    "    y=1, \n",
    "    radius=0.4,\n",
    "    start_angle=bokeh.transform.cumsum(\n",
    "        'angle', \n",
    "        include_zero=True\n",
    "    ),\n",
    "    end_angle=bokeh.transform.cumsum('angle'),\n",
    "    line_color='white',\n",
    "    fill_color='color',\n",
    "    legend_field='anxiety',\n",
    "    source=anxiety_total\n",
    ")\n",
    "\n",
    "p12.axis.axis_label = None\n",
    "p12.axis.visible = False\n",
    "p12.grid.grid_line_color = None\n",
    "p12.title.text_color='black'\n",
    "p12.title.text_font_style='bold'\n",
    "p12.title.text_font_size='20px'\n",
    "p12.title.text_font = 'Ariel'\n",
    "\n",
    "# Gender wise\n",
    "anxiety_gender = pd.crosstab(df.gender, df.anxiety).reset_index()\n",
    "title = 'Relation of Gender with Anxiety'\n",
    "tips = [ \n",
    "    ('Gender', '@gender'),\n",
    "    ('No anxiety', '@No'),\n",
    "    ('Anxiety', '@Yes')\n",
    "]\n",
    "p13 = GroupedBar(df=anxiety_gender, y_range=(0,65), title=title, tooltips=tips,\\\n",
    "    x_axis_label='Gender', y_axis_label='No. of Students', x_axis='gender', top1='No', top2='Yes',\\\n",
    "        legend1='No anxiety', legend2='Anxiety', col1='#52006a', col2='#cd113b')\n",
    "\n",
    "# Marital status\n",
    "anxiety_marriage = pd.crosstab(df.marital_status, df.anxiety).reset_index()\n",
    "title = 'Marriage Vs Anxiety'\n",
    "tips = [ \n",
    "    ('Marital Status', '@marital_status'),\n",
    "    ('No anxiety', '@No'),\n",
    "    ('Anxiety', '@Yes')\n",
    "]\n",
    "p14 = GroupedBar(df=anxiety_marriage, y_range=(0,60), title=title, tooltips=tips, \\\n",
    "        x_axis_label='Marital Status', y_axis_label='No. of Students', x_axis='marital_status',\\\n",
    "            top1='No', top2='Yes', legend1='No anxiety', legend2='Anxiety', col1='#52006a', col2='#cd113b')\n",
    "\n",
    "anxiety_grade = pd.crosstab(df.cgpa, df.anxiety).reset_index()\n",
    "title='Grade Vs. Anxiety'\n",
    "tips = [ \n",
    "    ('Grade', '@cgpa'),\n",
    "    ('No anxiety', '@No'),\n",
    "    ('Anxiety', '@Yes')\n",
    "]\n",
    "p15 = GroupedBar(df=anxiety_grade, y_range=(0,30), title=title, tooltips=tips, x_axis_label='Grade',\\\n",
    "    y_axis_label='No. of Students', x_axis='cgpa', top1='No', top2='Yes', legend1='No anxiety', \\\n",
    "        legend2='Anxiety', col1='#52006a', col2='#cd113b')\n",
    "p15.legend.location='top_left'\n",
    "\n",
    "# Are Anxiety suffering students seeking help of treatment\n",
    "anxiety_students = df[df.anxiety=='Yes']\n",
    "treatment1 = pd.crosstab(anxiety_students.gender, anxiety_students.treatment).reset_index()\n",
    "treatment2 = pd.crosstab(anxiety_students.marital_status, anxiety_students.treatment).reset_index()\n",
    "title = 'Are the students taking medical treatment? (Gender)'\n",
    "tips = [ \n",
    "    ('Gender','@gender'),\n",
    "    ('No treatment', '@No'),\n",
    "    ('Treatment', '@Yes')\n",
    "]\n",
    "p16 = GroupedBar(df=treatment1, y_range=(0,25), title=title, tooltips=tips,x_axis_label='Gender',\\\n",
    "    y_axis_label='No. of Students', x_axis='gender', top1='No', top2 ='Yes', legend1='No treatment',\\\n",
    "        legend2='Treatment', col1='#c40018', col2='#2b580c')\n",
    "\n",
    "title = 'Are the students taking medical treatment? (Marriage)'\n",
    "tips = [ \n",
    "    ('marital_status', '@marital_status'),\n",
    "    ('No treatment', '@No'),\n",
    "    ('Treatment', '@Yes')\n",
    "]\n",
    "p17 = GroupedBar(df=treatment2, y_range=(0,30), title=title, tooltips=tips, x_axis_label='Marital Status',\\\n",
    "    y_axis_label='No. of Students', x_axis='marital_status', top1='No', top2='Yes', legend1='No treatment',\\\n",
    "        legend2='Treatment', col1='#c40018', col2='#2b580c')\n",
    "\n",
    "\n",
    "# Does depression causes anxiety?\n",
    "anxiety_depression =pd.crosstab(df.depression, df.anxiety).reset_index()\n",
    "title = \"Relationship of Depression with Anxiety\"\n",
    "tips = [ \n",
    "    ('Depression', '@depression'),\n",
    "    ('No Anxiety', '@No'),\n",
    "    ('Anxiety', '@Yes')\n",
    "]\n",
    "p18 = GroupedBar(df=anxiety_depression, y_range=(0,52), title=title, tooltips=tips, x_axis_label='Depression',\\\n",
    "    y_axis_label='No. of Students', x_axis='depression', top1='No', top2='Yes', legend1='No anxiety',\\\n",
    "        legend2='Anxiety', col1='#003355',col2='#ff5200')"
   ]
  },
  {
   "cell_type": "code",
   "execution_count": 80,
   "metadata": {},
   "outputs": [
    {
     "data": {
      "text/html": [
       "\n",
       "  <div class=\"bk-root\" id=\"381c5d47-e159-4edb-8c0b-28d5b859dd47\" data-root-id=\"8372\"></div>\n"
      ]
     },
     "metadata": {},
     "output_type": "display_data"
    },
    {
     "data": {
      "application/javascript": "(function(root) {\n  function embed_document(root) {\n  const docs_json = {\"b5e7a941-a09b-46b6-ac16-7005f9ee0a28\":{\"defs\":[],\"roots\":{\"references\":[{\"attributes\":{\"tabs\":[{\"id\":\"8365\"},{\"id\":\"8366\"},{\"id\":\"8367\"},{\"id\":\"8368\"},{\"id\":\"8369\"},{\"id\":\"8370\"},{\"id\":\"8371\"}]},\"id\":\"8372\",\"type\":\"Tabs\"},{\"attributes\":{\"axis_label\":\"Depression\",\"coordinates\":null,\"formatter\":{\"id\":\"8340\"},\"group\":null,\"major_label_policy\":{\"id\":\"8341\"},\"ticker\":{\"id\":\"8306\"}},\"id\":\"8305\",\"type\":\"CategoricalAxis\"},{\"attributes\":{},\"id\":\"8028\",\"type\":\"ResetTool\"},{\"attributes\":{},\"id\":\"7907\",\"type\":\"BasicTicker\"},{\"attributes\":{\"tools\":[{\"id\":\"8096\"},{\"id\":\"8097\"},{\"id\":\"8098\"},{\"id\":\"8099\"},{\"id\":\"8100\"},{\"id\":\"8101\"},{\"id\":\"8103\"}]},\"id\":\"8104\",\"type\":\"Toolbar\"},{\"attributes\":{},\"id\":\"7927\",\"type\":\"BasicTickFormatter\"},{\"attributes\":{},\"id\":\"8024\",\"type\":\"PanTool\"},{\"attributes\":{},\"id\":\"8100\",\"type\":\"ResetTool\"},{\"attributes\":{\"callback\":null,\"tooltips\":[[\"Depression\",\"@depression\"],[\"No Anxiety\",\"@No\"],[\"Anxiety\",\"@Yes\"]]},\"id\":\"8319\",\"type\":\"HoverTool\"},{\"attributes\":{\"range\":{\"id\":\"8009\"},\"value\":-0.17},\"id\":\"8040\",\"type\":\"Dodge\"},{\"attributes\":{\"fill_alpha\":{\"value\":0.1},\"fill_color\":{\"value\":\"#cd113b\"},\"hatch_alpha\":{\"value\":0.1},\"hatch_color\":{\"value\":\"#cd113b\"},\"line_alpha\":{\"value\":0.1},\"line_color\":{\"value\":\"#cd113b\"},\"top\":{\"field\":\"Yes\"},\"width\":{\"value\":0.3},\"x\":{\"field\":\"cgpa\",\"transform\":{\"id\":\"8131\"}}},\"id\":\"8134\",\"type\":\"VBar\"},{\"attributes\":{\"axis_label\":\"No. of Students\",\"coordinates\":null,\"formatter\":{\"id\":\"8337\"},\"group\":null,\"major_label_policy\":{\"id\":\"8338\"},\"ticker\":{\"id\":\"8309\"}},\"id\":\"8308\",\"type\":\"LinearAxis\"},{\"attributes\":{\"data\":{\"No\":[4,2,3,28,29,1],\"Yes\":[0,0,1,15,18,0],\"cgpa\":[\"0 - 1.99\",\"2.00 - 2.49\",\"2.50 - 2.99\",\"3.00 - 3.49\",\"3.50 - 4.00\",\"3.50 - 4.00 \"],\"index\":[0,1,2,3,4,5]},\"selected\":{\"id\":\"8127\"},\"selection_policy\":{\"id\":\"8126\"}},\"id\":\"8077\",\"type\":\"ColumnDataSource\"},{\"attributes\":{\"source\":{\"id\":\"7915\"}},\"id\":\"7921\",\"type\":\"CDSView\"},{\"attributes\":{},\"id\":\"8265\",\"type\":\"BasicTickFormatter\"},{\"attributes\":{\"label\":{\"field\":\"anxiety\"},\"renderers\":[{\"id\":\"7920\"}]},\"id\":\"7932\",\"type\":\"LegendItem\"},{\"attributes\":{\"child\":{\"id\":\"8006\"},\"title\":\"Marriage\"},\"id\":\"8367\",\"type\":\"Panel\"},{\"attributes\":{\"axis\":{\"id\":\"8017\"},\"coordinates\":null,\"grid_line_color\":null,\"group\":null,\"ticker\":null},\"id\":\"8019\",\"type\":\"Grid\"},{\"attributes\":{},\"id\":\"8096\",\"type\":\"PanTool\"},{\"attributes\":{},\"id\":\"8303\",\"type\":\"LinearScale\"},{\"attributes\":{\"data\":{\"No\":[51,16],\"Yes\":[24,10],\"gender\":[\"Female\",\"Male\"],\"index\":[0,1]},\"selected\":{\"id\":\"7983\"},\"selection_policy\":{\"id\":\"7982\"}},\"id\":\"7933\",\"type\":\"ColumnDataSource\"},{\"attributes\":{},\"id\":\"8018\",\"type\":\"CategoricalTicker\"},{\"attributes\":{\"child\":{\"id\":\"8078\"},\"title\":\"Grade\"},\"id\":\"8368\",\"type\":\"Panel\"},{\"attributes\":{\"coordinates\":null,\"group\":null,\"text\":\"Relationship of Depression with Anxiety\",\"text_color\":\"black\",\"text_font\":\"Ariel\",\"text_font_size\":\"20px\"},\"id\":\"8295\",\"type\":\"Title\"},{\"attributes\":{\"end_angle\":{\"expr\":{\"id\":\"7914\"}},\"fill_alpha\":{\"value\":0.2},\"fill_color\":{\"field\":\"color\"},\"hatch_alpha\":{\"value\":0.2},\"line_alpha\":{\"value\":0.2},\"line_color\":{\"value\":\"white\"},\"radius\":{\"value\":0.4},\"start_angle\":{\"expr\":{\"id\":\"7913\"}},\"x\":{\"value\":0},\"y\":{\"value\":1}},\"id\":\"7919\",\"type\":\"Wedge\"},{\"attributes\":{\"coordinates\":null,\"group\":null,\"items\":[{\"id\":\"8058\"},{\"id\":\"8076\"}]},\"id\":\"8057\",\"type\":\"Legend\"},{\"attributes\":{\"fill_alpha\":{\"value\":0.2},\"fill_color\":{\"value\":\"#52006a\"},\"hatch_alpha\":{\"value\":0.2},\"hatch_color\":{\"value\":\"#52006a\"},\"line_alpha\":{\"value\":0.2},\"line_color\":{\"value\":\"#52006a\"},\"top\":{\"field\":\"No\"},\"width\":{\"value\":0.3},\"x\":{\"field\":\"marital_status\",\"transform\":{\"id\":\"8040\"}}},\"id\":\"8044\",\"type\":\"VBar\"},{\"attributes\":{},\"id\":\"7928\",\"type\":\"AllLabels\"},{\"attributes\":{\"coordinates\":null,\"data_source\":{\"id\":\"8005\"},\"glyph\":{\"id\":\"8042\"},\"group\":null,\"hover_glyph\":null,\"muted_glyph\":{\"id\":\"8044\"},\"nonselection_glyph\":{\"id\":\"8043\"},\"view\":{\"id\":\"8046\"}},\"id\":\"8045\",\"type\":\"GlyphRenderer\"},{\"attributes\":{\"end\":52},\"id\":\"8299\",\"type\":\"Range1d\"},{\"attributes\":{},\"id\":\"8268\",\"type\":\"CategoricalTickFormatter\"},{\"attributes\":{},\"id\":\"8269\",\"type\":\"AllLabels\"},{\"attributes\":{},\"id\":\"8013\",\"type\":\"CategoricalScale\"},{\"attributes\":{},\"id\":\"8052\",\"type\":\"CategoricalTickFormatter\"},{\"attributes\":{\"coordinates\":null,\"group\":null,\"text\":\"Marriage Vs Anxiety\",\"text_color\":\"black\",\"text_font\":\"Ariel\",\"text_font_size\":\"20px\"},\"id\":\"8007\",\"type\":\"Title\"},{\"attributes\":{\"coordinates\":null,\"group\":null,\"items\":[{\"id\":\"7932\"}]},\"id\":\"7931\",\"type\":\"Legend\"},{\"attributes\":{},\"id\":\"8029\",\"type\":\"HelpTool\"},{\"attributes\":{\"source\":{\"id\":\"7933\"}},\"id\":\"7993\",\"type\":\"CDSView\"},{\"attributes\":{\"callback\":null,\"tooltips\":[[\"Grade\",\"@cgpa\"],[\"No anxiety\",\"@No\"],[\"Anxiety\",\"@Yes\"]]},\"id\":\"8103\",\"type\":\"HoverTool\"},{\"attributes\":{\"fill_color\":{\"value\":\"#003355\"},\"hatch_color\":{\"value\":\"#003355\"},\"line_color\":{\"value\":\"#003355\"},\"top\":{\"field\":\"No\"},\"width\":{\"value\":0.3},\"x\":{\"field\":\"depression\",\"transform\":{\"id\":\"8328\"}}},\"id\":\"8330\",\"type\":\"VBar\"},{\"attributes\":{\"fill_alpha\":{\"value\":0.2},\"fill_color\":{\"value\":\"#cd113b\"},\"hatch_alpha\":{\"value\":0.2},\"hatch_color\":{\"value\":\"#cd113b\"},\"line_alpha\":{\"value\":0.2},\"line_color\":{\"value\":\"#cd113b\"},\"top\":{\"field\":\"Yes\"},\"width\":{\"value\":0.3},\"x\":{\"field\":\"gender\",\"transform\":{\"id\":\"7987\"}}},\"id\":\"7991\",\"type\":\"VBar\"},{\"attributes\":{},\"id\":\"8270\",\"type\":\"UnionRenderers\"},{\"attributes\":{\"axis\":{\"id\":\"8305\"},\"coordinates\":null,\"grid_line_color\":null,\"group\":null,\"ticker\":null},\"id\":\"8307\",\"type\":\"Grid\"},{\"attributes\":{\"label\":{\"value\":\"Anxiety\"},\"renderers\":[{\"id\":\"7992\"}]},\"id\":\"8004\",\"type\":\"LegendItem\"},{\"attributes\":{\"source\":{\"id\":\"8077\"}},\"id\":\"8137\",\"type\":\"CDSView\"},{\"attributes\":{\"end_angle\":{\"expr\":{\"id\":\"7914\"}},\"fill_alpha\":{\"value\":0.1},\"fill_color\":{\"field\":\"color\"},\"hatch_alpha\":{\"value\":0.1},\"line_alpha\":{\"value\":0.1},\"line_color\":{\"value\":\"white\"},\"radius\":{\"value\":0.4},\"start_angle\":{\"expr\":{\"id\":\"7913\"}},\"x\":{\"value\":0},\"y\":{\"value\":1}},\"id\":\"7918\",\"type\":\"Wedge\"},{\"attributes\":{\"coordinates\":null,\"data_source\":{\"id\":\"7933\"},\"glyph\":{\"id\":\"7989\"},\"group\":null,\"hover_glyph\":null,\"muted_glyph\":{\"id\":\"7991\"},\"nonselection_glyph\":{\"id\":\"7990\"},\"view\":{\"id\":\"7993\"}},\"id\":\"7992\",\"type\":\"GlyphRenderer\"},{\"attributes\":{},\"id\":\"8309\",\"type\":\"BasicTicker\"},{\"attributes\":{\"below\":[{\"id\":\"8017\"}],\"center\":[{\"id\":\"8019\"},{\"id\":\"8023\"},{\"id\":\"8057\"}],\"height\":450,\"left\":[{\"id\":\"8020\"}],\"renderers\":[{\"id\":\"8045\"},{\"id\":\"8064\"}],\"title\":{\"id\":\"8007\"},\"toolbar\":{\"id\":\"8032\"},\"x_range\":{\"id\":\"8009\"},\"x_scale\":{\"id\":\"8013\"},\"y_range\":{\"id\":\"8011\"},\"y_scale\":{\"id\":\"8015\"}},\"id\":\"8006\",\"subtype\":\"Figure\",\"type\":\"Plot\"},{\"attributes\":{\"end_angle\":{\"expr\":{\"id\":\"7914\"}},\"fill_color\":{\"field\":\"color\"},\"line_color\":{\"value\":\"white\"},\"radius\":{\"value\":0.4},\"start_angle\":{\"expr\":{\"id\":\"7913\"}},\"x\":{\"value\":0},\"y\":{\"value\":1}},\"id\":\"7917\",\"type\":\"Wedge\"},{\"attributes\":{},\"id\":\"8337\",\"type\":\"BasicTickFormatter\"},{\"attributes\":{\"bottom_units\":\"screen\",\"coordinates\":null,\"fill_alpha\":0.5,\"fill_color\":\"lightgrey\",\"group\":null,\"left_units\":\"screen\",\"level\":\"overlay\",\"line_alpha\":1.0,\"line_color\":\"black\",\"line_dash\":[4,4],\"line_width\":2,\"right_units\":\"screen\",\"syncable\":false,\"top_units\":\"screen\"},\"id\":\"8102\",\"type\":\"BoxAnnotation\"},{\"attributes\":{\"fill_color\":{\"value\":\"#cd113b\"},\"hatch_color\":{\"value\":\"#cd113b\"},\"line_color\":{\"value\":\"#cd113b\"},\"top\":{\"field\":\"Yes\"},\"width\":{\"value\":0.3},\"x\":{\"field\":\"gender\",\"transform\":{\"id\":\"7987\"}}},\"id\":\"7989\",\"type\":\"VBar\"},{\"attributes\":{},\"id\":\"8127\",\"type\":\"Selection\"},{\"attributes\":{\"coordinates\":null,\"group\":null,\"text\":\"Relation of Gender with Anxiety\",\"text_color\":\"black\",\"text_font\":\"Ariel\",\"text_font_size\":\"20px\"},\"id\":\"7935\",\"type\":\"Title\"},{\"attributes\":{},\"id\":\"8271\",\"type\":\"Selection\"},{\"attributes\":{\"factors\":[\"No\",\"Yes\"],\"range_padding\":0.1},\"id\":\"8297\",\"type\":\"FactorRange\"},{\"attributes\":{\"range\":{\"id\":\"7937\"},\"value\":0.17},\"id\":\"7987\",\"type\":\"Dodge\"},{\"attributes\":{},\"id\":\"8343\",\"type\":\"Selection\"},{\"attributes\":{\"callback\":null,\"tooltips\":\"@anxiety: @count\"},\"id\":\"7910\",\"type\":\"HoverTool\"},{\"attributes\":{\"coordinates\":null,\"data_source\":{\"id\":\"7915\"},\"glyph\":{\"id\":\"7917\"},\"group\":null,\"hover_glyph\":null,\"muted_glyph\":{\"id\":\"7919\"},\"nonselection_glyph\":{\"id\":\"7918\"},\"view\":{\"id\":\"7921\"}},\"id\":\"7920\",\"type\":\"GlyphRenderer\"},{\"attributes\":{\"label\":{\"value\":\"No anxiety\"},\"renderers\":[{\"id\":\"7973\"}]},\"id\":\"7986\",\"type\":\"LegendItem\"},{\"attributes\":{\"fill_alpha\":{\"value\":0.1},\"fill_color\":{\"value\":\"#cd113b\"},\"hatch_alpha\":{\"value\":0.1},\"hatch_color\":{\"value\":\"#cd113b\"},\"line_alpha\":{\"value\":0.1},\"line_color\":{\"value\":\"#cd113b\"},\"top\":{\"field\":\"Yes\"},\"width\":{\"value\":0.3},\"x\":{\"field\":\"gender\",\"transform\":{\"id\":\"7987\"}}},\"id\":\"7990\",\"type\":\"VBar\"},{\"attributes\":{},\"id\":\"8049\",\"type\":\"BasicTickFormatter\"},{\"attributes\":{\"tools\":[{\"id\":\"7910\"}]},\"id\":\"7911\",\"type\":\"Toolbar\"},{\"attributes\":{\"coordinates\":null,\"data_source\":{\"id\":\"8077\"},\"glyph\":{\"id\":\"8133\"},\"group\":null,\"hover_glyph\":null,\"muted_glyph\":{\"id\":\"8135\"},\"nonselection_glyph\":{\"id\":\"8134\"},\"view\":{\"id\":\"8137\"}},\"id\":\"8136\",\"type\":\"GlyphRenderer\"},{\"attributes\":{},\"id\":\"8168\",\"type\":\"PanTool\"},{\"attributes\":{\"axis\":{\"id\":\"7906\"},\"coordinates\":null,\"dimension\":1,\"grid_line_color\":null,\"group\":null,\"ticker\":null},\"id\":\"7909\",\"type\":\"Grid\"},{\"attributes\":{\"overlay\":{\"id\":\"8318\"}},\"id\":\"8314\",\"type\":\"BoxZoomTool\"},{\"attributes\":{},\"id\":\"7956\",\"type\":\"ResetTool\"},{\"attributes\":{\"below\":[{\"id\":\"8305\"}],\"center\":[{\"id\":\"8307\"},{\"id\":\"8311\"},{\"id\":\"8345\"}],\"height\":450,\"left\":[{\"id\":\"8308\"}],\"renderers\":[{\"id\":\"8333\"},{\"id\":\"8352\"}],\"title\":{\"id\":\"8295\"},\"toolbar\":{\"id\":\"8320\"},\"x_range\":{\"id\":\"8297\"},\"x_scale\":{\"id\":\"8301\"},\"y_range\":{\"id\":\"8299\"},\"y_scale\":{\"id\":\"8303\"}},\"id\":\"8294\",\"subtype\":\"Figure\",\"type\":\"Plot\"},{\"attributes\":{\"fill_alpha\":{\"value\":0.1},\"fill_color\":{\"value\":\"#52006a\"},\"hatch_alpha\":{\"value\":0.1},\"hatch_color\":{\"value\":\"#52006a\"},\"line_alpha\":{\"value\":0.1},\"line_color\":{\"value\":\"#52006a\"},\"top\":{\"field\":\"No\"},\"width\":{\"value\":0.3},\"x\":{\"field\":\"cgpa\",\"transform\":{\"id\":\"8112\"}}},\"id\":\"8115\",\"type\":\"VBar\"},{\"attributes\":{\"fill_alpha\":{\"value\":0.1},\"fill_color\":{\"value\":\"#2b580c\"},\"hatch_alpha\":{\"value\":0.1},\"hatch_color\":{\"value\":\"#2b580c\"},\"line_alpha\":{\"value\":0.1},\"line_color\":{\"value\":\"#2b580c\"},\"top\":{\"field\":\"Yes\"},\"width\":{\"value\":0.3},\"x\":{\"field\":\"gender\",\"transform\":{\"id\":\"8203\"}}},\"id\":\"8206\",\"type\":\"VBar\"},{\"attributes\":{\"callback\":null,\"tooltips\":[[\"Gender\",\"@gender\"],[\"No treatment\",\"@No\"],[\"Treatment\",\"@Yes\"]]},\"id\":\"8175\",\"type\":\"HoverTool\"},{\"attributes\":{\"label\":{\"value\":\"No treatment\"},\"renderers\":[{\"id\":\"8189\"}]},\"id\":\"8202\",\"type\":\"LegendItem\"},{\"attributes\":{},\"id\":\"8053\",\"type\":\"AllLabels\"},{\"attributes\":{},\"id\":\"8342\",\"type\":\"UnionRenderers\"},{\"attributes\":{\"fill_alpha\":{\"value\":0.1},\"fill_color\":{\"value\":\"#52006a\"},\"hatch_alpha\":{\"value\":0.1},\"hatch_color\":{\"value\":\"#52006a\"},\"line_alpha\":{\"value\":0.1},\"line_color\":{\"value\":\"#52006a\"},\"top\":{\"field\":\"No\"},\"width\":{\"value\":0.3},\"x\":{\"field\":\"gender\",\"transform\":{\"id\":\"7968\"}}},\"id\":\"7971\",\"type\":\"VBar\"},{\"attributes\":{\"range\":{\"id\":\"8153\"},\"value\":0.17},\"id\":\"8203\",\"type\":\"Dodge\"},{\"attributes\":{\"fill_color\":{\"value\":\"#2b580c\"},\"hatch_color\":{\"value\":\"#2b580c\"},\"line_color\":{\"value\":\"#2b580c\"},\"top\":{\"field\":\"Yes\"},\"width\":{\"value\":0.3},\"x\":{\"field\":\"gender\",\"transform\":{\"id\":\"8203\"}}},\"id\":\"8205\",\"type\":\"VBar\"},{\"attributes\":{\"fill_alpha\":{\"value\":0.2},\"fill_color\":{\"value\":\"#cd113b\"},\"hatch_alpha\":{\"value\":0.2},\"hatch_color\":{\"value\":\"#cd113b\"},\"line_alpha\":{\"value\":0.2},\"line_color\":{\"value\":\"#cd113b\"},\"top\":{\"field\":\"Yes\"},\"width\":{\"value\":0.3},\"x\":{\"field\":\"cgpa\",\"transform\":{\"id\":\"8131\"}}},\"id\":\"8135\",\"type\":\"VBar\"},{\"attributes\":{},\"id\":\"8338\",\"type\":\"AllLabels\"},{\"attributes\":{},\"id\":\"7943\",\"type\":\"LinearScale\"},{\"attributes\":{\"coordinates\":null,\"data_source\":{\"id\":\"8149\"},\"glyph\":{\"id\":\"8205\"},\"group\":null,\"hover_glyph\":null,\"muted_glyph\":{\"id\":\"8207\"},\"nonselection_glyph\":{\"id\":\"8206\"},\"view\":{\"id\":\"8209\"}},\"id\":\"8208\",\"type\":\"GlyphRenderer\"},{\"attributes\":{},\"id\":\"8171\",\"type\":\"SaveTool\"},{\"attributes\":{\"label\":{\"value\":\"Treatment\"},\"renderers\":[{\"id\":\"8208\"}]},\"id\":\"8220\",\"type\":\"LegendItem\"},{\"attributes\":{},\"id\":\"7946\",\"type\":\"CategoricalTicker\"},{\"attributes\":{\"fill_alpha\":{\"value\":0.2},\"fill_color\":{\"value\":\"#2b580c\"},\"hatch_alpha\":{\"value\":0.2},\"hatch_color\":{\"value\":\"#2b580c\"},\"line_alpha\":{\"value\":0.2},\"line_color\":{\"value\":\"#2b580c\"},\"top\":{\"field\":\"Yes\"},\"width\":{\"value\":0.3},\"x\":{\"field\":\"gender\",\"transform\":{\"id\":\"8203\"}}},\"id\":\"8207\",\"type\":\"VBar\"},{\"attributes\":{\"range\":{\"id\":\"8081\"},\"value\":-0.17},\"id\":\"8112\",\"type\":\"Dodge\"},{\"attributes\":{},\"id\":\"7941\",\"type\":\"CategoricalScale\"},{\"attributes\":{\"bottom_units\":\"screen\",\"coordinates\":null,\"fill_alpha\":0.5,\"fill_color\":\"lightgrey\",\"group\":null,\"left_units\":\"screen\",\"level\":\"overlay\",\"line_alpha\":1.0,\"line_color\":\"black\",\"line_dash\":[4,4],\"line_width\":2,\"right_units\":\"screen\",\"syncable\":false,\"top_units\":\"screen\"},\"id\":\"8318\",\"type\":\"BoxAnnotation\"},{\"attributes\":{\"source\":{\"id\":\"8149\"}},\"id\":\"8209\",\"type\":\"CDSView\"},{\"attributes\":{\"axis_label\":\"No. of Students\",\"coordinates\":null,\"formatter\":{\"id\":\"8193\"},\"group\":null,\"major_label_policy\":{\"id\":\"8194\"},\"ticker\":{\"id\":\"8165\"}},\"id\":\"8164\",\"type\":\"LinearAxis\"},{\"attributes\":{\"callback\":null,\"tooltips\":[[\"Marital Status\",\"@marital_status\"],[\"No anxiety\",\"@No\"],[\"Anxiety\",\"@Yes\"]]},\"id\":\"8031\",\"type\":\"HoverTool\"},{\"attributes\":{},\"id\":\"8234\",\"type\":\"CategoricalTicker\"},{\"attributes\":{\"range\":{\"id\":\"7937\"},\"value\":-0.17},\"id\":\"7968\",\"type\":\"Dodge\"},{\"attributes\":{\"label\":{\"value\":\"Anxiety\"},\"renderers\":[{\"id\":\"8136\"}]},\"id\":\"8148\",\"type\":\"LegendItem\"},{\"attributes\":{\"source\":{\"id\":\"8005\"}},\"id\":\"8065\",\"type\":\"CDSView\"},{\"attributes\":{},\"id\":\"8306\",\"type\":\"CategoricalTicker\"},{\"attributes\":{\"callback\":null,\"tooltips\":[[\"Gender\",\"@gender\"],[\"No anxiety\",\"@No\"],[\"Anxiety\",\"@Yes\"]]},\"id\":\"7959\",\"type\":\"HoverTool\"},{\"attributes\":{},\"id\":\"7898\",\"type\":\"LinearScale\"},{\"attributes\":{\"range\":{\"id\":\"8297\"},\"value\":-0.17},\"id\":\"8328\",\"type\":\"Dodge\"},{\"attributes\":{\"child\":{\"id\":\"8150\"},\"title\":\"Treatment1\"},\"id\":\"8370\",\"type\":\"Panel\"},{\"attributes\":{\"range\":{\"id\":\"8153\"},\"value\":-0.17},\"id\":\"8184\",\"type\":\"Dodge\"},{\"attributes\":{\"axis_label\":\"Gender\",\"coordinates\":null,\"formatter\":{\"id\":\"7980\"},\"group\":null,\"major_label_policy\":{\"id\":\"7981\"},\"ticker\":{\"id\":\"7946\"}},\"id\":\"7945\",\"type\":\"CategoricalAxis\"},{\"attributes\":{},\"id\":\"8121\",\"type\":\"BasicTickFormatter\"},{\"attributes\":{\"fill_alpha\":{\"value\":0.2},\"fill_color\":{\"value\":\"#52006a\"},\"hatch_alpha\":{\"value\":0.2},\"hatch_color\":{\"value\":\"#52006a\"},\"line_alpha\":{\"value\":0.2},\"line_color\":{\"value\":\"#52006a\"},\"top\":{\"field\":\"No\"},\"width\":{\"value\":0.3},\"x\":{\"field\":\"gender\",\"transform\":{\"id\":\"7968\"}}},\"id\":\"7972\",\"type\":\"VBar\"},{\"attributes\":{\"axis_label\":\"No. of Students\",\"coordinates\":null,\"formatter\":{\"id\":\"8121\"},\"group\":null,\"major_label_policy\":{\"id\":\"8122\"},\"ticker\":{\"id\":\"8093\"}},\"id\":\"8092\",\"type\":\"LinearAxis\"},{\"attributes\":{\"source\":{\"id\":\"8149\"}},\"id\":\"8190\",\"type\":\"CDSView\"},{\"attributes\":{},\"id\":\"8054\",\"type\":\"UnionRenderers\"},{\"attributes\":{\"coordinates\":null,\"group\":null,\"text\":\"Are the students taking medical treatment? (Gender)\",\"text_color\":\"black\",\"text_font\":\"Ariel\",\"text_font_size\":\"20px\"},\"id\":\"8151\",\"type\":\"Title\"},{\"attributes\":{\"child\":{\"id\":\"7934\"},\"title\":\"Gender\"},\"id\":\"8366\",\"type\":\"Panel\"},{\"attributes\":{},\"id\":\"8126\",\"type\":\"UnionRenderers\"},{\"attributes\":{\"axis\":{\"id\":\"8164\"},\"coordinates\":null,\"dimension\":1,\"group\":null,\"ticker\":null},\"id\":\"8167\",\"type\":\"Grid\"},{\"attributes\":{\"child\":{\"id\":\"8294\"},\"title\":\"Depression\"},\"id\":\"8369\",\"type\":\"Panel\"},{\"attributes\":{\"child\":{\"id\":\"7891\"},\"title\":\"Anxiety\"},\"id\":\"8365\",\"type\":\"Panel\"},{\"attributes\":{},\"id\":\"8101\",\"type\":\"HelpTool\"},{\"attributes\":{\"data\":{\"No\":[26,5],\"Yes\":[1,2],\"index\":[0,1],\"marital_status\":[\"No\",\"Yes\"]},\"selected\":{\"id\":\"8271\"},\"selection_policy\":{\"id\":\"8270\"}},\"id\":\"8221\",\"type\":\"ColumnDataSource\"},{\"attributes\":{\"tools\":[{\"id\":\"8312\"},{\"id\":\"8313\"},{\"id\":\"8314\"},{\"id\":\"8315\"},{\"id\":\"8316\"},{\"id\":\"8317\"},{\"id\":\"8319\"}]},\"id\":\"8320\",\"type\":\"Toolbar\"},{\"attributes\":{\"coordinates\":null,\"group\":null,\"items\":[{\"id\":\"8130\"},{\"id\":\"8148\"}],\"location\":\"top_left\"},\"id\":\"8129\",\"type\":\"Legend\"},{\"attributes\":{},\"id\":\"8173\",\"type\":\"HelpTool\"},{\"attributes\":{\"fill_color\":{\"value\":\"#cd113b\"},\"hatch_color\":{\"value\":\"#cd113b\"},\"line_color\":{\"value\":\"#cd113b\"},\"top\":{\"field\":\"Yes\"},\"width\":{\"value\":0.3},\"x\":{\"field\":\"cgpa\",\"transform\":{\"id\":\"8131\"}}},\"id\":\"8133\",\"type\":\"VBar\"},{\"attributes\":{},\"id\":\"7929\",\"type\":\"UnionRenderers\"},{\"attributes\":{\"child\":{\"id\":\"8222\"},\"title\":\"Treatment2\"},\"id\":\"8371\",\"type\":\"Panel\"},{\"attributes\":{},\"id\":\"8340\",\"type\":\"CategoricalTickFormatter\"},{\"attributes\":{\"factors\":[\"Female\",\"Male\"],\"range_padding\":0.1},\"id\":\"8153\",\"type\":\"FactorRange\"},{\"attributes\":{},\"id\":\"8162\",\"type\":\"CategoricalTicker\"},{\"attributes\":{\"data\":{\"No\":[50,17],\"Yes\":[16,18],\"depression\":[\"No\",\"Yes\"],\"index\":[0,1]},\"selected\":{\"id\":\"8343\"},\"selection_policy\":{\"id\":\"8342\"}},\"id\":\"8293\",\"type\":\"ColumnDataSource\"},{\"attributes\":{},\"id\":\"8341\",\"type\":\"AllLabels\"},{\"attributes\":{\"end\":25},\"id\":\"8155\",\"type\":\"Range1d\"},{\"attributes\":{},\"id\":\"8159\",\"type\":\"LinearScale\"},{\"attributes\":{\"label\":{\"value\":\"No anxiety\"},\"renderers\":[{\"id\":\"8117\"}]},\"id\":\"8130\",\"type\":\"LegendItem\"},{\"attributes\":{\"axis_label\":\"Gender\",\"coordinates\":null,\"formatter\":{\"id\":\"8196\"},\"group\":null,\"major_label_policy\":{\"id\":\"8197\"},\"ticker\":{\"id\":\"8162\"}},\"id\":\"8161\",\"type\":\"CategoricalAxis\"},{\"attributes\":{\"fill_alpha\":{\"value\":0.1},\"fill_color\":{\"value\":\"#2b580c\"},\"hatch_alpha\":{\"value\":0.1},\"hatch_color\":{\"value\":\"#2b580c\"},\"line_alpha\":{\"value\":0.1},\"line_color\":{\"value\":\"#2b580c\"},\"top\":{\"field\":\"Yes\"},\"width\":{\"value\":0.3},\"x\":{\"field\":\"marital_status\",\"transform\":{\"id\":\"8275\"}}},\"id\":\"8278\",\"type\":\"VBar\"},{\"attributes\":{\"overlay\":{\"id\":\"8246\"}},\"id\":\"8242\",\"type\":\"BoxZoomTool\"},{\"attributes\":{},\"id\":\"7930\",\"type\":\"Selection\"},{\"attributes\":{},\"id\":\"8237\",\"type\":\"BasicTicker\"},{\"attributes\":{\"bottom_units\":\"screen\",\"coordinates\":null,\"fill_alpha\":0.5,\"fill_color\":\"lightgrey\",\"group\":null,\"left_units\":\"screen\",\"level\":\"overlay\",\"line_alpha\":1.0,\"line_color\":\"black\",\"line_dash\":[4,4],\"line_width\":2,\"right_units\":\"screen\",\"syncable\":false,\"top_units\":\"screen\"},\"id\":\"8174\",\"type\":\"BoxAnnotation\"},{\"attributes\":{\"coordinates\":null,\"group\":null,\"text\":\"Are the students taking medical treatment? (Marriage)\",\"text_color\":\"black\",\"text_font\":\"Ariel\",\"text_font_size\":\"20px\"},\"id\":\"8223\",\"type\":\"Title\"},{\"attributes\":{\"range\":{\"id\":\"8225\"},\"value\":0.17},\"id\":\"8275\",\"type\":\"Dodge\"},{\"attributes\":{\"tools\":[{\"id\":\"8024\"},{\"id\":\"8025\"},{\"id\":\"8026\"},{\"id\":\"8027\"},{\"id\":\"8028\"},{\"id\":\"8029\"},{\"id\":\"8031\"}]},\"id\":\"8032\",\"type\":\"Toolbar\"},{\"attributes\":{\"factors\":[\"No\",\"Yes\"],\"range_padding\":0.1},\"id\":\"8225\",\"type\":\"FactorRange\"},{\"attributes\":{\"fill_color\":{\"value\":\"#2b580c\"},\"hatch_color\":{\"value\":\"#2b580c\"},\"line_color\":{\"value\":\"#2b580c\"},\"top\":{\"field\":\"Yes\"},\"width\":{\"value\":0.3},\"x\":{\"field\":\"marital_status\",\"transform\":{\"id\":\"8275\"}}},\"id\":\"8277\",\"type\":\"VBar\"},{\"attributes\":{\"coordinates\":null,\"data_source\":{\"id\":\"8293\"},\"glyph\":{\"id\":\"8330\"},\"group\":null,\"hover_glyph\":null,\"muted_glyph\":{\"id\":\"8332\"},\"nonselection_glyph\":{\"id\":\"8331\"},\"view\":{\"id\":\"8334\"}},\"id\":\"8333\",\"type\":\"GlyphRenderer\"},{\"attributes\":{},\"id\":\"8125\",\"type\":\"AllLabels\"},{\"attributes\":{},\"id\":\"8099\",\"type\":\"SaveTool\"},{\"attributes\":{\"coordinates\":null,\"data_source\":{\"id\":\"8221\"},\"glyph\":{\"id\":\"8277\"},\"group\":null,\"hover_glyph\":null,\"muted_glyph\":{\"id\":\"8279\"},\"nonselection_glyph\":{\"id\":\"8278\"},\"view\":{\"id\":\"8281\"}},\"id\":\"8280\",\"type\":\"GlyphRenderer\"},{\"attributes\":{},\"id\":\"8122\",\"type\":\"AllLabels\"},{\"attributes\":{\"fill_alpha\":{\"value\":0.2},\"fill_color\":{\"value\":\"#003355\"},\"hatch_alpha\":{\"value\":0.2},\"hatch_color\":{\"value\":\"#003355\"},\"line_alpha\":{\"value\":0.2},\"line_color\":{\"value\":\"#003355\"},\"top\":{\"field\":\"No\"},\"width\":{\"value\":0.3},\"x\":{\"field\":\"depression\",\"transform\":{\"id\":\"8328\"}}},\"id\":\"8332\",\"type\":\"VBar\"},{\"attributes\":{\"label\":{\"value\":\"Treatment\"},\"renderers\":[{\"id\":\"8280\"}]},\"id\":\"8292\",\"type\":\"LegendItem\"},{\"attributes\":{\"fill_alpha\":{\"value\":0.2},\"fill_color\":{\"value\":\"#2b580c\"},\"hatch_alpha\":{\"value\":0.2},\"hatch_color\":{\"value\":\"#2b580c\"},\"line_alpha\":{\"value\":0.2},\"line_color\":{\"value\":\"#2b580c\"},\"top\":{\"field\":\"Yes\"},\"width\":{\"value\":0.3},\"x\":{\"field\":\"marital_status\",\"transform\":{\"id\":\"8275\"}}},\"id\":\"8279\",\"type\":\"VBar\"},{\"attributes\":{},\"id\":\"8050\",\"type\":\"AllLabels\"},{\"attributes\":{\"source\":{\"id\":\"8293\"}},\"id\":\"8334\",\"type\":\"CDSView\"},{\"attributes\":{\"data\":{\"No\":[58,9],\"Yes\":[27,7],\"index\":[0,1],\"marital_status\":[\"No\",\"Yes\"]},\"selected\":{\"id\":\"8055\"},\"selection_policy\":{\"id\":\"8054\"}},\"id\":\"8005\",\"type\":\"ColumnDataSource\"},{\"attributes\":{\"coordinates\":null,\"group\":null,\"items\":[{\"id\":\"8346\"},{\"id\":\"8364\"}]},\"id\":\"8345\",\"type\":\"Legend\"},{\"attributes\":{},\"id\":\"8124\",\"type\":\"CategoricalTickFormatter\"},{\"attributes\":{\"axis\":{\"id\":\"8161\"},\"coordinates\":null,\"grid_line_color\":null,\"group\":null,\"ticker\":null},\"id\":\"8163\",\"type\":\"Grid\"},{\"attributes\":{\"source\":{\"id\":\"7933\"}},\"id\":\"7974\",\"type\":\"CDSView\"},{\"attributes\":{},\"id\":\"8021\",\"type\":\"BasicTicker\"},{\"attributes\":{\"source\":{\"id\":\"8221\"}},\"id\":\"8281\",\"type\":\"CDSView\"},{\"attributes\":{},\"id\":\"8243\",\"type\":\"SaveTool\"},{\"attributes\":{},\"id\":\"8244\",\"type\":\"ResetTool\"},{\"attributes\":{},\"id\":\"8245\",\"type\":\"HelpTool\"},{\"attributes\":{},\"id\":\"8240\",\"type\":\"PanTool\"},{\"attributes\":{},\"id\":\"8198\",\"type\":\"UnionRenderers\"},{\"attributes\":{},\"id\":\"8241\",\"type\":\"WheelZoomTool\"},{\"attributes\":{\"callback\":null,\"tooltips\":[[\"marital_status\",\"@marital_status\"],[\"No treatment\",\"@No\"],[\"Treatment\",\"@Yes\"]]},\"id\":\"8247\",\"type\":\"HoverTool\"},{\"attributes\":{\"axis_label\":\"No. of Students\",\"coordinates\":null,\"formatter\":{\"id\":\"8265\"},\"group\":null,\"major_label_policy\":{\"id\":\"8266\"},\"ticker\":{\"id\":\"8237\"}},\"id\":\"8236\",\"type\":\"LinearAxis\"},{\"attributes\":{\"source\":{\"id\":\"8005\"}},\"id\":\"8046\",\"type\":\"CDSView\"},{\"attributes\":{\"axis\":{\"id\":\"8236\"},\"coordinates\":null,\"dimension\":1,\"group\":null,\"ticker\":null},\"id\":\"8239\",\"type\":\"Grid\"},{\"attributes\":{\"field\":\"angle\",\"include_zero\":true},\"id\":\"7913\",\"type\":\"CumSum\"},{\"attributes\":{},\"id\":\"7983\",\"type\":\"Selection\"},{\"attributes\":{\"coordinates\":null,\"group\":null,\"items\":[{\"id\":\"7986\"},{\"id\":\"8004\"}]},\"id\":\"7985\",\"type\":\"Legend\"},{\"attributes\":{\"axis\":{\"id\":\"8233\"},\"coordinates\":null,\"grid_line_color\":null,\"group\":null,\"ticker\":null},\"id\":\"8235\",\"type\":\"Grid\"},{\"attributes\":{},\"id\":\"8172\",\"type\":\"ResetTool\"},{\"attributes\":{},\"id\":\"8229\",\"type\":\"CategoricalScale\"},{\"attributes\":{\"end\":0.9,\"start\":-0.5},\"id\":\"7894\",\"type\":\"Range1d\"},{\"attributes\":{},\"id\":\"8231\",\"type\":\"LinearScale\"},{\"attributes\":{\"overlay\":{\"id\":\"8174\"}},\"id\":\"8170\",\"type\":\"BoxZoomTool\"},{\"attributes\":{\"axis_label\":\"Marital Status\",\"coordinates\":null,\"formatter\":{\"id\":\"8268\"},\"group\":null,\"major_label_policy\":{\"id\":\"8269\"},\"ticker\":{\"id\":\"8234\"}},\"id\":\"8233\",\"type\":\"CategoricalAxis\"},{\"attributes\":{},\"id\":\"8199\",\"type\":\"Selection\"},{\"attributes\":{},\"id\":\"7903\",\"type\":\"BasicTicker\"},{\"attributes\":{},\"id\":\"7982\",\"type\":\"UnionRenderers\"},{\"attributes\":{\"fill_alpha\":{\"value\":0.2},\"fill_color\":{\"value\":\"#52006a\"},\"hatch_alpha\":{\"value\":0.2},\"hatch_color\":{\"value\":\"#52006a\"},\"line_alpha\":{\"value\":0.2},\"line_color\":{\"value\":\"#52006a\"},\"top\":{\"field\":\"No\"},\"width\":{\"value\":0.3},\"x\":{\"field\":\"cgpa\",\"transform\":{\"id\":\"8112\"}}},\"id\":\"8116\",\"type\":\"VBar\"},{\"attributes\":{\"bottom_units\":\"screen\",\"coordinates\":null,\"fill_alpha\":0.5,\"fill_color\":\"lightgrey\",\"group\":null,\"left_units\":\"screen\",\"level\":\"overlay\",\"line_alpha\":1.0,\"line_color\":\"black\",\"line_dash\":[4,4],\"line_width\":2,\"right_units\":\"screen\",\"syncable\":false,\"top_units\":\"screen\"},\"id\":\"8246\",\"type\":\"BoxAnnotation\"},{\"attributes\":{},\"id\":\"8193\",\"type\":\"BasicTickFormatter\"},{\"attributes\":{\"below\":[{\"id\":\"8233\"}],\"center\":[{\"id\":\"8235\"},{\"id\":\"8239\"},{\"id\":\"8273\"}],\"height\":450,\"left\":[{\"id\":\"8236\"}],\"renderers\":[{\"id\":\"8261\"},{\"id\":\"8280\"}],\"title\":{\"id\":\"8223\"},\"toolbar\":{\"id\":\"8248\"},\"x_range\":{\"id\":\"8225\"},\"x_scale\":{\"id\":\"8229\"},\"y_range\":{\"id\":\"8227\"},\"y_scale\":{\"id\":\"8231\"}},\"id\":\"8222\",\"subtype\":\"Figure\",\"type\":\"Plot\"},{\"attributes\":{\"coordinates\":null,\"group\":null,\"text\":\"How many Students are Suffering from Anxiety?\",\"text_color\":\"black\",\"text_font\":\"Ariel\",\"text_font_size\":\"20px\"},\"id\":\"7892\",\"type\":\"Title\"},{\"attributes\":{\"end\":30},\"id\":\"8227\",\"type\":\"Range1d\"},{\"attributes\":{\"axis\":{\"id\":\"7902\"},\"coordinates\":null,\"grid_line_color\":null,\"group\":null,\"ticker\":null},\"id\":\"7905\",\"type\":\"Grid\"},{\"attributes\":{\"coordinates\":null,\"data_source\":{\"id\":\"8005\"},\"glyph\":{\"id\":\"8061\"},\"group\":null,\"hover_glyph\":null,\"muted_glyph\":{\"id\":\"8063\"},\"nonselection_glyph\":{\"id\":\"8062\"},\"view\":{\"id\":\"8065\"}},\"id\":\"8064\",\"type\":\"GlyphRenderer\"},{\"attributes\":{\"data\":{\"No\":[22,9],\"Yes\":[2,1],\"gender\":[\"Female\",\"Male\"],\"index\":[0,1]},\"selected\":{\"id\":\"8199\"},\"selection_policy\":{\"id\":\"8198\"}},\"id\":\"8149\",\"type\":\"ColumnDataSource\"},{\"attributes\":{\"fill_alpha\":{\"value\":0.1},\"fill_color\":{\"value\":\"#c40018\"},\"hatch_alpha\":{\"value\":0.1},\"hatch_color\":{\"value\":\"#c40018\"},\"line_alpha\":{\"value\":0.1},\"line_color\":{\"value\":\"#c40018\"},\"top\":{\"field\":\"No\"},\"width\":{\"value\":0.3},\"x\":{\"field\":\"marital_status\",\"transform\":{\"id\":\"8256\"}}},\"id\":\"8259\",\"type\":\"VBar\"},{\"attributes\":{\"end\":65},\"id\":\"7939\",\"type\":\"Range1d\"},{\"attributes\":{\"end\":30},\"id\":\"8083\",\"type\":\"Range1d\"},{\"attributes\":{},\"id\":\"8157\",\"type\":\"CategoricalScale\"},{\"attributes\":{\"coordinates\":null,\"formatter\":{\"id\":\"7924\"},\"group\":null,\"major_label_policy\":{\"id\":\"7925\"},\"ticker\":{\"id\":\"7907\"},\"visible\":false},\"id\":\"7906\",\"type\":\"LinearAxis\"},{\"attributes\":{},\"id\":\"7953\",\"type\":\"WheelZoomTool\"},{\"attributes\":{},\"id\":\"7949\",\"type\":\"BasicTicker\"},{\"attributes\":{\"data\":{\"angle\":{\"__ndarray__\":\"jN6APxasEEAYnYYpyusAQA==\",\"dtype\":\"float64\",\"order\":\"little\",\"shape\":[2]},\"anxiety\":[\"No\",\"Yes\"],\"color\":[\"#17706e\",\"#fb7813\"],\"count\":[67,34],\"index\":[0,1]},\"selected\":{\"id\":\"7930\"},\"selection_policy\":{\"id\":\"7929\"}},\"id\":\"7915\",\"type\":\"ColumnDataSource\"},{\"attributes\":{},\"id\":\"7952\",\"type\":\"PanTool\"},{\"attributes\":{\"fill_alpha\":{\"value\":0.2},\"fill_color\":{\"value\":\"#cd113b\"},\"hatch_alpha\":{\"value\":0.2},\"hatch_color\":{\"value\":\"#cd113b\"},\"line_alpha\":{\"value\":0.2},\"line_color\":{\"value\":\"#cd113b\"},\"top\":{\"field\":\"Yes\"},\"width\":{\"value\":0.3},\"x\":{\"field\":\"marital_status\",\"transform\":{\"id\":\"8059\"}}},\"id\":\"8063\",\"type\":\"VBar\"},{\"attributes\":{\"factors\":[\"0 - 1.99\",\"2.00 - 2.49\",\"2.50 - 2.99\",\"3.00 - 3.49\",\"3.50 - 4.00\",\"3.50 - 4.00 \"],\"range_padding\":0.1},\"id\":\"8081\",\"type\":\"FactorRange\"},{\"attributes\":{\"label\":{\"value\":\"Anxiety\"},\"renderers\":[{\"id\":\"8064\"}]},\"id\":\"8076\",\"type\":\"LegendItem\"},{\"attributes\":{},\"id\":\"8165\",\"type\":\"BasicTicker\"},{\"attributes\":{},\"id\":\"7978\",\"type\":\"AllLabels\"},{\"attributes\":{},\"id\":\"8055\",\"type\":\"Selection\"},{\"attributes\":{\"coordinates\":null,\"group\":null,\"items\":[{\"id\":\"8202\"},{\"id\":\"8220\"}]},\"id\":\"8201\",\"type\":\"Legend\"},{\"attributes\":{\"range\":{\"id\":\"8009\"},\"value\":0.17},\"id\":\"8059\",\"type\":\"Dodge\"},{\"attributes\":{\"fill_alpha\":{\"value\":0.1},\"fill_color\":{\"value\":\"#c40018\"},\"hatch_alpha\":{\"value\":0.1},\"hatch_color\":{\"value\":\"#c40018\"},\"line_alpha\":{\"value\":0.1},\"line_color\":{\"value\":\"#c40018\"},\"top\":{\"field\":\"No\"},\"width\":{\"value\":0.3},\"x\":{\"field\":\"gender\",\"transform\":{\"id\":\"8184\"}}},\"id\":\"8187\",\"type\":\"VBar\"},{\"attributes\":{\"coordinates\":null,\"formatter\":{\"id\":\"7927\"},\"group\":null,\"major_label_policy\":{\"id\":\"7928\"},\"ticker\":{\"id\":\"7903\"},\"visible\":false},\"id\":\"7902\",\"type\":\"LinearAxis\"},{\"attributes\":{},\"id\":\"8169\",\"type\":\"WheelZoomTool\"},{\"attributes\":{\"axis_label\":\"Marital Status\",\"coordinates\":null,\"formatter\":{\"id\":\"8052\"},\"group\":null,\"major_label_policy\":{\"id\":\"8053\"},\"ticker\":{\"id\":\"8018\"}},\"id\":\"8017\",\"type\":\"CategoricalAxis\"},{\"attributes\":{\"end\":60},\"id\":\"8011\",\"type\":\"Range1d\"},{\"attributes\":{},\"id\":\"7957\",\"type\":\"HelpTool\"},{\"attributes\":{},\"id\":\"7900\",\"type\":\"LinearScale\"},{\"attributes\":{\"bottom_units\":\"screen\",\"coordinates\":null,\"fill_alpha\":0.5,\"fill_color\":\"lightgrey\",\"group\":null,\"left_units\":\"screen\",\"level\":\"overlay\",\"line_alpha\":1.0,\"line_color\":\"black\",\"line_dash\":[4,4],\"line_width\":2,\"right_units\":\"screen\",\"syncable\":false,\"top_units\":\"screen\"},\"id\":\"7958\",\"type\":\"BoxAnnotation\"},{\"attributes\":{},\"id\":\"8093\",\"type\":\"BasicTicker\"},{\"attributes\":{\"below\":[{\"id\":\"8089\"}],\"center\":[{\"id\":\"8091\"},{\"id\":\"8095\"},{\"id\":\"8129\"}],\"height\":450,\"left\":[{\"id\":\"8092\"}],\"renderers\":[{\"id\":\"8117\"},{\"id\":\"8136\"}],\"title\":{\"id\":\"8079\"},\"toolbar\":{\"id\":\"8104\"},\"x_range\":{\"id\":\"8081\"},\"x_scale\":{\"id\":\"8085\"},\"y_range\":{\"id\":\"8083\"},\"y_scale\":{\"id\":\"8087\"}},\"id\":\"8078\",\"subtype\":\"Figure\",\"type\":\"Plot\"},{\"attributes\":{\"overlay\":{\"id\":\"7958\"}},\"id\":\"7954\",\"type\":\"BoxZoomTool\"},{\"attributes\":{},\"id\":\"8015\",\"type\":\"LinearScale\"},{\"attributes\":{\"tools\":[{\"id\":\"8168\"},{\"id\":\"8169\"},{\"id\":\"8170\"},{\"id\":\"8171\"},{\"id\":\"8172\"},{\"id\":\"8173\"},{\"id\":\"8175\"}]},\"id\":\"8176\",\"type\":\"Toolbar\"},{\"attributes\":{},\"id\":\"8313\",\"type\":\"WheelZoomTool\"},{\"attributes\":{\"fill_color\":{\"value\":\"#52006a\"},\"hatch_color\":{\"value\":\"#52006a\"},\"line_color\":{\"value\":\"#52006a\"},\"top\":{\"field\":\"No\"},\"width\":{\"value\":0.3},\"x\":{\"field\":\"gender\",\"transform\":{\"id\":\"7968\"}}},\"id\":\"7970\",\"type\":\"VBar\"},{\"attributes\":{},\"id\":\"8097\",\"type\":\"WheelZoomTool\"},{\"attributes\":{},\"id\":\"8312\",\"type\":\"PanTool\"},{\"attributes\":{},\"id\":\"8090\",\"type\":\"CategoricalTicker\"},{\"attributes\":{\"factors\":[\"No\",\"Yes\"],\"range_padding\":0.1},\"id\":\"8009\",\"type\":\"FactorRange\"},{\"attributes\":{\"coordinates\":null,\"data_source\":{\"id\":\"7933\"},\"glyph\":{\"id\":\"7970\"},\"group\":null,\"hover_glyph\":null,\"muted_glyph\":{\"id\":\"7972\"},\"nonselection_glyph\":{\"id\":\"7971\"},\"view\":{\"id\":\"7974\"}},\"id\":\"7973\",\"type\":\"GlyphRenderer\"},{\"attributes\":{\"axis\":{\"id\":\"7945\"},\"coordinates\":null,\"grid_line_color\":null,\"group\":null,\"ticker\":null},\"id\":\"7947\",\"type\":\"Grid\"},{\"attributes\":{\"below\":[{\"id\":\"8161\"}],\"center\":[{\"id\":\"8163\"},{\"id\":\"8167\"},{\"id\":\"8201\"}],\"height\":450,\"left\":[{\"id\":\"8164\"}],\"renderers\":[{\"id\":\"8189\"},{\"id\":\"8208\"}],\"title\":{\"id\":\"8151\"},\"toolbar\":{\"id\":\"8176\"},\"x_range\":{\"id\":\"8153\"},\"x_scale\":{\"id\":\"8157\"},\"y_range\":{\"id\":\"8155\"},\"y_scale\":{\"id\":\"8159\"}},\"id\":\"8150\",\"subtype\":\"Figure\",\"type\":\"Plot\"},{\"attributes\":{\"tools\":[{\"id\":\"7952\"},{\"id\":\"7953\"},{\"id\":\"7954\"},{\"id\":\"7955\"},{\"id\":\"7956\"},{\"id\":\"7957\"},{\"id\":\"7959\"}]},\"id\":\"7960\",\"type\":\"Toolbar\"},{\"attributes\":{\"axis\":{\"id\":\"8089\"},\"coordinates\":null,\"grid_line_color\":null,\"group\":null,\"ticker\":null},\"id\":\"8091\",\"type\":\"Grid\"},{\"attributes\":{},\"id\":\"8027\",\"type\":\"SaveTool\"},{\"attributes\":{},\"id\":\"8087\",\"type\":\"LinearScale\"},{\"attributes\":{},\"id\":\"7981\",\"type\":\"AllLabels\"},{\"attributes\":{},\"id\":\"8316\",\"type\":\"ResetTool\"},{\"attributes\":{\"axis\":{\"id\":\"7948\"},\"coordinates\":null,\"dimension\":1,\"group\":null,\"ticker\":null},\"id\":\"7951\",\"type\":\"Grid\"},{\"attributes\":{\"fill_color\":{\"value\":\"#cd113b\"},\"hatch_color\":{\"value\":\"#cd113b\"},\"line_color\":{\"value\":\"#cd113b\"},\"top\":{\"field\":\"Yes\"},\"width\":{\"value\":0.3},\"x\":{\"field\":\"marital_status\",\"transform\":{\"id\":\"8059\"}}},\"id\":\"8061\",\"type\":\"VBar\"},{\"attributes\":{},\"id\":\"8317\",\"type\":\"HelpTool\"},{\"attributes\":{\"coordinates\":null,\"group\":null,\"text\":\"Grade Vs. Anxiety\",\"text_color\":\"black\",\"text_font\":\"Ariel\",\"text_font_size\":\"20px\"},\"id\":\"8079\",\"type\":\"Title\"},{\"attributes\":{\"fill_color\":{\"value\":\"#52006a\"},\"hatch_color\":{\"value\":\"#52006a\"},\"line_color\":{\"value\":\"#52006a\"},\"top\":{\"field\":\"No\"},\"width\":{\"value\":0.3},\"x\":{\"field\":\"cgpa\",\"transform\":{\"id\":\"8112\"}}},\"id\":\"8114\",\"type\":\"VBar\"},{\"attributes\":{},\"id\":\"7955\",\"type\":\"SaveTool\"},{\"attributes\":{\"source\":{\"id\":\"8077\"}},\"id\":\"8118\",\"type\":\"CDSView\"},{\"attributes\":{},\"id\":\"8025\",\"type\":\"WheelZoomTool\"},{\"attributes\":{\"axis_label\":\"No. of Students\",\"coordinates\":null,\"formatter\":{\"id\":\"7977\"},\"group\":null,\"major_label_policy\":{\"id\":\"7978\"},\"ticker\":{\"id\":\"7949\"}},\"id\":\"7948\",\"type\":\"LinearAxis\"},{\"attributes\":{\"fill_alpha\":{\"value\":0.1},\"fill_color\":{\"value\":\"#cd113b\"},\"hatch_alpha\":{\"value\":0.1},\"hatch_color\":{\"value\":\"#cd113b\"},\"line_alpha\":{\"value\":0.1},\"line_color\":{\"value\":\"#cd113b\"},\"top\":{\"field\":\"Yes\"},\"width\":{\"value\":0.3},\"x\":{\"field\":\"marital_status\",\"transform\":{\"id\":\"8059\"}}},\"id\":\"8062\",\"type\":\"VBar\"},{\"attributes\":{\"label\":{\"value\":\"No treatment\"},\"renderers\":[{\"id\":\"8261\"}]},\"id\":\"8274\",\"type\":\"LegendItem\"},{\"attributes\":{\"below\":[{\"id\":\"7902\"}],\"center\":[{\"id\":\"7905\"},{\"id\":\"7909\"},{\"id\":\"7931\"}],\"height\":450,\"left\":[{\"id\":\"7906\"}],\"renderers\":[{\"id\":\"7920\"}],\"title\":{\"id\":\"7892\"},\"toolbar\":{\"id\":\"7911\"},\"x_range\":{\"id\":\"7894\"},\"x_scale\":{\"id\":\"7898\"},\"y_range\":{\"id\":\"7896\"},\"y_scale\":{\"id\":\"7900\"}},\"id\":\"7891\",\"subtype\":\"Figure\",\"type\":\"Plot\"},{\"attributes\":{\"fill_alpha\":{\"value\":0.1},\"fill_color\":{\"value\":\"#ff5200\"},\"hatch_alpha\":{\"value\":0.1},\"hatch_color\":{\"value\":\"#ff5200\"},\"line_alpha\":{\"value\":0.1},\"line_color\":{\"value\":\"#ff5200\"},\"top\":{\"field\":\"Yes\"},\"width\":{\"value\":0.3},\"x\":{\"field\":\"depression\",\"transform\":{\"id\":\"8347\"}}},\"id\":\"8350\",\"type\":\"VBar\"},{\"attributes\":{},\"id\":\"8266\",\"type\":\"AllLabels\"},{\"attributes\":{\"label\":{\"value\":\"No anxiety\"},\"renderers\":[{\"id\":\"8333\"}]},\"id\":\"8346\",\"type\":\"LegendItem\"},{\"attributes\":{},\"id\":\"8315\",\"type\":\"SaveTool\"},{\"attributes\":{},\"id\":\"8085\",\"type\":\"CategoricalScale\"},{\"attributes\":{\"fill_color\":{\"value\":\"#52006a\"},\"hatch_color\":{\"value\":\"#52006a\"},\"line_color\":{\"value\":\"#52006a\"},\"top\":{\"field\":\"No\"},\"width\":{\"value\":0.3},\"x\":{\"field\":\"marital_status\",\"transform\":{\"id\":\"8040\"}}},\"id\":\"8042\",\"type\":\"VBar\"},{\"attributes\":{\"axis\":{\"id\":\"8308\"},\"coordinates\":null,\"dimension\":1,\"group\":null,\"ticker\":null},\"id\":\"8311\",\"type\":\"Grid\"},{\"attributes\":{\"coordinates\":null,\"data_source\":{\"id\":\"8077\"},\"glyph\":{\"id\":\"8114\"},\"group\":null,\"hover_glyph\":null,\"muted_glyph\":{\"id\":\"8116\"},\"nonselection_glyph\":{\"id\":\"8115\"},\"view\":{\"id\":\"8118\"}},\"id\":\"8117\",\"type\":\"GlyphRenderer\"},{\"attributes\":{},\"id\":\"8197\",\"type\":\"AllLabels\"},{\"attributes\":{\"fill_alpha\":{\"value\":0.1},\"fill_color\":{\"value\":\"#003355\"},\"hatch_alpha\":{\"value\":0.1},\"hatch_color\":{\"value\":\"#003355\"},\"line_alpha\":{\"value\":0.1},\"line_color\":{\"value\":\"#003355\"},\"top\":{\"field\":\"No\"},\"width\":{\"value\":0.3},\"x\":{\"field\":\"depression\",\"transform\":{\"id\":\"8328\"}}},\"id\":\"8331\",\"type\":\"VBar\"},{\"attributes\":{},\"id\":\"7896\",\"type\":\"DataRange1d\"},{\"attributes\":{\"axis_label\":\"Grade\",\"coordinates\":null,\"formatter\":{\"id\":\"8124\"},\"group\":null,\"major_label_policy\":{\"id\":\"8125\"},\"ticker\":{\"id\":\"8090\"}},\"id\":\"8089\",\"type\":\"CategoricalAxis\"},{\"attributes\":{\"coordinates\":null,\"group\":null,\"items\":[{\"id\":\"8274\"},{\"id\":\"8292\"}]},\"id\":\"8273\",\"type\":\"Legend\"},{\"attributes\":{},\"id\":\"7977\",\"type\":\"BasicTickFormatter\"},{\"attributes\":{\"fill_color\":{\"value\":\"#ff5200\"},\"hatch_color\":{\"value\":\"#ff5200\"},\"line_color\":{\"value\":\"#ff5200\"},\"top\":{\"field\":\"Yes\"},\"width\":{\"value\":0.3},\"x\":{\"field\":\"depression\",\"transform\":{\"id\":\"8347\"}}},\"id\":\"8349\",\"type\":\"VBar\"},{\"attributes\":{},\"id\":\"8194\",\"type\":\"AllLabels\"},{\"attributes\":{\"axis\":{\"id\":\"8092\"},\"coordinates\":null,\"dimension\":1,\"group\":null,\"ticker\":null},\"id\":\"8095\",\"type\":\"Grid\"},{\"attributes\":{\"source\":{\"id\":\"8221\"}},\"id\":\"8262\",\"type\":\"CDSView\"},{\"attributes\":{},\"id\":\"8196\",\"type\":\"CategoricalTickFormatter\"},{\"attributes\":{\"below\":[{\"id\":\"7945\"}],\"center\":[{\"id\":\"7947\"},{\"id\":\"7951\"},{\"id\":\"7985\"}],\"height\":450,\"left\":[{\"id\":\"7948\"}],\"renderers\":[{\"id\":\"7973\"},{\"id\":\"7992\"}],\"title\":{\"id\":\"7935\"},\"toolbar\":{\"id\":\"7960\"},\"x_range\":{\"id\":\"7937\"},\"x_scale\":{\"id\":\"7941\"},\"y_range\":{\"id\":\"7939\"},\"y_scale\":{\"id\":\"7943\"}},\"id\":\"7934\",\"subtype\":\"Figure\",\"type\":\"Plot\"},{\"attributes\":{\"coordinates\":null,\"data_source\":{\"id\":\"8293\"},\"glyph\":{\"id\":\"8349\"},\"group\":null,\"hover_glyph\":null,\"muted_glyph\":{\"id\":\"8351\"},\"nonselection_glyph\":{\"id\":\"8350\"},\"view\":{\"id\":\"8353\"}},\"id\":\"8352\",\"type\":\"GlyphRenderer\"},{\"attributes\":{\"fill_alpha\":{\"value\":0.2},\"fill_color\":{\"value\":\"#c40018\"},\"hatch_alpha\":{\"value\":0.2},\"hatch_color\":{\"value\":\"#c40018\"},\"line_alpha\":{\"value\":0.2},\"line_color\":{\"value\":\"#c40018\"},\"top\":{\"field\":\"No\"},\"width\":{\"value\":0.3},\"x\":{\"field\":\"marital_status\",\"transform\":{\"id\":\"8256\"}}},\"id\":\"8260\",\"type\":\"VBar\"},{\"attributes\":{\"label\":{\"value\":\"Anxiety\"},\"renderers\":[{\"id\":\"8352\"}]},\"id\":\"8364\",\"type\":\"LegendItem\"},{\"attributes\":{\"field\":\"angle\"},\"id\":\"7914\",\"type\":\"CumSum\"},{\"attributes\":{},\"id\":\"7980\",\"type\":\"CategoricalTickFormatter\"},{\"attributes\":{\"fill_alpha\":{\"value\":0.2},\"fill_color\":{\"value\":\"#ff5200\"},\"hatch_alpha\":{\"value\":0.2},\"hatch_color\":{\"value\":\"#ff5200\"},\"line_alpha\":{\"value\":0.2},\"line_color\":{\"value\":\"#ff5200\"},\"top\":{\"field\":\"Yes\"},\"width\":{\"value\":0.3},\"x\":{\"field\":\"depression\",\"transform\":{\"id\":\"8347\"}}},\"id\":\"8351\",\"type\":\"VBar\"},{\"attributes\":{\"tools\":[{\"id\":\"8240\"},{\"id\":\"8241\"},{\"id\":\"8242\"},{\"id\":\"8243\"},{\"id\":\"8244\"},{\"id\":\"8245\"},{\"id\":\"8247\"}]},\"id\":\"8248\",\"type\":\"Toolbar\"},{\"attributes\":{\"fill_alpha\":{\"value\":0.1},\"fill_color\":{\"value\":\"#52006a\"},\"hatch_alpha\":{\"value\":0.1},\"hatch_color\":{\"value\":\"#52006a\"},\"line_alpha\":{\"value\":0.1},\"line_color\":{\"value\":\"#52006a\"},\"top\":{\"field\":\"No\"},\"width\":{\"value\":0.3},\"x\":{\"field\":\"marital_status\",\"transform\":{\"id\":\"8040\"}}},\"id\":\"8043\",\"type\":\"VBar\"},{\"attributes\":{\"source\":{\"id\":\"8293\"}},\"id\":\"8353\",\"type\":\"CDSView\"},{\"attributes\":{\"fill_color\":{\"value\":\"#c40018\"},\"hatch_color\":{\"value\":\"#c40018\"},\"line_color\":{\"value\":\"#c40018\"},\"top\":{\"field\":\"No\"},\"width\":{\"value\":0.3},\"x\":{\"field\":\"gender\",\"transform\":{\"id\":\"8184\"}}},\"id\":\"8186\",\"type\":\"VBar\"},{\"attributes\":{\"factors\":[\"Female\",\"Male\"],\"range_padding\":0.1},\"id\":\"7937\",\"type\":\"FactorRange\"},{\"attributes\":{\"range\":{\"id\":\"8225\"},\"value\":-0.17},\"id\":\"8256\",\"type\":\"Dodge\"},{\"attributes\":{\"range\":{\"id\":\"8081\"},\"value\":0.17},\"id\":\"8131\",\"type\":\"Dodge\"},{\"attributes\":{\"coordinates\":null,\"data_source\":{\"id\":\"8149\"},\"glyph\":{\"id\":\"8186\"},\"group\":null,\"hover_glyph\":null,\"muted_glyph\":{\"id\":\"8188\"},\"nonselection_glyph\":{\"id\":\"8187\"},\"view\":{\"id\":\"8190\"}},\"id\":\"8189\",\"type\":\"GlyphRenderer\"},{\"attributes\":{},\"id\":\"7925\",\"type\":\"AllLabels\"},{\"attributes\":{\"bottom_units\":\"screen\",\"coordinates\":null,\"fill_alpha\":0.5,\"fill_color\":\"lightgrey\",\"group\":null,\"left_units\":\"screen\",\"level\":\"overlay\",\"line_alpha\":1.0,\"line_color\":\"black\",\"line_dash\":[4,4],\"line_width\":2,\"right_units\":\"screen\",\"syncable\":false,\"top_units\":\"screen\"},\"id\":\"8030\",\"type\":\"BoxAnnotation\"},{\"attributes\":{\"fill_alpha\":{\"value\":0.2},\"fill_color\":{\"value\":\"#c40018\"},\"hatch_alpha\":{\"value\":0.2},\"hatch_color\":{\"value\":\"#c40018\"},\"line_alpha\":{\"value\":0.2},\"line_color\":{\"value\":\"#c40018\"},\"top\":{\"field\":\"No\"},\"width\":{\"value\":0.3},\"x\":{\"field\":\"gender\",\"transform\":{\"id\":\"8184\"}}},\"id\":\"8188\",\"type\":\"VBar\"},{\"attributes\":{\"coordinates\":null,\"data_source\":{\"id\":\"8221\"},\"glyph\":{\"id\":\"8258\"},\"group\":null,\"hover_glyph\":null,\"muted_glyph\":{\"id\":\"8260\"},\"nonselection_glyph\":{\"id\":\"8259\"},\"view\":{\"id\":\"8262\"}},\"id\":\"8261\",\"type\":\"GlyphRenderer\"},{\"attributes\":{\"axis\":{\"id\":\"8020\"},\"coordinates\":null,\"dimension\":1,\"group\":null,\"ticker\":null},\"id\":\"8023\",\"type\":\"Grid\"},{\"attributes\":{\"axis_label\":\"No. of Students\",\"coordinates\":null,\"formatter\":{\"id\":\"8049\"},\"group\":null,\"major_label_policy\":{\"id\":\"8050\"},\"ticker\":{\"id\":\"8021\"}},\"id\":\"8020\",\"type\":\"LinearAxis\"},{\"attributes\":{},\"id\":\"7924\",\"type\":\"BasicTickFormatter\"},{\"attributes\":{\"overlay\":{\"id\":\"8102\"}},\"id\":\"8098\",\"type\":\"BoxZoomTool\"},{\"attributes\":{\"label\":{\"value\":\"No anxiety\"},\"renderers\":[{\"id\":\"8045\"}]},\"id\":\"8058\",\"type\":\"LegendItem\"},{\"attributes\":{\"range\":{\"id\":\"8297\"},\"value\":0.17},\"id\":\"8347\",\"type\":\"Dodge\"},{\"attributes\":{},\"id\":\"8301\",\"type\":\"CategoricalScale\"},{\"attributes\":{\"fill_color\":{\"value\":\"#c40018\"},\"hatch_color\":{\"value\":\"#c40018\"},\"line_color\":{\"value\":\"#c40018\"},\"top\":{\"field\":\"No\"},\"width\":{\"value\":0.3},\"x\":{\"field\":\"marital_status\",\"transform\":{\"id\":\"8256\"}}},\"id\":\"8258\",\"type\":\"VBar\"},{\"attributes\":{\"overlay\":{\"id\":\"8030\"}},\"id\":\"8026\",\"type\":\"BoxZoomTool\"}],\"root_ids\":[\"8372\"]},\"title\":\"Bokeh Application\",\"version\":\"2.4.3\"}};\n  const render_items = [{\"docid\":\"b5e7a941-a09b-46b6-ac16-7005f9ee0a28\",\"root_ids\":[\"8372\"],\"roots\":{\"8372\":\"381c5d47-e159-4edb-8c0b-28d5b859dd47\"}}];\n  root.Bokeh.embed.embed_items_notebook(docs_json, render_items);\n  }\n  if (root.Bokeh !== undefined) {\n    embed_document(root);\n  } else {\n    let attempts = 0;\n    const timer = setInterval(function(root) {\n      if (root.Bokeh !== undefined) {\n        clearInterval(timer);\n        embed_document(root);\n      } else {\n        attempts++;\n        if (attempts > 100) {\n          clearInterval(timer);\n          console.log(\"Bokeh: ERROR: Unable to run BokehJS code because BokehJS library is missing\");\n        }\n      }\n    }, 10, root)\n  }\n})(window);",
      "application/vnd.bokehjs_exec.v0+json": ""
     },
     "metadata": {
      "application/vnd.bokehjs_exec.v0+json": {
       "id": "8372"
      }
     },
     "output_type": "display_data"
    }
   ],
   "source": [
    "tab12 = Panel(child=p12, title='Anxiety')\n",
    "tab13 = Panel(child=p13, title='Gender')\n",
    "tab14 = Panel(child=p14, title='Marriage')\n",
    "tab15 = Panel(child=p15, title='Grade')\n",
    "tab16 = Panel(child=p18, title='Depression')\n",
    "tab17 = Panel(child=p16, title='Treatment1')\n",
    "tab18 = Panel(child=p17, title='Treatment2')\n",
    "\n",
    "tabs_obj2 = Tabs(tabs=[tab12, tab13, tab14, tab15, tab16, tab17, tab18])\n",
    "\n",
    "show(tabs_obj2)"
   ]
  },
  {
   "cell_type": "markdown",
   "metadata": {},
   "source": [
    "### Panic Attacks"
   ]
  },
  {
   "cell_type": "code",
   "execution_count": 111,
   "metadata": {},
   "outputs": [],
   "source": [
    "# How many students getting panic attack?\n",
    "panic_attack_total = df.panic_attack.value_counts().reset_index().rename(columns={'panic_attack':'count', 'index':'panic_attack'})\n",
    "panic_attack_total['angle'] = panic_attack_total['count'] / panic_attack_total['count'].sum() *2*pi\n",
    "panic_attack_total['color'] = ['#0e2f56','#810b97']\n",
    "\n",
    "p19 = figure(\n",
    "    height=450,\n",
    "    title='No. of students suffering panic attack',\n",
    "    tools = 'hover',\n",
    "    tooltips='@panic_attack: @count',\n",
    "    x_range = (-0.5,.9)\n",
    ")\n",
    "\n",
    "p19.wedge(\n",
    "    x=0,\n",
    "    y=1,\n",
    "    radius=0.4,\n",
    "    start_angle=bokeh.transform.cumsum('angle', include_zero=True),\n",
    "    end_angle = bokeh.transform.cumsum('angle'),\n",
    "    line_color = 'white',\n",
    "    fill_color = 'color',\n",
    "    legend_field='panic_attack',\n",
    "    source = panic_attack_total\n",
    ")\n",
    "\n",
    "p19.axis.axis_label = None\n",
    "p19.axis.visible = False\n",
    "p19.grid.grid_line_color = None\n",
    "p19.title.text_color='black'\n",
    "p19.title.text_font_style='bold'\n",
    "p19.title.text_font_size='20px'\n",
    "p19.title.text_font = 'Ariel'\n",
    "\n",
    "\n",
    "# Gender\n",
    "panic_attack_gender = pd.crosstab(df.gender,df.panic_attack).reset_index()\n",
    "title = 'Gender Vs Panic Attack'\n",
    "tips = [ \n",
    "    ('Gender','@gender'),\n",
    "    ('No panic attack', '@No'),\n",
    "    ('Panic attack', '@Yes')\n",
    "]\n",
    "p20 = GroupedBar(df=panic_attack_gender, y_range=(0,52), title=title, tooltips=tips,\\\n",
    "    x_axis_label='Gender', y_axis_label='No. of students', x_axis='gender', top1='No', top2='Yes',\\\n",
    "        legend1='No panic attack', legend2='Panic attack', col1='#005f99', col2='#cf0000')\n",
    "\n",
    "\n",
    "# marital status\n",
    "panic_attack_marriage = pd.crosstab(df.marital_status,df.panic_attack).reset_index()\n",
    "title='Marital Status Vs Panic Attack'\n",
    "tips = [ \n",
    "    ('Marital Status', '@marital_status'),\n",
    "    ('No panic attack', '@No'),\n",
    "    ('Panic attack', '@Yes')\n",
    "]\n",
    "p21 = GroupedBar(df=panic_attack_marriage, y_range=(0,65), title=title, tooltips=tips,\\\n",
    "    x_axis_label='Marital Status', y_axis_label='No. of students', x_axis='marital_status',\\\n",
    "    top1='No', top2='Yes',legend1='No panic attack', legend2='Panic attack', col1='#005f99', col2='#cf0000')\n",
    "\n",
    "\n",
    "\n",
    "# Grade\n",
    "panic_attack_grade = pd.crosstab(df.cgpa, df.panic_attack).reset_index()\n",
    "title='Grade Vs Panic Attack'\n",
    "tips = [ \n",
    "    ('Grade','@cgpa'),\n",
    "    ('No panic attack','@No'),\n",
    "    ('Panic attack','@Yes')\n",
    "]\n",
    "p22 = GroupedBar(df=panic_attack_grade, y_range=(0,36), title=title, tooltips=tips,\\\n",
    "    x_axis_label='Grade in CGPA', y_axis_label='No. of students', x_axis='cgpa',\\\n",
    "    top1='No', top2='Yes',legend1='No panic attack', legend2='Panic attack', col1='#005f99', col2='#cf0000')\n",
    "p22.legend.location='top_left'\n",
    "\n",
    "\n",
    "# Depression\n",
    "panic_attack_depression = pd.crosstab(df.depression, df.panic_attack).reset_index()\n",
    "title='Does depression causes panic attack?'\n",
    "tips = [ \n",
    "    ('Depression','@depression'),\n",
    "    ('No panic attack','@No'),\n",
    "    ('Panic attack','@Yes')\n",
    "]\n",
    "p23 = GroupedBar(df=panic_attack_depression, y_range=(0,52), title=title, tooltips=tips,\\\n",
    "    x_axis_label='Depression', y_axis_label='No. of students', x_axis='depression',\\\n",
    "    top1='No', top2='Yes',legend1='No panic attack', legend2='Panic attack', col1='#005f99', col2='#cf0000')\n",
    "\n",
    "\n",
    "\n",
    "# Does anxiety causes panic attack?\n",
    "panic_attack_anxiety = pd.crosstab(df.anxiety, df.panic_attack).reset_index()\n",
    "title='Does anxiety causes panic attack?'\n",
    "tips = [ \n",
    "    ('Anxiety','@anxiety'),\n",
    "    ('No panic attack','@No'),\n",
    "    ('Panic attack','@Yes')\n",
    "]\n",
    "p24 = GroupedBar(df=panic_attack_anxiety, y_range=(0,50), title=title, tooltips=tips,\\\n",
    "    x_axis_label='Anxiety', y_axis_label='No. of students', x_axis='anxiety',\\\n",
    "    top1='No', top2='Yes',legend1='No panic attack', legend2='Panic attack', col1='#005f99', col2='#cf0000')\n",
    "\n",
    "\n",
    "# How many students are taking treatment\n",
    "panic_attack_students = df[df.panic_attack=='Yes']\n",
    "panic_attack_treatment = panic_attack_students.treatment.value_counts().reset_index().rename(columns={'treatment':'count','index':'treatment'})\n",
    "panic_attack_treatment['angle'] = panic_attack_total['count'] / panic_attack_total['count'].sum() *2*pi\n",
    "panic_attack_treatment['color'] = ['#ac0d0d', '#146356']\n",
    "p25 = figure(\n",
    "    height=450,\n",
    "    title='How many students are taking medical help?',\n",
    "    tools = 'hover',\n",
    "    tooltips='@treatment: @count',\n",
    "    x_range = (-0.5,.9)\n",
    ")\n",
    "\n",
    "p25.wedge(\n",
    "    x=0,\n",
    "    y=1,\n",
    "    radius=0.4,\n",
    "    start_angle=bokeh.transform.cumsum('angle', include_zero=True),\n",
    "    end_angle = bokeh.transform.cumsum('angle'),\n",
    "    line_color = 'white',\n",
    "    fill_color = 'color',\n",
    "    legend_field='treatment',\n",
    "    source = panic_attack_treatment\n",
    ")\n",
    "p25.axis.axis_label = None\n",
    "p25.axis.visible = False\n",
    "p25.grid.grid_line_color = None\n",
    "p25.title.text_color='black'\n",
    "p25.title.text_font_style='bold'\n",
    "p25.title.text_font_size='20px'\n",
    "p25.title.text_font = 'Ariel'"
   ]
  },
  {
   "cell_type": "code",
   "execution_count": 113,
   "metadata": {},
   "outputs": [
    {
     "data": {
      "text/html": [
       "\n",
       "  <div class=\"bk-root\" id=\"e9f87d01-333e-4819-85be-e03c25b34a0d\" data-root-id=\"21478\"></div>\n"
      ]
     },
     "metadata": {},
     "output_type": "display_data"
    },
    {
     "data": {
      "application/javascript": "(function(root) {\n  function embed_document(root) {\n  const docs_json = {\"16034546-b339-4aa7-86a8-cdf8547146c9\":{\"defs\":[],\"roots\":{\"references\":[{\"attributes\":{\"tabs\":[{\"id\":\"21471\"},{\"id\":\"21472\"},{\"id\":\"21473\"},{\"id\":\"21474\"},{\"id\":\"21475\"},{\"id\":\"21476\"},{\"id\":\"21477\"}]},\"id\":\"21478\",\"type\":\"Tabs\"},{\"attributes\":{\"source\":{\"id\":\"20477\"}},\"id\":\"20537\",\"type\":\"CDSView\"},{\"attributes\":{\"data\":{\"angle\":{\"__ndarray__\":\"GJ2GKcrrEEABIHtVYmwAQA==\",\"dtype\":\"float64\",\"order\":\"little\",\"shape\":[2]},\"color\":[\"#0e2f56\",\"#810b97\"],\"count\":[68,33],\"index\":[0,1],\"panic_attack\":[\"No\",\"Yes\"]},\"selected\":{\"id\":\"20186\"},\"selection_policy\":{\"id\":\"20185\"}},\"id\":\"20171\",\"type\":\"ColumnDataSource\"},{\"attributes\":{\"axis\":{\"id\":\"20560\"},\"coordinates\":null,\"grid_line_color\":null,\"group\":null,\"ticker\":null},\"id\":\"20563\",\"type\":\"Grid\"},{\"attributes\":{},\"id\":\"20380\",\"type\":\"CategoricalTickFormatter\"},{\"attributes\":{\"callback\":null,\"tooltips\":[[\"Marital Status\",\"@marital_status\"],[\"No panic attack\",\"@No\"],[\"Panic attack\",\"@Yes\"]]},\"id\":\"20287\",\"type\":\"HoverTool\"},{\"attributes\":{},\"id\":\"20381\",\"type\":\"AllLabels\"},{\"attributes\":{},\"id\":\"20497\",\"type\":\"WheelZoomTool\"},{\"attributes\":{\"below\":[{\"id\":\"20158\"}],\"center\":[{\"id\":\"20161\"},{\"id\":\"20165\"},{\"id\":\"20187\"}],\"height\":450,\"left\":[{\"id\":\"20162\"}],\"renderers\":[{\"id\":\"20176\"}],\"title\":{\"id\":\"20148\"},\"toolbar\":{\"id\":\"20167\"},\"x_range\":{\"id\":\"20150\"},\"x_scale\":{\"id\":\"20154\"},\"y_range\":{\"id\":\"20152\"},\"y_scale\":{\"id\":\"20156\"}},\"id\":\"20147\",\"subtype\":\"Figure\",\"type\":\"Plot\"},{\"attributes\":{\"field\":\"angle\"},\"id\":\"20170\",\"type\":\"CumSum\"},{\"attributes\":{\"axis\":{\"id\":\"20417\"},\"coordinates\":null,\"grid_line_color\":null,\"group\":null,\"ticker\":null},\"id\":\"20419\",\"type\":\"Grid\"},{\"attributes\":{\"range\":{\"id\":\"20193\"},\"value\":0.17},\"id\":\"20243\",\"type\":\"Dodge\"},{\"attributes\":{\"bottom_units\":\"screen\",\"coordinates\":null,\"fill_alpha\":0.5,\"fill_color\":\"lightgrey\",\"group\":null,\"left_units\":\"screen\",\"level\":\"overlay\",\"line_alpha\":1.0,\"line_color\":\"black\",\"line_dash\":[4,4],\"line_width\":2,\"right_units\":\"screen\",\"syncable\":false,\"top_units\":\"screen\"},\"id\":\"20502\",\"type\":\"BoxAnnotation\"},{\"attributes\":{\"coordinates\":null,\"group\":null,\"text\":\"Does depression causes panic attack?\",\"text_color\":\"black\",\"text_font\":\"Ariel\",\"text_font_size\":\"20px\"},\"id\":\"20407\",\"type\":\"Title\"},{\"attributes\":{\"label\":{\"value\":\"Panic attack\"},\"renderers\":[{\"id\":\"20392\"}]},\"id\":\"20404\",\"type\":\"LegendItem\"},{\"attributes\":{\"axis_label\":\"No. of students\",\"coordinates\":null,\"formatter\":{\"id\":\"20305\"},\"group\":null,\"major_label_policy\":{\"id\":\"20306\"},\"ticker\":{\"id\":\"20277\"}},\"id\":\"20276\",\"type\":\"LinearAxis\"},{\"attributes\":{\"end_angle\":{\"expr\":{\"id\":\"20170\"}},\"fill_alpha\":{\"value\":0.1},\"fill_color\":{\"field\":\"color\"},\"hatch_alpha\":{\"value\":0.1},\"line_alpha\":{\"value\":0.1},\"line_color\":{\"value\":\"white\"},\"radius\":{\"value\":0.4},\"start_angle\":{\"expr\":{\"id\":\"20169\"}},\"x\":{\"value\":0},\"y\":{\"value\":1}},\"id\":\"20174\",\"type\":\"Wedge\"},{\"attributes\":{},\"id\":\"20493\",\"type\":\"BasicTicker\"},{\"attributes\":{},\"id\":\"20454\",\"type\":\"UnionRenderers\"},{\"attributes\":{},\"id\":\"20237\",\"type\":\"AllLabels\"},{\"attributes\":{\"axis\":{\"id\":\"20492\"},\"coordinates\":null,\"dimension\":1,\"group\":null,\"ticker\":null},\"id\":\"20495\",\"type\":\"Grid\"},{\"attributes\":{\"end_angle\":{\"expr\":{\"id\":\"20170\"}},\"fill_color\":{\"field\":\"color\"},\"line_color\":{\"value\":\"white\"},\"radius\":{\"value\":0.4},\"start_angle\":{\"expr\":{\"id\":\"20169\"}},\"x\":{\"value\":0},\"y\":{\"value\":1}},\"id\":\"20173\",\"type\":\"Wedge\"},{\"attributes\":{},\"id\":\"20428\",\"type\":\"ResetTool\"},{\"attributes\":{\"coordinates\":null,\"group\":null,\"text\":\"How many students are taking medical help?\",\"text_color\":\"black\",\"text_font\":\"Ariel\",\"text_font_size\":\"20px\"},\"id\":\"20550\",\"type\":\"Title\"},{\"attributes\":{\"factors\":[\"0 - 1.99\",\"2.00 - 2.49\",\"2.50 - 2.99\",\"3.00 - 3.49\",\"3.50 - 4.00\",\"3.50 - 4.00 \"],\"range_padding\":0.1},\"id\":\"20337\",\"type\":\"FactorRange\"},{\"attributes\":{},\"id\":\"20449\",\"type\":\"BasicTickFormatter\"},{\"attributes\":{},\"id\":\"20382\",\"type\":\"UnionRenderers\"},{\"attributes\":{\"axis\":{\"id\":\"20276\"},\"coordinates\":null,\"dimension\":1,\"group\":null,\"ticker\":null},\"id\":\"20279\",\"type\":\"Grid\"},{\"attributes\":{},\"id\":\"20501\",\"type\":\"HelpTool\"},{\"attributes\":{},\"id\":\"20211\",\"type\":\"SaveTool\"},{\"attributes\":{},\"id\":\"20383\",\"type\":\"Selection\"},{\"attributes\":{\"overlay\":{\"id\":\"20430\"}},\"id\":\"20426\",\"type\":\"BoxZoomTool\"},{\"attributes\":{},\"id\":\"20233\",\"type\":\"BasicTickFormatter\"},{\"attributes\":{\"fill_alpha\":{\"value\":0.1},\"fill_color\":{\"value\":\"#cf0000\"},\"hatch_alpha\":{\"value\":0.1},\"hatch_color\":{\"value\":\"#cf0000\"},\"line_alpha\":{\"value\":0.1},\"line_color\":{\"value\":\"#cf0000\"},\"top\":{\"field\":\"Yes\"},\"width\":{\"value\":0.3},\"x\":{\"field\":\"marital_status\",\"transform\":{\"id\":\"20315\"}}},\"id\":\"20318\",\"type\":\"VBar\"},{\"attributes\":{\"range\":{\"id\":\"20265\"},\"value\":-0.17},\"id\":\"20296\",\"type\":\"Dodge\"},{\"attributes\":{},\"id\":\"20277\",\"type\":\"BasicTicker\"},{\"attributes\":{\"label\":{\"value\":\"No panic attack\"},\"renderers\":[{\"id\":\"20301\"}]},\"id\":\"20314\",\"type\":\"LegendItem\"},{\"attributes\":{},\"id\":\"20281\",\"type\":\"WheelZoomTool\"},{\"attributes\":{},\"id\":\"20349\",\"type\":\"BasicTicker\"},{\"attributes\":{},\"id\":\"20280\",\"type\":\"PanTool\"},{\"attributes\":{},\"id\":\"20556\",\"type\":\"LinearScale\"},{\"attributes\":{\"range\":{\"id\":\"20265\"},\"value\":0.17},\"id\":\"20315\",\"type\":\"Dodge\"},{\"attributes\":{\"source\":{\"id\":\"20189\"}},\"id\":\"20230\",\"type\":\"CDSView\"},{\"attributes\":{},\"id\":\"20499\",\"type\":\"SaveTool\"},{\"attributes\":{\"fill_color\":{\"value\":\"#cf0000\"},\"hatch_color\":{\"value\":\"#cf0000\"},\"line_color\":{\"value\":\"#cf0000\"},\"top\":{\"field\":\"Yes\"},\"width\":{\"value\":0.3},\"x\":{\"field\":\"marital_status\",\"transform\":{\"id\":\"20315\"}}},\"id\":\"20317\",\"type\":\"VBar\"},{\"attributes\":{\"coordinates\":null,\"data_source\":{\"id\":\"20261\"},\"glyph\":{\"id\":\"20317\"},\"group\":null,\"hover_glyph\":null,\"muted_glyph\":{\"id\":\"20319\"},\"nonselection_glyph\":{\"id\":\"20318\"},\"view\":{\"id\":\"20321\"}},\"id\":\"20320\",\"type\":\"GlyphRenderer\"},{\"attributes\":{\"overlay\":{\"id\":\"20214\"}},\"id\":\"20210\",\"type\":\"BoxZoomTool\"},{\"attributes\":{\"label\":{\"value\":\"Panic attack\"},\"renderers\":[{\"id\":\"20320\"}]},\"id\":\"20332\",\"type\":\"LegendItem\"},{\"attributes\":{},\"id\":\"20561\",\"type\":\"BasicTicker\"},{\"attributes\":{},\"id\":\"20212\",\"type\":\"ResetTool\"},{\"attributes\":{\"fill_alpha\":{\"value\":0.2},\"fill_color\":{\"value\":\"#cf0000\"},\"hatch_alpha\":{\"value\":0.2},\"hatch_color\":{\"value\":\"#cf0000\"},\"line_alpha\":{\"value\":0.2},\"line_color\":{\"value\":\"#cf0000\"},\"top\":{\"field\":\"Yes\"},\"width\":{\"value\":0.3},\"x\":{\"field\":\"marital_status\",\"transform\":{\"id\":\"20315\"}}},\"id\":\"20319\",\"type\":\"VBar\"},{\"attributes\":{},\"id\":\"20285\",\"type\":\"HelpTool\"},{\"attributes\":{},\"id\":\"20496\",\"type\":\"PanTool\"},{\"attributes\":{\"bottom_units\":\"screen\",\"coordinates\":null,\"fill_alpha\":0.5,\"fill_color\":\"lightgrey\",\"group\":null,\"left_units\":\"screen\",\"level\":\"overlay\",\"line_alpha\":1.0,\"line_color\":\"black\",\"line_dash\":[4,4],\"line_width\":2,\"right_units\":\"screen\",\"syncable\":false,\"top_units\":\"screen\"},\"id\":\"20286\",\"type\":\"BoxAnnotation\"},{\"attributes\":{\"range\":{\"id\":\"20409\"},\"value\":-0.17},\"id\":\"20440\",\"type\":\"Dodge\"},{\"attributes\":{\"source\":{\"id\":\"20261\"}},\"id\":\"20321\",\"type\":\"CDSView\"},{\"attributes\":{},\"id\":\"20197\",\"type\":\"CategoricalScale\"},{\"attributes\":{\"tools\":[{\"id\":\"20424\"},{\"id\":\"20425\"},{\"id\":\"20426\"},{\"id\":\"20427\"},{\"id\":\"20428\"},{\"id\":\"20429\"},{\"id\":\"20431\"}]},\"id\":\"20432\",\"type\":\"Toolbar\"},{\"attributes\":{\"tools\":[{\"id\":\"20568\"}]},\"id\":\"20569\",\"type\":\"Toolbar\"},{\"attributes\":{\"fill_color\":{\"value\":\"#005f99\"},\"hatch_color\":{\"value\":\"#005f99\"},\"line_color\":{\"value\":\"#005f99\"},\"top\":{\"field\":\"No\"},\"width\":{\"value\":0.3},\"x\":{\"field\":\"gender\",\"transform\":{\"id\":\"20224\"}}},\"id\":\"20226\",\"type\":\"VBar\"},{\"attributes\":{\"fill_alpha\":{\"value\":0.1},\"fill_color\":{\"value\":\"#cf0000\"},\"hatch_alpha\":{\"value\":0.1},\"hatch_color\":{\"value\":\"#cf0000\"},\"line_alpha\":{\"value\":0.1},\"line_color\":{\"value\":\"#cf0000\"},\"top\":{\"field\":\"Yes\"},\"width\":{\"value\":0.3},\"x\":{\"field\":\"gender\",\"transform\":{\"id\":\"20243\"}}},\"id\":\"20246\",\"type\":\"VBar\"},{\"attributes\":{\"source\":{\"id\":\"20477\"}},\"id\":\"20518\",\"type\":\"CDSView\"},{\"attributes\":{\"axis\":{\"id\":\"20201\"},\"coordinates\":null,\"grid_line_color\":null,\"group\":null,\"ticker\":null},\"id\":\"20203\",\"type\":\"Grid\"},{\"attributes\":{\"axis\":{\"id\":\"20564\"},\"coordinates\":null,\"dimension\":1,\"grid_line_color\":null,\"group\":null,\"ticker\":null},\"id\":\"20567\",\"type\":\"Grid\"},{\"attributes\":{},\"id\":\"20283\",\"type\":\"SaveTool\"},{\"attributes\":{},\"id\":\"20500\",\"type\":\"ResetTool\"},{\"attributes\":{\"axis_label\":\"Gender\",\"coordinates\":null,\"formatter\":{\"id\":\"20236\"},\"group\":null,\"major_label_policy\":{\"id\":\"20237\"},\"ticker\":{\"id\":\"20202\"}},\"id\":\"20201\",\"type\":\"CategoricalAxis\"},{\"attributes\":{\"axis\":{\"id\":\"20204\"},\"coordinates\":null,\"dimension\":1,\"group\":null,\"ticker\":null},\"id\":\"20207\",\"type\":\"Grid\"},{\"attributes\":{\"coordinates\":null,\"formatter\":{\"id\":\"20585\"},\"group\":null,\"major_label_policy\":{\"id\":\"20586\"},\"ticker\":{\"id\":\"20561\"},\"visible\":false},\"id\":\"20560\",\"type\":\"LinearAxis\"},{\"attributes\":{\"callback\":null,\"tooltips\":\"@treatment: @count\"},\"id\":\"20568\",\"type\":\"HoverTool\"},{\"attributes\":{\"label\":{\"value\":\"No panic attack\"},\"renderers\":[{\"id\":\"20229\"}]},\"id\":\"20242\",\"type\":\"LegendItem\"},{\"attributes\":{},\"id\":\"20453\",\"type\":\"AllLabels\"},{\"attributes\":{\"data\":{\"No\":[47,21],\"Yes\":[20,13],\"anxiety\":[\"No\",\"Yes\"],\"index\":[0,1]},\"selected\":{\"id\":\"20527\"},\"selection_policy\":{\"id\":\"20526\"}},\"id\":\"20477\",\"type\":\"ColumnDataSource\"},{\"attributes\":{\"field\":\"angle\",\"include_zero\":true},\"id\":\"20169\",\"type\":\"CumSum\"},{\"attributes\":{},\"id\":\"20450\",\"type\":\"AllLabels\"},{\"attributes\":{},\"id\":\"20565\",\"type\":\"BasicTicker\"},{\"attributes\":{\"coordinates\":null,\"group\":null,\"items\":[{\"id\":\"20530\"},{\"id\":\"20548\"}]},\"id\":\"20529\",\"type\":\"Legend\"},{\"attributes\":{},\"id\":\"20558\",\"type\":\"LinearScale\"},{\"attributes\":{\"fill_alpha\":{\"value\":0.1},\"fill_color\":{\"value\":\"#005f99\"},\"hatch_alpha\":{\"value\":0.1},\"hatch_color\":{\"value\":\"#005f99\"},\"line_alpha\":{\"value\":0.1},\"line_color\":{\"value\":\"#005f99\"},\"top\":{\"field\":\"No\"},\"width\":{\"value\":0.3},\"x\":{\"field\":\"anxiety\",\"transform\":{\"id\":\"20512\"}}},\"id\":\"20515\",\"type\":\"VBar\"},{\"attributes\":{\"coordinates\":null,\"formatter\":{\"id\":\"20582\"},\"group\":null,\"major_label_policy\":{\"id\":\"20583\"},\"ticker\":{\"id\":\"20565\"},\"visible\":false},\"id\":\"20564\",\"type\":\"LinearAxis\"},{\"attributes\":{},\"id\":\"20452\",\"type\":\"CategoricalTickFormatter\"},{\"attributes\":{\"fill_color\":{\"value\":\"#005f99\"},\"hatch_color\":{\"value\":\"#005f99\"},\"line_color\":{\"value\":\"#005f99\"},\"top\":{\"field\":\"No\"},\"width\":{\"value\":0.3},\"x\":{\"field\":\"marital_status\",\"transform\":{\"id\":\"20296\"}}},\"id\":\"20298\",\"type\":\"VBar\"},{\"attributes\":{\"range\":{\"id\":\"20481\"},\"value\":-0.17},\"id\":\"20512\",\"type\":\"Dodge\"},{\"attributes\":{\"callback\":null,\"tooltips\":[[\"Anxiety\",\"@anxiety\"],[\"No panic attack\",\"@No\"],[\"Panic attack\",\"@Yes\"]]},\"id\":\"20503\",\"type\":\"HoverTool\"},{\"attributes\":{\"child\":{\"id\":\"20478\"},\"title\":\"Anxiety\"},\"id\":\"21476\",\"type\":\"Panel\"},{\"attributes\":{},\"id\":\"20271\",\"type\":\"LinearScale\"},{\"attributes\":{\"axis_label\":\"Marital Status\",\"coordinates\":null,\"formatter\":{\"id\":\"20308\"},\"group\":null,\"major_label_policy\":{\"id\":\"20309\"},\"ticker\":{\"id\":\"20274\"}},\"id\":\"20273\",\"type\":\"CategoricalAxis\"},{\"attributes\":{\"fill_color\":{\"value\":\"#005f99\"},\"hatch_color\":{\"value\":\"#005f99\"},\"line_color\":{\"value\":\"#005f99\"},\"top\":{\"field\":\"No\"},\"width\":{\"value\":0.3},\"x\":{\"field\":\"depression\",\"transform\":{\"id\":\"20440\"}}},\"id\":\"20442\",\"type\":\"VBar\"},{\"attributes\":{\"fill_alpha\":{\"value\":0.1},\"fill_color\":{\"value\":\"#005f99\"},\"hatch_alpha\":{\"value\":0.1},\"hatch_color\":{\"value\":\"#005f99\"},\"line_alpha\":{\"value\":0.1},\"line_color\":{\"value\":\"#005f99\"},\"top\":{\"field\":\"No\"},\"width\":{\"value\":0.3},\"x\":{\"field\":\"gender\",\"transform\":{\"id\":\"20224\"}}},\"id\":\"20227\",\"type\":\"VBar\"},{\"attributes\":{\"data\":{\"No\":[50,18],\"Yes\":[16,17],\"depression\":[\"No\",\"Yes\"],\"index\":[0,1]},\"selected\":{\"id\":\"20455\"},\"selection_policy\":{\"id\":\"20454\"}},\"id\":\"20405\",\"type\":\"ColumnDataSource\"},{\"attributes\":{},\"id\":\"20525\",\"type\":\"AllLabels\"},{\"attributes\":{\"end_angle\":{\"expr\":{\"id\":\"20572\"}},\"fill_alpha\":{\"value\":0.1},\"fill_color\":{\"field\":\"color\"},\"hatch_alpha\":{\"value\":0.1},\"line_alpha\":{\"value\":0.1},\"line_color\":{\"value\":\"white\"},\"radius\":{\"value\":0.4},\"start_angle\":{\"expr\":{\"id\":\"20571\"}},\"x\":{\"value\":0},\"y\":{\"value\":1}},\"id\":\"20576\",\"type\":\"Wedge\"},{\"attributes\":{\"coordinates\":null,\"data_source\":{\"id\":\"20405\"},\"glyph\":{\"id\":\"20442\"},\"group\":null,\"hover_glyph\":null,\"muted_glyph\":{\"id\":\"20444\"},\"nonselection_glyph\":{\"id\":\"20443\"},\"view\":{\"id\":\"20446\"}},\"id\":\"20445\",\"type\":\"GlyphRenderer\"},{\"attributes\":{},\"id\":\"20346\",\"type\":\"CategoricalTicker\"},{\"attributes\":{},\"id\":\"20274\",\"type\":\"CategoricalTicker\"},{\"attributes\":{\"fill_alpha\":{\"value\":0.2},\"fill_color\":{\"value\":\"#005f99\"},\"hatch_alpha\":{\"value\":0.2},\"hatch_color\":{\"value\":\"#005f99\"},\"line_alpha\":{\"value\":0.2},\"line_color\":{\"value\":\"#005f99\"},\"top\":{\"field\":\"No\"},\"width\":{\"value\":0.3},\"x\":{\"field\":\"depression\",\"transform\":{\"id\":\"20440\"}}},\"id\":\"20444\",\"type\":\"VBar\"},{\"attributes\":{\"coordinates\":null,\"group\":null,\"text\":\"Gender Vs Panic Attack\",\"text_color\":\"black\",\"text_font\":\"Ariel\",\"text_font_size\":\"20px\"},\"id\":\"20191\",\"type\":\"Title\"},{\"attributes\":{},\"id\":\"20305\",\"type\":\"BasicTickFormatter\"},{\"attributes\":{},\"id\":\"20353\",\"type\":\"WheelZoomTool\"},{\"attributes\":{},\"id\":\"20185\",\"type\":\"UnionRenderers\"},{\"attributes\":{\"label\":{\"field\":\"treatment\"},\"renderers\":[{\"id\":\"20578\"}]},\"id\":\"20590\",\"type\":\"LegendItem\"},{\"attributes\":{},\"id\":\"20341\",\"type\":\"CategoricalScale\"},{\"attributes\":{},\"id\":\"20522\",\"type\":\"AllLabels\"},{\"attributes\":{\"axis\":{\"id\":\"20345\"},\"coordinates\":null,\"grid_line_color\":null,\"group\":null,\"ticker\":null},\"id\":\"20347\",\"type\":\"Grid\"},{\"attributes\":{\"fill_alpha\":{\"value\":0.1},\"fill_color\":{\"value\":\"#cf0000\"},\"hatch_alpha\":{\"value\":0.1},\"hatch_color\":{\"value\":\"#cf0000\"},\"line_alpha\":{\"value\":0.1},\"line_color\":{\"value\":\"#cf0000\"},\"top\":{\"field\":\"Yes\"},\"width\":{\"value\":0.3},\"x\":{\"field\":\"cgpa\",\"transform\":{\"id\":\"20387\"}}},\"id\":\"20390\",\"type\":\"VBar\"},{\"attributes\":{},\"id\":\"20524\",\"type\":\"CategoricalTickFormatter\"},{\"attributes\":{},\"id\":\"20186\",\"type\":\"Selection\"},{\"attributes\":{\"range\":{\"id\":\"20337\"},\"value\":0.17},\"id\":\"20387\",\"type\":\"Dodge\"},{\"attributes\":{\"axis\":{\"id\":\"20348\"},\"coordinates\":null,\"dimension\":1,\"group\":null,\"ticker\":null},\"id\":\"20351\",\"type\":\"Grid\"},{\"attributes\":{\"axis\":{\"id\":\"20273\"},\"coordinates\":null,\"grid_line_color\":null,\"group\":null,\"ticker\":null},\"id\":\"20275\",\"type\":\"Grid\"},{\"attributes\":{\"fill_color\":{\"value\":\"#cf0000\"},\"hatch_color\":{\"value\":\"#cf0000\"},\"line_color\":{\"value\":\"#cf0000\"},\"top\":{\"field\":\"Yes\"},\"width\":{\"value\":0.3},\"x\":{\"field\":\"cgpa\",\"transform\":{\"id\":\"20387\"}}},\"id\":\"20389\",\"type\":\"VBar\"},{\"attributes\":{\"overlay\":{\"id\":\"20502\"}},\"id\":\"20498\",\"type\":\"BoxZoomTool\"},{\"attributes\":{\"coordinates\":null,\"group\":null,\"text\":\"Marital Status Vs Panic Attack\",\"text_color\":\"black\",\"text_font\":\"Ariel\",\"text_font_size\":\"20px\"},\"id\":\"20263\",\"type\":\"Title\"},{\"attributes\":{\"coordinates\":null,\"group\":null,\"items\":[{\"id\":\"20590\"}]},\"id\":\"20589\",\"type\":\"Legend\"},{\"attributes\":{},\"id\":\"20355\",\"type\":\"SaveTool\"},{\"attributes\":{\"field\":\"angle\"},\"id\":\"20572\",\"type\":\"CumSum\"},{\"attributes\":{\"axis_label\":\"No. of students\",\"coordinates\":null,\"formatter\":{\"id\":\"20377\"},\"group\":null,\"major_label_policy\":{\"id\":\"20378\"},\"ticker\":{\"id\":\"20349\"}},\"id\":\"20348\",\"type\":\"LinearAxis\"},{\"attributes\":{},\"id\":\"20582\",\"type\":\"BasicTickFormatter\"},{\"attributes\":{\"tools\":[{\"id\":\"20496\"},{\"id\":\"20497\"},{\"id\":\"20498\"},{\"id\":\"20499\"},{\"id\":\"20500\"},{\"id\":\"20501\"},{\"id\":\"20503\"}]},\"id\":\"20504\",\"type\":\"Toolbar\"},{\"attributes\":{\"below\":[{\"id\":\"20345\"}],\"center\":[{\"id\":\"20347\"},{\"id\":\"20351\"},{\"id\":\"20385\"}],\"height\":450,\"left\":[{\"id\":\"20348\"}],\"renderers\":[{\"id\":\"20373\"},{\"id\":\"20392\"}],\"title\":{\"id\":\"20335\"},\"toolbar\":{\"id\":\"20360\"},\"x_range\":{\"id\":\"20337\"},\"x_scale\":{\"id\":\"20341\"},\"y_range\":{\"id\":\"20339\"},\"y_scale\":{\"id\":\"20343\"}},\"id\":\"20334\",\"subtype\":\"Figure\",\"type\":\"Plot\"},{\"attributes\":{\"coordinates\":null,\"group\":null,\"items\":[{\"id\":\"20242\"},{\"id\":\"20260\"}]},\"id\":\"20241\",\"type\":\"Legend\"},{\"attributes\":{\"below\":[{\"id\":\"20417\"}],\"center\":[{\"id\":\"20419\"},{\"id\":\"20423\"},{\"id\":\"20457\"}],\"height\":450,\"left\":[{\"id\":\"20420\"}],\"renderers\":[{\"id\":\"20445\"},{\"id\":\"20464\"}],\"title\":{\"id\":\"20407\"},\"toolbar\":{\"id\":\"20432\"},\"x_range\":{\"id\":\"20409\"},\"x_scale\":{\"id\":\"20413\"},\"y_range\":{\"id\":\"20411\"},\"y_scale\":{\"id\":\"20415\"}},\"id\":\"20406\",\"subtype\":\"Figure\",\"type\":\"Plot\"},{\"attributes\":{\"fill_alpha\":{\"value\":0.2},\"fill_color\":{\"value\":\"#cf0000\"},\"hatch_alpha\":{\"value\":0.2},\"hatch_color\":{\"value\":\"#cf0000\"},\"line_alpha\":{\"value\":0.2},\"line_color\":{\"value\":\"#cf0000\"},\"top\":{\"field\":\"Yes\"},\"width\":{\"value\":0.3},\"x\":{\"field\":\"cgpa\",\"transform\":{\"id\":\"20387\"}}},\"id\":\"20391\",\"type\":\"VBar\"},{\"attributes\":{},\"id\":\"20284\",\"type\":\"ResetTool\"},{\"attributes\":{},\"id\":\"20356\",\"type\":\"ResetTool\"},{\"attributes\":{\"data\":{\"No\":[3,1,1,34,29,0],\"Yes\":[1,1,3,9,18,1],\"cgpa\":[\"0 - 1.99\",\"2.00 - 2.49\",\"2.50 - 2.99\",\"3.00 - 3.49\",\"3.50 - 4.00\",\"3.50 - 4.00 \"],\"index\":[0,1,2,3,4,5]},\"selected\":{\"id\":\"20383\"},\"selection_policy\":{\"id\":\"20382\"}},\"id\":\"20333\",\"type\":\"ColumnDataSource\"},{\"attributes\":{},\"id\":\"20521\",\"type\":\"BasicTickFormatter\"},{\"attributes\":{},\"id\":\"20583\",\"type\":\"AllLabels\"},{\"attributes\":{},\"id\":\"20306\",\"type\":\"AllLabels\"},{\"attributes\":{\"label\":{\"value\":\"No panic attack\"},\"renderers\":[{\"id\":\"20373\"}]},\"id\":\"20386\",\"type\":\"LegendItem\"},{\"attributes\":{},\"id\":\"20311\",\"type\":\"Selection\"},{\"attributes\":{},\"id\":\"20527\",\"type\":\"Selection\"},{\"attributes\":{},\"id\":\"20585\",\"type\":\"BasicTickFormatter\"},{\"attributes\":{\"coordinates\":null,\"data_source\":{\"id\":\"20189\"},\"glyph\":{\"id\":\"20245\"},\"group\":null,\"hover_glyph\":null,\"muted_glyph\":{\"id\":\"20247\"},\"nonselection_glyph\":{\"id\":\"20246\"},\"view\":{\"id\":\"20249\"}},\"id\":\"20248\",\"type\":\"GlyphRenderer\"},{\"attributes\":{\"overlay\":{\"id\":\"20286\"}},\"id\":\"20282\",\"type\":\"BoxZoomTool\"},{\"attributes\":{\"fill_alpha\":{\"value\":0.2},\"fill_color\":{\"value\":\"#005f99\"},\"hatch_alpha\":{\"value\":0.2},\"hatch_color\":{\"value\":\"#005f99\"},\"line_alpha\":{\"value\":0.2},\"line_color\":{\"value\":\"#005f99\"},\"top\":{\"field\":\"No\"},\"width\":{\"value\":0.3},\"x\":{\"field\":\"cgpa\",\"transform\":{\"id\":\"20368\"}}},\"id\":\"20372\",\"type\":\"VBar\"},{\"attributes\":{},\"id\":\"20269\",\"type\":\"CategoricalScale\"},{\"attributes\":{},\"id\":\"20586\",\"type\":\"AllLabels\"},{\"attributes\":{},\"id\":\"20352\",\"type\":\"PanTool\"},{\"attributes\":{},\"id\":\"20238\",\"type\":\"UnionRenderers\"},{\"attributes\":{},\"id\":\"20526\",\"type\":\"UnionRenderers\"},{\"attributes\":{\"coordinates\":null,\"data_source\":{\"id\":\"20189\"},\"glyph\":{\"id\":\"20226\"},\"group\":null,\"hover_glyph\":null,\"muted_glyph\":{\"id\":\"20228\"},\"nonselection_glyph\":{\"id\":\"20227\"},\"view\":{\"id\":\"20230\"}},\"id\":\"20229\",\"type\":\"GlyphRenderer\"},{\"attributes\":{\"source\":{\"id\":\"20333\"}},\"id\":\"20374\",\"type\":\"CDSView\"},{\"attributes\":{\"end\":52},\"id\":\"20411\",\"type\":\"Range1d\"},{\"attributes\":{\"factors\":[\"No\",\"Yes\"],\"range_padding\":0.1},\"id\":\"20409\",\"type\":\"FactorRange\"},{\"attributes\":{\"end\":65},\"id\":\"20267\",\"type\":\"Range1d\"},{\"attributes\":{\"field\":\"angle\",\"include_zero\":true},\"id\":\"20571\",\"type\":\"CumSum\"},{\"attributes\":{\"coordinates\":null,\"group\":null,\"items\":[{\"id\":\"20386\"},{\"id\":\"20404\"}],\"location\":\"top_left\"},\"id\":\"20385\",\"type\":\"Legend\"},{\"attributes\":{\"axis_label\":\"No. of students\",\"coordinates\":null,\"formatter\":{\"id\":\"20521\"},\"group\":null,\"major_label_policy\":{\"id\":\"20522\"},\"ticker\":{\"id\":\"20493\"}},\"id\":\"20492\",\"type\":\"LinearAxis\"},{\"attributes\":{\"tools\":[{\"id\":\"20280\"},{\"id\":\"20281\"},{\"id\":\"20282\"},{\"id\":\"20283\"},{\"id\":\"20284\"},{\"id\":\"20285\"},{\"id\":\"20287\"}]},\"id\":\"20288\",\"type\":\"Toolbar\"},{\"attributes\":{\"fill_color\":{\"value\":\"#cf0000\"},\"hatch_color\":{\"value\":\"#cf0000\"},\"line_color\":{\"value\":\"#cf0000\"},\"top\":{\"field\":\"Yes\"},\"width\":{\"value\":0.3},\"x\":{\"field\":\"gender\",\"transform\":{\"id\":\"20243\"}}},\"id\":\"20245\",\"type\":\"VBar\"},{\"attributes\":{\"end_angle\":{\"expr\":{\"id\":\"20572\"}},\"fill_alpha\":{\"value\":0.2},\"fill_color\":{\"field\":\"color\"},\"hatch_alpha\":{\"value\":0.2},\"line_alpha\":{\"value\":0.2},\"line_color\":{\"value\":\"white\"},\"radius\":{\"value\":0.4},\"start_angle\":{\"expr\":{\"id\":\"20571\"}},\"x\":{\"value\":0},\"y\":{\"value\":1}},\"id\":\"20577\",\"type\":\"Wedge\"},{\"attributes\":{\"axis_label\":\"No. of students\",\"coordinates\":null,\"formatter\":{\"id\":\"20449\"},\"group\":null,\"major_label_policy\":{\"id\":\"20450\"},\"ticker\":{\"id\":\"20421\"}},\"id\":\"20420\",\"type\":\"LinearAxis\"},{\"attributes\":{},\"id\":\"20310\",\"type\":\"UnionRenderers\"},{\"attributes\":{},\"id\":\"20588\",\"type\":\"Selection\"},{\"attributes\":{\"fill_alpha\":{\"value\":0.1},\"fill_color\":{\"value\":\"#005f99\"},\"hatch_alpha\":{\"value\":0.1},\"hatch_color\":{\"value\":\"#005f99\"},\"line_alpha\":{\"value\":0.1},\"line_color\":{\"value\":\"#005f99\"},\"top\":{\"field\":\"No\"},\"width\":{\"value\":0.3},\"x\":{\"field\":\"marital_status\",\"transform\":{\"id\":\"20296\"}}},\"id\":\"20299\",\"type\":\"VBar\"},{\"attributes\":{},\"id\":\"20183\",\"type\":\"BasicTickFormatter\"},{\"attributes\":{\"label\":{\"value\":\"Panic attack\"},\"renderers\":[{\"id\":\"20248\"}]},\"id\":\"20260\",\"type\":\"LegendItem\"},{\"attributes\":{\"axis_label\":\"No. of students\",\"coordinates\":null,\"formatter\":{\"id\":\"20233\"},\"group\":null,\"major_label_policy\":{\"id\":\"20234\"},\"ticker\":{\"id\":\"20205\"}},\"id\":\"20204\",\"type\":\"LinearAxis\"},{\"attributes\":{\"end\":36},\"id\":\"20339\",\"type\":\"Range1d\"},{\"attributes\":{},\"id\":\"20208\",\"type\":\"PanTool\"},{\"attributes\":{\"axis\":{\"id\":\"20420\"},\"coordinates\":null,\"dimension\":1,\"group\":null,\"ticker\":null},\"id\":\"20423\",\"type\":\"Grid\"},{\"attributes\":{\"fill_color\":{\"value\":\"#005f99\"},\"hatch_color\":{\"value\":\"#005f99\"},\"line_color\":{\"value\":\"#005f99\"},\"top\":{\"field\":\"No\"},\"width\":{\"value\":0.3},\"x\":{\"field\":\"cgpa\",\"transform\":{\"id\":\"20368\"}}},\"id\":\"20370\",\"type\":\"VBar\"},{\"attributes\":{\"fill_alpha\":{\"value\":0.1},\"fill_color\":{\"value\":\"#cf0000\"},\"hatch_alpha\":{\"value\":0.1},\"hatch_color\":{\"value\":\"#cf0000\"},\"line_alpha\":{\"value\":0.1},\"line_color\":{\"value\":\"#cf0000\"},\"top\":{\"field\":\"Yes\"},\"width\":{\"value\":0.3},\"x\":{\"field\":\"depression\",\"transform\":{\"id\":\"20459\"}}},\"id\":\"20462\",\"type\":\"VBar\"},{\"attributes\":{},\"id\":\"20413\",\"type\":\"CategoricalScale\"},{\"attributes\":{\"label\":{\"value\":\"No panic attack\"},\"renderers\":[{\"id\":\"20445\"}]},\"id\":\"20458\",\"type\":\"LegendItem\"},{\"attributes\":{\"fill_color\":{\"value\":\"#005f99\"},\"hatch_color\":{\"value\":\"#005f99\"},\"line_color\":{\"value\":\"#005f99\"},\"top\":{\"field\":\"No\"},\"width\":{\"value\":0.3},\"x\":{\"field\":\"anxiety\",\"transform\":{\"id\":\"20512\"}}},\"id\":\"20514\",\"type\":\"VBar\"},{\"attributes\":{\"coordinates\":null,\"data_source\":{\"id\":\"20477\"},\"glyph\":{\"id\":\"20514\"},\"group\":null,\"hover_glyph\":null,\"muted_glyph\":{\"id\":\"20516\"},\"nonselection_glyph\":{\"id\":\"20515\"},\"view\":{\"id\":\"20518\"}},\"id\":\"20517\",\"type\":\"GlyphRenderer\"},{\"attributes\":{\"fill_alpha\":{\"value\":0.2},\"fill_color\":{\"value\":\"#cf0000\"},\"hatch_alpha\":{\"value\":0.2},\"hatch_color\":{\"value\":\"#cf0000\"},\"line_alpha\":{\"value\":0.2},\"line_color\":{\"value\":\"#cf0000\"},\"top\":{\"field\":\"Yes\"},\"width\":{\"value\":0.3},\"x\":{\"field\":\"gender\",\"transform\":{\"id\":\"20243\"}}},\"id\":\"20247\",\"type\":\"VBar\"},{\"attributes\":{\"bottom_units\":\"screen\",\"coordinates\":null,\"fill_alpha\":0.5,\"fill_color\":\"lightgrey\",\"group\":null,\"left_units\":\"screen\",\"level\":\"overlay\",\"line_alpha\":1.0,\"line_color\":\"black\",\"line_dash\":[4,4],\"line_width\":2,\"right_units\":\"screen\",\"syncable\":false,\"top_units\":\"screen\"},\"id\":\"20358\",\"type\":\"BoxAnnotation\"},{\"attributes\":{},\"id\":\"20455\",\"type\":\"Selection\"},{\"attributes\":{\"range\":{\"id\":\"20409\"},\"value\":0.17},\"id\":\"20459\",\"type\":\"Dodge\"},{\"attributes\":{},\"id\":\"20587\",\"type\":\"UnionRenderers\"},{\"attributes\":{},\"id\":\"20213\",\"type\":\"HelpTool\"},{\"attributes\":{},\"id\":\"20234\",\"type\":\"AllLabels\"},{\"attributes\":{\"callback\":null,\"tooltips\":[[\"Depression\",\"@depression\"],[\"No panic attack\",\"@No\"],[\"Panic attack\",\"@Yes\"]]},\"id\":\"20431\",\"type\":\"HoverTool\"},{\"attributes\":{},\"id\":\"20421\",\"type\":\"BasicTicker\"},{\"attributes\":{\"label\":{\"field\":\"panic_attack\"},\"renderers\":[{\"id\":\"20176\"}]},\"id\":\"20188\",\"type\":\"LegendItem\"},{\"attributes\":{\"data\":{\"No\":[62,6],\"Yes\":[23,10],\"index\":[0,1],\"marital_status\":[\"No\",\"Yes\"]},\"selected\":{\"id\":\"20311\"},\"selection_policy\":{\"id\":\"20310\"}},\"id\":\"20261\",\"type\":\"ColumnDataSource\"},{\"attributes\":{\"fill_color\":{\"value\":\"#cf0000\"},\"hatch_color\":{\"value\":\"#cf0000\"},\"line_color\":{\"value\":\"#cf0000\"},\"top\":{\"field\":\"Yes\"},\"width\":{\"value\":0.3},\"x\":{\"field\":\"depression\",\"transform\":{\"id\":\"20459\"}}},\"id\":\"20461\",\"type\":\"VBar\"},{\"attributes\":{\"coordinates\":null,\"group\":null,\"text\":\"Grade Vs Panic Attack\",\"text_color\":\"black\",\"text_font\":\"Ariel\",\"text_font_size\":\"20px\"},\"id\":\"20335\",\"type\":\"Title\"},{\"attributes\":{},\"id\":\"20425\",\"type\":\"WheelZoomTool\"},{\"attributes\":{},\"id\":\"20424\",\"type\":\"PanTool\"},{\"attributes\":{\"coordinates\":null,\"data_source\":{\"id\":\"20333\"},\"glyph\":{\"id\":\"20389\"},\"group\":null,\"hover_glyph\":null,\"muted_glyph\":{\"id\":\"20391\"},\"nonselection_glyph\":{\"id\":\"20390\"},\"view\":{\"id\":\"20393\"}},\"id\":\"20392\",\"type\":\"GlyphRenderer\"},{\"attributes\":{\"coordinates\":null,\"data_source\":{\"id\":\"20405\"},\"glyph\":{\"id\":\"20461\"},\"group\":null,\"hover_glyph\":null,\"muted_glyph\":{\"id\":\"20463\"},\"nonselection_glyph\":{\"id\":\"20462\"},\"view\":{\"id\":\"20465\"}},\"id\":\"20464\",\"type\":\"GlyphRenderer\"},{\"attributes\":{\"fill_alpha\":{\"value\":0.2},\"fill_color\":{\"value\":\"#005f99\"},\"hatch_alpha\":{\"value\":0.2},\"hatch_color\":{\"value\":\"#005f99\"},\"line_alpha\":{\"value\":0.2},\"line_color\":{\"value\":\"#005f99\"},\"top\":{\"field\":\"No\"},\"width\":{\"value\":0.3},\"x\":{\"field\":\"anxiety\",\"transform\":{\"id\":\"20512\"}}},\"id\":\"20516\",\"type\":\"VBar\"},{\"attributes\":{\"coordinates\":null,\"data_source\":{\"id\":\"20333\"},\"glyph\":{\"id\":\"20370\"},\"group\":null,\"hover_glyph\":null,\"muted_glyph\":{\"id\":\"20372\"},\"nonselection_glyph\":{\"id\":\"20371\"},\"view\":{\"id\":\"20374\"}},\"id\":\"20373\",\"type\":\"GlyphRenderer\"},{\"attributes\":{\"bottom_units\":\"screen\",\"coordinates\":null,\"fill_alpha\":0.5,\"fill_color\":\"lightgrey\",\"group\":null,\"left_units\":\"screen\",\"level\":\"overlay\",\"line_alpha\":1.0,\"line_color\":\"black\",\"line_dash\":[4,4],\"line_width\":2,\"right_units\":\"screen\",\"syncable\":false,\"top_units\":\"screen\"},\"id\":\"20214\",\"type\":\"BoxAnnotation\"},{\"attributes\":{},\"id\":\"20209\",\"type\":\"WheelZoomTool\"},{\"attributes\":{\"fill_alpha\":{\"value\":0.2},\"fill_color\":{\"value\":\"#005f99\"},\"hatch_alpha\":{\"value\":0.2},\"hatch_color\":{\"value\":\"#005f99\"},\"line_alpha\":{\"value\":0.2},\"line_color\":{\"value\":\"#005f99\"},\"top\":{\"field\":\"No\"},\"width\":{\"value\":0.3},\"x\":{\"field\":\"gender\",\"transform\":{\"id\":\"20224\"}}},\"id\":\"20228\",\"type\":\"VBar\"},{\"attributes\":{\"label\":{\"value\":\"Panic attack\"},\"renderers\":[{\"id\":\"20464\"}]},\"id\":\"20476\",\"type\":\"LegendItem\"},{\"attributes\":{\"range\":{\"id\":\"20337\"},\"value\":-0.17},\"id\":\"20368\",\"type\":\"Dodge\"},{\"attributes\":{\"axis_label\":\"Grade in CGPA\",\"coordinates\":null,\"formatter\":{\"id\":\"20380\"},\"group\":null,\"major_label_policy\":{\"id\":\"20381\"},\"ticker\":{\"id\":\"20346\"}},\"id\":\"20345\",\"type\":\"CategoricalAxis\"},{\"attributes\":{\"fill_alpha\":{\"value\":0.2},\"fill_color\":{\"value\":\"#cf0000\"},\"hatch_alpha\":{\"value\":0.2},\"hatch_color\":{\"value\":\"#cf0000\"},\"line_alpha\":{\"value\":0.2},\"line_color\":{\"value\":\"#cf0000\"},\"top\":{\"field\":\"Yes\"},\"width\":{\"value\":0.3},\"x\":{\"field\":\"depression\",\"transform\":{\"id\":\"20459\"}}},\"id\":\"20463\",\"type\":\"VBar\"},{\"attributes\":{\"child\":{\"id\":\"20147\"},\"title\":\"Panic Attack\"},\"id\":\"21471\",\"type\":\"Panel\"},{\"attributes\":{\"fill_alpha\":{\"value\":0.1},\"fill_color\":{\"value\":\"#005f99\"},\"hatch_alpha\":{\"value\":0.1},\"hatch_color\":{\"value\":\"#005f99\"},\"line_alpha\":{\"value\":0.1},\"line_color\":{\"value\":\"#005f99\"},\"top\":{\"field\":\"No\"},\"width\":{\"value\":0.3},\"x\":{\"field\":\"cgpa\",\"transform\":{\"id\":\"20368\"}}},\"id\":\"20371\",\"type\":\"VBar\"},{\"attributes\":{\"source\":{\"id\":\"20405\"}},\"id\":\"20465\",\"type\":\"CDSView\"},{\"attributes\":{},\"id\":\"20308\",\"type\":\"CategoricalTickFormatter\"},{\"attributes\":{},\"id\":\"20159\",\"type\":\"BasicTicker\"},{\"attributes\":{},\"id\":\"20236\",\"type\":\"CategoricalTickFormatter\"},{\"attributes\":{},\"id\":\"20429\",\"type\":\"HelpTool\"},{\"attributes\":{\"bottom_units\":\"screen\",\"coordinates\":null,\"fill_alpha\":0.5,\"fill_color\":\"lightgrey\",\"group\":null,\"left_units\":\"screen\",\"level\":\"overlay\",\"line_alpha\":1.0,\"line_color\":\"black\",\"line_dash\":[4,4],\"line_width\":2,\"right_units\":\"screen\",\"syncable\":false,\"top_units\":\"screen\"},\"id\":\"20430\",\"type\":\"BoxAnnotation\"},{\"attributes\":{\"callback\":null,\"tooltips\":[[\"Grade\",\"@cgpa\"],[\"No panic attack\",\"@No\"],[\"Panic attack\",\"@Yes\"]]},\"id\":\"20359\",\"type\":\"HoverTool\"},{\"attributes\":{},\"id\":\"20309\",\"type\":\"AllLabels\"},{\"attributes\":{},\"id\":\"20343\",\"type\":\"LinearScale\"},{\"attributes\":{},\"id\":\"20184\",\"type\":\"AllLabels\"},{\"attributes\":{\"data\":{\"No\":[50,18],\"Yes\":[25,8],\"gender\":[\"Female\",\"Male\"],\"index\":[0,1]},\"selected\":{\"id\":\"20239\"},\"selection_policy\":{\"id\":\"20238\"}},\"id\":\"20189\",\"type\":\"ColumnDataSource\"},{\"attributes\":{},\"id\":\"20202\",\"type\":\"CategoricalTicker\"},{\"attributes\":{\"overlay\":{\"id\":\"20358\"}},\"id\":\"20354\",\"type\":\"BoxZoomTool\"},{\"attributes\":{\"end\":52},\"id\":\"20195\",\"type\":\"Range1d\"},{\"attributes\":{\"end\":0.9,\"start\":-0.5},\"id\":\"20150\",\"type\":\"Range1d\"},{\"attributes\":{},\"id\":\"20156\",\"type\":\"LinearScale\"},{\"attributes\":{\"coordinates\":null,\"data_source\":{\"id\":\"20261\"},\"glyph\":{\"id\":\"20298\"},\"group\":null,\"hover_glyph\":null,\"muted_glyph\":{\"id\":\"20300\"},\"nonselection_glyph\":{\"id\":\"20299\"},\"view\":{\"id\":\"20302\"}},\"id\":\"20301\",\"type\":\"GlyphRenderer\"},{\"attributes\":{},\"id\":\"20180\",\"type\":\"BasicTickFormatter\"},{\"attributes\":{\"coordinates\":null,\"formatter\":{\"id\":\"20183\"},\"group\":null,\"major_label_policy\":{\"id\":\"20184\"},\"ticker\":{\"id\":\"20159\"},\"visible\":false},\"id\":\"20158\",\"type\":\"LinearAxis\"},{\"attributes\":{\"coordinates\":null,\"formatter\":{\"id\":\"20180\"},\"group\":null,\"major_label_policy\":{\"id\":\"20181\"},\"ticker\":{\"id\":\"20163\"},\"visible\":false},\"id\":\"20162\",\"type\":\"LinearAxis\"},{\"attributes\":{\"fill_alpha\":{\"value\":0.2},\"fill_color\":{\"value\":\"#005f99\"},\"hatch_alpha\":{\"value\":0.2},\"hatch_color\":{\"value\":\"#005f99\"},\"line_alpha\":{\"value\":0.2},\"line_color\":{\"value\":\"#005f99\"},\"top\":{\"field\":\"No\"},\"width\":{\"value\":0.3},\"x\":{\"field\":\"marital_status\",\"transform\":{\"id\":\"20296\"}}},\"id\":\"20300\",\"type\":\"VBar\"},{\"attributes\":{},\"id\":\"20357\",\"type\":\"HelpTool\"},{\"attributes\":{},\"id\":\"20154\",\"type\":\"LinearScale\"},{\"attributes\":{},\"id\":\"20427\",\"type\":\"SaveTool\"},{\"attributes\":{},\"id\":\"20152\",\"type\":\"DataRange1d\"},{\"attributes\":{\"child\":{\"id\":\"20406\"},\"title\":\"Depression\"},\"id\":\"21475\",\"type\":\"Panel\"},{\"attributes\":{\"source\":{\"id\":\"20261\"}},\"id\":\"20302\",\"type\":\"CDSView\"},{\"attributes\":{\"below\":[{\"id\":\"20201\"}],\"center\":[{\"id\":\"20203\"},{\"id\":\"20207\"},{\"id\":\"20241\"}],\"height\":450,\"left\":[{\"id\":\"20204\"}],\"renderers\":[{\"id\":\"20229\"},{\"id\":\"20248\"}],\"title\":{\"id\":\"20191\"},\"toolbar\":{\"id\":\"20216\"},\"x_range\":{\"id\":\"20193\"},\"x_scale\":{\"id\":\"20197\"},\"y_range\":{\"id\":\"20195\"},\"y_scale\":{\"id\":\"20199\"}},\"id\":\"20190\",\"subtype\":\"Figure\",\"type\":\"Plot\"},{\"attributes\":{\"coordinates\":null,\"group\":null,\"text\":\"No. of students suffering panic attack\",\"text_color\":\"black\",\"text_font\":\"Ariel\",\"text_font_size\":\"20px\"},\"id\":\"20148\",\"type\":\"Title\"},{\"attributes\":{\"coordinates\":null,\"group\":null,\"items\":[{\"id\":\"20314\"},{\"id\":\"20332\"}]},\"id\":\"20313\",\"type\":\"Legend\"},{\"attributes\":{\"tools\":[{\"id\":\"20352\"},{\"id\":\"20353\"},{\"id\":\"20354\"},{\"id\":\"20355\"},{\"id\":\"20356\"},{\"id\":\"20357\"},{\"id\":\"20359\"}]},\"id\":\"20360\",\"type\":\"Toolbar\"},{\"attributes\":{\"data\":{\"angle\":{\"__ndarray__\":\"GJ2GKcrrEEABIHtVYmwAQA==\",\"dtype\":\"float64\",\"order\":\"little\",\"shape\":[2]},\"color\":[\"#ac0d0d\",\"#146356\"],\"count\":[29,4],\"index\":[0,1],\"treatment\":[\"No\",\"Yes\"]},\"selected\":{\"id\":\"20588\"},\"selection_policy\":{\"id\":\"20587\"}},\"id\":\"20573\",\"type\":\"ColumnDataSource\"},{\"attributes\":{\"axis\":{\"id\":\"20162\"},\"coordinates\":null,\"dimension\":1,\"grid_line_color\":null,\"group\":null,\"ticker\":null},\"id\":\"20165\",\"type\":\"Grid\"},{\"attributes\":{\"end\":0.9,\"start\":-0.5},\"id\":\"20552\",\"type\":\"Range1d\"},{\"attributes\":{\"axis\":{\"id\":\"20158\"},\"coordinates\":null,\"grid_line_color\":null,\"group\":null,\"ticker\":null},\"id\":\"20161\",\"type\":\"Grid\"},{\"attributes\":{},\"id\":\"20554\",\"type\":\"DataRange1d\"},{\"attributes\":{},\"id\":\"20490\",\"type\":\"CategoricalTicker\"},{\"attributes\":{\"coordinates\":null,\"group\":null,\"items\":[{\"id\":\"20188\"}]},\"id\":\"20187\",\"type\":\"Legend\"},{\"attributes\":{\"coordinates\":null,\"group\":null,\"items\":[{\"id\":\"20458\"},{\"id\":\"20476\"}]},\"id\":\"20457\",\"type\":\"Legend\"},{\"attributes\":{\"source\":{\"id\":\"20333\"}},\"id\":\"20393\",\"type\":\"CDSView\"},{\"attributes\":{\"end_angle\":{\"expr\":{\"id\":\"20572\"}},\"fill_color\":{\"field\":\"color\"},\"line_color\":{\"value\":\"white\"},\"radius\":{\"value\":0.4},\"start_angle\":{\"expr\":{\"id\":\"20571\"}},\"x\":{\"value\":0},\"y\":{\"value\":1}},\"id\":\"20575\",\"type\":\"Wedge\"},{\"attributes\":{},\"id\":\"20163\",\"type\":\"BasicTicker\"},{\"attributes\":{\"below\":[{\"id\":\"20560\"}],\"center\":[{\"id\":\"20563\"},{\"id\":\"20567\"},{\"id\":\"20589\"}],\"height\":450,\"left\":[{\"id\":\"20564\"}],\"renderers\":[{\"id\":\"20578\"}],\"title\":{\"id\":\"20550\"},\"toolbar\":{\"id\":\"20569\"},\"x_range\":{\"id\":\"20552\"},\"x_scale\":{\"id\":\"20556\"},\"y_range\":{\"id\":\"20554\"},\"y_scale\":{\"id\":\"20558\"}},\"id\":\"20549\",\"subtype\":\"Figure\",\"type\":\"Plot\"},{\"attributes\":{},\"id\":\"20377\",\"type\":\"BasicTickFormatter\"},{\"attributes\":{\"tools\":[{\"id\":\"20166\"}]},\"id\":\"20167\",\"type\":\"Toolbar\"},{\"attributes\":{\"source\":{\"id\":\"20171\"}},\"id\":\"20177\",\"type\":\"CDSView\"},{\"attributes\":{\"source\":{\"id\":\"20189\"}},\"id\":\"20249\",\"type\":\"CDSView\"},{\"attributes\":{\"below\":[{\"id\":\"20273\"}],\"center\":[{\"id\":\"20275\"},{\"id\":\"20279\"},{\"id\":\"20313\"}],\"height\":450,\"left\":[{\"id\":\"20276\"}],\"renderers\":[{\"id\":\"20301\"},{\"id\":\"20320\"}],\"title\":{\"id\":\"20263\"},\"toolbar\":{\"id\":\"20288\"},\"x_range\":{\"id\":\"20265\"},\"x_scale\":{\"id\":\"20269\"},\"y_range\":{\"id\":\"20267\"},\"y_scale\":{\"id\":\"20271\"}},\"id\":\"20262\",\"subtype\":\"Figure\",\"type\":\"Plot\"},{\"attributes\":{\"end_angle\":{\"expr\":{\"id\":\"20170\"}},\"fill_alpha\":{\"value\":0.2},\"fill_color\":{\"field\":\"color\"},\"hatch_alpha\":{\"value\":0.2},\"line_alpha\":{\"value\":0.2},\"line_color\":{\"value\":\"white\"},\"radius\":{\"value\":0.4},\"start_angle\":{\"expr\":{\"id\":\"20169\"}},\"x\":{\"value\":0},\"y\":{\"value\":1}},\"id\":\"20175\",\"type\":\"Wedge\"},{\"attributes\":{\"callback\":null,\"tooltips\":\"@panic_attack: @count\"},\"id\":\"20166\",\"type\":\"HoverTool\"},{\"attributes\":{\"child\":{\"id\":\"20549\"},\"title\":\"Treatment\"},\"id\":\"21477\",\"type\":\"Panel\"},{\"attributes\":{},\"id\":\"20205\",\"type\":\"BasicTicker\"},{\"attributes\":{\"factors\":[\"Female\",\"Male\"],\"range_padding\":0.1},\"id\":\"20193\",\"type\":\"FactorRange\"},{\"attributes\":{\"child\":{\"id\":\"20262\"},\"title\":\"Marital Status\"},\"id\":\"21473\",\"type\":\"Panel\"},{\"attributes\":{\"factors\":[\"No\",\"Yes\"],\"range_padding\":0.1},\"id\":\"20265\",\"type\":\"FactorRange\"},{\"attributes\":{},\"id\":\"20415\",\"type\":\"LinearScale\"},{\"attributes\":{\"end\":50},\"id\":\"20483\",\"type\":\"Range1d\"},{\"attributes\":{\"source\":{\"id\":\"20573\"}},\"id\":\"20579\",\"type\":\"CDSView\"},{\"attributes\":{\"axis_label\":\"Depression\",\"coordinates\":null,\"formatter\":{\"id\":\"20452\"},\"group\":null,\"major_label_policy\":{\"id\":\"20453\"},\"ticker\":{\"id\":\"20418\"}},\"id\":\"20417\",\"type\":\"CategoricalAxis\"},{\"attributes\":{},\"id\":\"20378\",\"type\":\"AllLabels\"},{\"attributes\":{\"source\":{\"id\":\"20405\"}},\"id\":\"20446\",\"type\":\"CDSView\"},{\"attributes\":{},\"id\":\"20485\",\"type\":\"CategoricalScale\"},{\"attributes\":{},\"id\":\"20239\",\"type\":\"Selection\"},{\"attributes\":{\"fill_alpha\":{\"value\":0.1},\"fill_color\":{\"value\":\"#cf0000\"},\"hatch_alpha\":{\"value\":0.1},\"hatch_color\":{\"value\":\"#cf0000\"},\"line_alpha\":{\"value\":0.1},\"line_color\":{\"value\":\"#cf0000\"},\"top\":{\"field\":\"Yes\"},\"width\":{\"value\":0.3},\"x\":{\"field\":\"anxiety\",\"transform\":{\"id\":\"20531\"}}},\"id\":\"20534\",\"type\":\"VBar\"},{\"attributes\":{\"coordinates\":null,\"data_source\":{\"id\":\"20573\"},\"glyph\":{\"id\":\"20575\"},\"group\":null,\"hover_glyph\":null,\"muted_glyph\":{\"id\":\"20577\"},\"nonselection_glyph\":{\"id\":\"20576\"},\"view\":{\"id\":\"20579\"}},\"id\":\"20578\",\"type\":\"GlyphRenderer\"},{\"attributes\":{\"range\":{\"id\":\"20193\"},\"value\":-0.17},\"id\":\"20224\",\"type\":\"Dodge\"},{\"attributes\":{\"fill_alpha\":{\"value\":0.1},\"fill_color\":{\"value\":\"#005f99\"},\"hatch_alpha\":{\"value\":0.1},\"hatch_color\":{\"value\":\"#005f99\"},\"line_alpha\":{\"value\":0.1},\"line_color\":{\"value\":\"#005f99\"},\"top\":{\"field\":\"No\"},\"width\":{\"value\":0.3},\"x\":{\"field\":\"depression\",\"transform\":{\"id\":\"20440\"}}},\"id\":\"20443\",\"type\":\"VBar\"},{\"attributes\":{\"child\":{\"id\":\"20190\"},\"title\":\"Gender wise\"},\"id\":\"21472\",\"type\":\"Panel\"},{\"attributes\":{},\"id\":\"20487\",\"type\":\"LinearScale\"},{\"attributes\":{\"axis\":{\"id\":\"20489\"},\"coordinates\":null,\"grid_line_color\":null,\"group\":null,\"ticker\":null},\"id\":\"20491\",\"type\":\"Grid\"},{\"attributes\":{},\"id\":\"20181\",\"type\":\"AllLabels\"},{\"attributes\":{\"label\":{\"value\":\"No panic attack\"},\"renderers\":[{\"id\":\"20517\"}]},\"id\":\"20530\",\"type\":\"LegendItem\"},{\"attributes\":{\"range\":{\"id\":\"20481\"},\"value\":0.17},\"id\":\"20531\",\"type\":\"Dodge\"},{\"attributes\":{\"factors\":[\"No\",\"Yes\"],\"range_padding\":0.1},\"id\":\"20481\",\"type\":\"FactorRange\"},{\"attributes\":{},\"id\":\"20418\",\"type\":\"CategoricalTicker\"},{\"attributes\":{\"fill_color\":{\"value\":\"#cf0000\"},\"hatch_color\":{\"value\":\"#cf0000\"},\"line_color\":{\"value\":\"#cf0000\"},\"top\":{\"field\":\"Yes\"},\"width\":{\"value\":0.3},\"x\":{\"field\":\"anxiety\",\"transform\":{\"id\":\"20531\"}}},\"id\":\"20533\",\"type\":\"VBar\"},{\"attributes\":{\"child\":{\"id\":\"20334\"},\"title\":\"Grade wise\"},\"id\":\"21474\",\"type\":\"Panel\"},{\"attributes\":{\"tools\":[{\"id\":\"20208\"},{\"id\":\"20209\"},{\"id\":\"20210\"},{\"id\":\"20211\"},{\"id\":\"20212\"},{\"id\":\"20213\"},{\"id\":\"20215\"}]},\"id\":\"20216\",\"type\":\"Toolbar\"},{\"attributes\":{\"coordinates\":null,\"group\":null,\"text\":\"Does anxiety causes panic attack?\",\"text_color\":\"black\",\"text_font\":\"Ariel\",\"text_font_size\":\"20px\"},\"id\":\"20479\",\"type\":\"Title\"},{\"attributes\":{\"coordinates\":null,\"data_source\":{\"id\":\"20477\"},\"glyph\":{\"id\":\"20533\"},\"group\":null,\"hover_glyph\":null,\"muted_glyph\":{\"id\":\"20535\"},\"nonselection_glyph\":{\"id\":\"20534\"},\"view\":{\"id\":\"20537\"}},\"id\":\"20536\",\"type\":\"GlyphRenderer\"},{\"attributes\":{\"coordinates\":null,\"data_source\":{\"id\":\"20171\"},\"glyph\":{\"id\":\"20173\"},\"group\":null,\"hover_glyph\":null,\"muted_glyph\":{\"id\":\"20175\"},\"nonselection_glyph\":{\"id\":\"20174\"},\"view\":{\"id\":\"20177\"}},\"id\":\"20176\",\"type\":\"GlyphRenderer\"},{\"attributes\":{\"callback\":null,\"tooltips\":[[\"Gender\",\"@gender\"],[\"No panic attack\",\"@No\"],[\"Panic attack\",\"@Yes\"]]},\"id\":\"20215\",\"type\":\"HoverTool\"},{\"attributes\":{},\"id\":\"20199\",\"type\":\"LinearScale\"},{\"attributes\":{\"label\":{\"value\":\"Panic attack\"},\"renderers\":[{\"id\":\"20536\"}]},\"id\":\"20548\",\"type\":\"LegendItem\"},{\"attributes\":{\"axis_label\":\"Anxiety\",\"coordinates\":null,\"formatter\":{\"id\":\"20524\"},\"group\":null,\"major_label_policy\":{\"id\":\"20525\"},\"ticker\":{\"id\":\"20490\"}},\"id\":\"20489\",\"type\":\"CategoricalAxis\"},{\"attributes\":{\"fill_alpha\":{\"value\":0.2},\"fill_color\":{\"value\":\"#cf0000\"},\"hatch_alpha\":{\"value\":0.2},\"hatch_color\":{\"value\":\"#cf0000\"},\"line_alpha\":{\"value\":0.2},\"line_color\":{\"value\":\"#cf0000\"},\"top\":{\"field\":\"Yes\"},\"width\":{\"value\":0.3},\"x\":{\"field\":\"anxiety\",\"transform\":{\"id\":\"20531\"}}},\"id\":\"20535\",\"type\":\"VBar\"},{\"attributes\":{\"below\":[{\"id\":\"20489\"}],\"center\":[{\"id\":\"20491\"},{\"id\":\"20495\"},{\"id\":\"20529\"}],\"height\":450,\"left\":[{\"id\":\"20492\"}],\"renderers\":[{\"id\":\"20517\"},{\"id\":\"20536\"}],\"title\":{\"id\":\"20479\"},\"toolbar\":{\"id\":\"20504\"},\"x_range\":{\"id\":\"20481\"},\"x_scale\":{\"id\":\"20485\"},\"y_range\":{\"id\":\"20483\"},\"y_scale\":{\"id\":\"20487\"}},\"id\":\"20478\",\"subtype\":\"Figure\",\"type\":\"Plot\"}],\"root_ids\":[\"21478\"]},\"title\":\"Bokeh Application\",\"version\":\"2.4.3\"}};\n  const render_items = [{\"docid\":\"16034546-b339-4aa7-86a8-cdf8547146c9\",\"root_ids\":[\"21478\"],\"roots\":{\"21478\":\"e9f87d01-333e-4819-85be-e03c25b34a0d\"}}];\n  root.Bokeh.embed.embed_items_notebook(docs_json, render_items);\n  }\n  if (root.Bokeh !== undefined) {\n    embed_document(root);\n  } else {\n    let attempts = 0;\n    const timer = setInterval(function(root) {\n      if (root.Bokeh !== undefined) {\n        clearInterval(timer);\n        embed_document(root);\n      } else {\n        attempts++;\n        if (attempts > 100) {\n          clearInterval(timer);\n          console.log(\"Bokeh: ERROR: Unable to run BokehJS code because BokehJS library is missing\");\n        }\n      }\n    }, 10, root)\n  }\n})(window);",
      "application/vnd.bokehjs_exec.v0+json": ""
     },
     "metadata": {
      "application/vnd.bokehjs_exec.v0+json": {
       "id": "21478"
      }
     },
     "output_type": "display_data"
    }
   ],
   "source": [
    "tab19 = Panel(child=p19, title='Panic Attack')\n",
    "tab20 = Panel(child=p20, title='Gender wise')\n",
    "tab21 = Panel(child=p21, title='Marital Status')\n",
    "tab22 = Panel(child=p22, title='Grade wise')\n",
    "tab23 = Panel(child=p23, title='Depression')\n",
    "tab24 = Panel(child=p24, title='Anxiety')\n",
    "tab25 = Panel(child=p25, title='Treatment')\n",
    "\n",
    "tab_obj3 = Tabs(tabs=[tab19, tab20, tab21, tab22, tab23, tab24, tab25])\n",
    "\n",
    "show(tab_obj3)"
   ]
  },
  {
   "cell_type": "code",
   "execution_count": 49,
   "metadata": {},
   "outputs": [
    {
     "data": {
      "text/plain": [
       "depression  anxiety  panic_attack\n",
       "No          No       No              37\n",
       "                     Yes             13\n",
       "            Yes      No              13\n",
       "                     Yes              3\n",
       "Yes         No       No              10\n",
       "                     Yes              7\n",
       "            Yes      No               8\n",
       "                     Yes             10\n",
       "Name: panic_attack, dtype: int64"
      ]
     },
     "execution_count": 49,
     "metadata": {},
     "output_type": "execute_result"
    }
   ],
   "source": [
    "df.groupby(['depression', 'anxiety', 'panic_attack']).panic_attack.count()"
   ]
  },
  {
   "cell_type": "code",
   "execution_count": null,
   "metadata": {},
   "outputs": [],
   "source": [
    "# How many students are getting treatment\n",
    "mixed = df.groupby(['marital_status', 'depression', 'anxiety']).panic_attack.count().reset_index()\n",
    "data = ColumnDataSource(data=mixed)\n",
    "\n",
    "def get_html_formatter(my_col):\n",
    "    template = \"\"\"\n",
    "        <div style=\"background:<%=\n",
    "            (function colorfromint(){\n",
    "                if(result_col =='Yes'){\n",
    "                    return('#ff1e00')\n",
    "                }\n",
    "                else if (result_col=='No'){\n",
    "                    return('#1363df')\n",
    "                }\n",
    "            }()) %>;\n",
    "            color: black\">\n",
    "        <%= value %>\n",
    "        </div>\n",
    "    \"\"\".replace('result_col', my_col)\n",
    "\n",
    "    return HTMLTemplateFormatter(template=template)\n",
    "\n",
    "columns = [ \n",
    "    TableColumn(field='marital_status', title=\"Marital Status\", formatter=get_html_formatter('marital_status')),\n",
    "    TableColumn(field='depression', title='Depression', formatter=get_html_formatter('depression')),\n",
    "    TableColumn(field='anxiety', title='Anxiety', formatter=get_html_formatter('anxiety')),\n",
    "    TableColumn(field='panic_attack', title='Panic Attack')\n",
    "]\n",
    "\n",
    "data_table = DataTable(source=data, columns=columns, width=800)\n",
    "\n",
    "output_file(filename='data_table.html')\n",
    "show(data_table)"
   ]
  },
  {
   "cell_type": "markdown",
   "metadata": {},
   "source": [
    "![](datatable.png)"
   ]
  },
  {
   "cell_type": "code",
   "execution_count": null,
   "metadata": {},
   "outputs": [],
   "source": []
  }
 ],
 "metadata": {
  "kernelspec": {
   "display_name": "Python 3.10.4 64-bit",
   "language": "python",
   "name": "python3"
  },
  "language_info": {
   "codemirror_mode": {
    "name": "ipython",
    "version": 3
   },
   "file_extension": ".py",
   "mimetype": "text/x-python",
   "name": "python",
   "nbconvert_exporter": "python",
   "pygments_lexer": "ipython3",
   "version": "3.10.4"
  },
  "orig_nbformat": 4,
  "vscode": {
   "interpreter": {
    "hash": "916dbcbb3f70747c44a77c7bcd40155683ae19c65e1c03b4aa3499c5328201f1"
   }
  }
 },
 "nbformat": 4,
 "nbformat_minor": 2
}
